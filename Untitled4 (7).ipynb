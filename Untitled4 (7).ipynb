{
 "cells": [
  {
   "cell_type": "code",
   "execution_count": 1796,
   "id": "52edca24",
   "metadata": {},
   "outputs": [
    {
     "name": "stdout",
     "output_type": "stream",
     "text": [
      "\u001b[33mWARNING: Error parsing dependencies of ipykernel: Expected matching RIGHT_PARENTHESIS for LEFT_PARENTHESIS, after version specifier\n",
      "    matplotlib-inline (<0.2.0appnope,>=0.1.0) ; platform_system == \"Darwin\"\n",
      "                      ~~~~~~~~^\u001b[0m\u001b[33m\n",
      "\u001b[0mRequirement already satisfied: scikit-learn in /opt/conda/lib/python3.9/site-packages (0.24.1)\n",
      "Collecting scikit-learn\n",
      "  Using cached scikit_learn-1.5.2-cp39-cp39-manylinux_2_17_x86_64.manylinux2014_x86_64.whl.metadata (13 kB)\n",
      "\u001b[31mERROR: Could not find a version that satisfies the requirement 1.3.1 (from versions: none)\u001b[0m\u001b[31m\n",
      "\u001b[0m\u001b[31mERROR: No matching distribution found for 1.3.1\u001b[0m\u001b[31m\n",
      "\u001b[0mRequirement already satisfied: pip in /opt/conda/lib/python3.9/site-packages (24.2)\n",
      "\u001b[33mWARNING: Error parsing dependencies of ipykernel: Expected matching RIGHT_PARENTHESIS for LEFT_PARENTHESIS, after version specifier\n",
      "    matplotlib-inline (<0.2.0appnope,>=0.1.0) ; platform_system == \"Darwin\"\n",
      "                      ~~~~~~~~^\u001b[0m\u001b[33m\n",
      "\u001b[0m\u001b[33mWARNING: Error parsing dependencies of ipykernel: Expected matching RIGHT_PARENTHESIS for LEFT_PARENTHESIS, after version specifier\n",
      "    matplotlib-inline (<0.2.0appnope,>=0.1.0) ; platform_system == \"Darwin\"\n",
      "                      ~~~~~~~~^\u001b[0m\u001b[33m\n",
      "\u001b[0m"
     ]
    }
   ],
   "source": [
    "import pandas as pd\n",
    "import numpy as np\n",
    "import sklearn\n",
    "import matplotlib\n",
    "from matplotlib import pyplot as plt\n",
    "from sklearn.model_selection import train_test_split\n",
    "!pip install phik -q\n",
    "import phik\n",
    "import seaborn as sns\n",
    "from phik import phik_matrix\n",
    "from phik.report import plot_correlation_matrix\n",
    "from sklearn.metrics import  mean_squared_error\n",
    "from sklearn.pipeline import Pipeline\n",
    "from sklearn.model_selection import cross_val_score\n",
    "from sklearn.compose import ColumnTransformer\n",
    "from sklearn.linear_model import LogisticRegression, LinearRegression\n",
    "from sklearn.model_selection import train_test_split \n",
    "!pip install --upgrade scikit-learn 1.3.1\n",
    "!pip install --upgrade pip\n",
    "!pip install shap -q\n",
    "import warnings\n",
    "warnings.filterwarnings(\"ignore\")"
   ]
  },
  {
   "cell_type": "markdown",
   "id": "de9cc538",
   "metadata": {},
   "source": [
    "# 1 Изучение данных #"
   ]
  },
  {
   "cell_type": "code",
   "execution_count": 1797,
   "id": "8d57bdf2",
   "metadata": {},
   "outputs": [],
   "source": [
    "contract = pd.read_csv('/datasets/contract_new.csv')\n",
    "personal = pd.read_csv('/datasets/personal_new.csv')\n",
    "internet = pd.read_csv('/datasets/internet_new.csv')\n",
    "phone = pd.read_csv('/datasets/phone_new.csv')\n"
   ]
  },
  {
   "cell_type": "code",
   "execution_count": 1798,
   "id": "3d477379",
   "metadata": {},
   "outputs": [
    {
     "data": {
      "text/html": [
       "<div>\n",
       "<style scoped>\n",
       "    .dataframe tbody tr th:only-of-type {\n",
       "        vertical-align: middle;\n",
       "    }\n",
       "\n",
       "    .dataframe tbody tr th {\n",
       "        vertical-align: top;\n",
       "    }\n",
       "\n",
       "    .dataframe thead th {\n",
       "        text-align: right;\n",
       "    }\n",
       "</style>\n",
       "<table border=\"1\" class=\"dataframe\">\n",
       "  <thead>\n",
       "    <tr style=\"text-align: right;\">\n",
       "      <th></th>\n",
       "      <th>customerID</th>\n",
       "      <th>BeginDate</th>\n",
       "      <th>EndDate</th>\n",
       "      <th>Type</th>\n",
       "      <th>PaperlessBilling</th>\n",
       "      <th>PaymentMethod</th>\n",
       "      <th>MonthlyCharges</th>\n",
       "      <th>TotalCharges</th>\n",
       "    </tr>\n",
       "  </thead>\n",
       "  <tbody>\n",
       "    <tr>\n",
       "      <th>0</th>\n",
       "      <td>7590-VHVEG</td>\n",
       "      <td>2020-01-01</td>\n",
       "      <td>No</td>\n",
       "      <td>Month-to-month</td>\n",
       "      <td>Yes</td>\n",
       "      <td>Electronic check</td>\n",
       "      <td>29.85</td>\n",
       "      <td>31.04</td>\n",
       "    </tr>\n",
       "    <tr>\n",
       "      <th>1</th>\n",
       "      <td>5575-GNVDE</td>\n",
       "      <td>2017-04-01</td>\n",
       "      <td>No</td>\n",
       "      <td>One year</td>\n",
       "      <td>No</td>\n",
       "      <td>Mailed check</td>\n",
       "      <td>56.95</td>\n",
       "      <td>2071.84</td>\n",
       "    </tr>\n",
       "    <tr>\n",
       "      <th>2</th>\n",
       "      <td>3668-QPYBK</td>\n",
       "      <td>2019-10-01</td>\n",
       "      <td>No</td>\n",
       "      <td>Month-to-month</td>\n",
       "      <td>Yes</td>\n",
       "      <td>Mailed check</td>\n",
       "      <td>53.85</td>\n",
       "      <td>226.17</td>\n",
       "    </tr>\n",
       "    <tr>\n",
       "      <th>3</th>\n",
       "      <td>7795-CFOCW</td>\n",
       "      <td>2016-05-01</td>\n",
       "      <td>No</td>\n",
       "      <td>One year</td>\n",
       "      <td>No</td>\n",
       "      <td>Bank transfer (automatic)</td>\n",
       "      <td>42.30</td>\n",
       "      <td>1960.6</td>\n",
       "    </tr>\n",
       "    <tr>\n",
       "      <th>4</th>\n",
       "      <td>9237-HQITU</td>\n",
       "      <td>2019-09-01</td>\n",
       "      <td>No</td>\n",
       "      <td>Month-to-month</td>\n",
       "      <td>Yes</td>\n",
       "      <td>Electronic check</td>\n",
       "      <td>70.70</td>\n",
       "      <td>353.5</td>\n",
       "    </tr>\n",
       "  </tbody>\n",
       "</table>\n",
       "</div>"
      ],
      "text/plain": [
       "   customerID   BeginDate EndDate            Type PaperlessBilling  \\\n",
       "0  7590-VHVEG  2020-01-01      No  Month-to-month              Yes   \n",
       "1  5575-GNVDE  2017-04-01      No        One year               No   \n",
       "2  3668-QPYBK  2019-10-01      No  Month-to-month              Yes   \n",
       "3  7795-CFOCW  2016-05-01      No        One year               No   \n",
       "4  9237-HQITU  2019-09-01      No  Month-to-month              Yes   \n",
       "\n",
       "               PaymentMethod  MonthlyCharges TotalCharges  \n",
       "0           Electronic check           29.85        31.04  \n",
       "1               Mailed check           56.95      2071.84  \n",
       "2               Mailed check           53.85       226.17  \n",
       "3  Bank transfer (automatic)           42.30       1960.6  \n",
       "4           Electronic check           70.70        353.5  "
      ]
     },
     "execution_count": 1798,
     "metadata": {},
     "output_type": "execute_result"
    }
   ],
   "source": [
    "contract.head()"
   ]
  },
  {
   "cell_type": "markdown",
   "id": "37be2ad3",
   "metadata": {},
   "source": [
    "*На первый взгляд все нормально. Единтвенное нужно привести названия колонок к нижнему и змеиному регистрам.*"
   ]
  },
  {
   "cell_type": "markdown",
   "id": "f4dc0aaf",
   "metadata": {},
   "source": [
    "*Изучим общую информацию о датафрейме методом info()*"
   ]
  },
  {
   "cell_type": "code",
   "execution_count": 1799,
   "id": "a101fda8",
   "metadata": {},
   "outputs": [
    {
     "name": "stdout",
     "output_type": "stream",
     "text": [
      "<class 'pandas.core.frame.DataFrame'>\n",
      "RangeIndex: 7043 entries, 0 to 7042\n",
      "Data columns (total 8 columns):\n",
      " #   Column            Non-Null Count  Dtype  \n",
      "---  ------            --------------  -----  \n",
      " 0   customerID        7043 non-null   object \n",
      " 1   BeginDate         7043 non-null   object \n",
      " 2   EndDate           7043 non-null   object \n",
      " 3   Type              7043 non-null   object \n",
      " 4   PaperlessBilling  7043 non-null   object \n",
      " 5   PaymentMethod     7043 non-null   object \n",
      " 6   MonthlyCharges    7043 non-null   float64\n",
      " 7   TotalCharges      7043 non-null   object \n",
      "dtypes: float64(1), object(7)\n",
      "memory usage: 440.3+ KB\n"
     ]
    }
   ],
   "source": [
    "contract.info()"
   ]
  },
  {
   "cell_type": "markdown",
   "id": "7740276e",
   "metadata": {},
   "source": [
    "*На первый взгляд видно, что пропусков нет, таблица содержит 7043 строки, не везде правильно указан тип данных. После изучения всех датафреймов В столбце общих расходов клиента тип данных object - изменим на int().*"
   ]
  },
  {
   "cell_type": "code",
   "execution_count": 1800,
   "id": "9917c196",
   "metadata": {},
   "outputs": [
    {
     "data": {
      "text/html": [
       "<div>\n",
       "<style scoped>\n",
       "    .dataframe tbody tr th:only-of-type {\n",
       "        vertical-align: middle;\n",
       "    }\n",
       "\n",
       "    .dataframe tbody tr th {\n",
       "        vertical-align: top;\n",
       "    }\n",
       "\n",
       "    .dataframe thead th {\n",
       "        text-align: right;\n",
       "    }\n",
       "</style>\n",
       "<table border=\"1\" class=\"dataframe\">\n",
       "  <thead>\n",
       "    <tr style=\"text-align: right;\">\n",
       "      <th></th>\n",
       "      <th>customerID</th>\n",
       "      <th>gender</th>\n",
       "      <th>SeniorCitizen</th>\n",
       "      <th>Partner</th>\n",
       "      <th>Dependents</th>\n",
       "    </tr>\n",
       "  </thead>\n",
       "  <tbody>\n",
       "    <tr>\n",
       "      <th>0</th>\n",
       "      <td>7590-VHVEG</td>\n",
       "      <td>Female</td>\n",
       "      <td>0</td>\n",
       "      <td>Yes</td>\n",
       "      <td>No</td>\n",
       "    </tr>\n",
       "    <tr>\n",
       "      <th>1</th>\n",
       "      <td>5575-GNVDE</td>\n",
       "      <td>Male</td>\n",
       "      <td>0</td>\n",
       "      <td>No</td>\n",
       "      <td>No</td>\n",
       "    </tr>\n",
       "    <tr>\n",
       "      <th>2</th>\n",
       "      <td>3668-QPYBK</td>\n",
       "      <td>Male</td>\n",
       "      <td>0</td>\n",
       "      <td>No</td>\n",
       "      <td>No</td>\n",
       "    </tr>\n",
       "    <tr>\n",
       "      <th>3</th>\n",
       "      <td>7795-CFOCW</td>\n",
       "      <td>Male</td>\n",
       "      <td>0</td>\n",
       "      <td>No</td>\n",
       "      <td>No</td>\n",
       "    </tr>\n",
       "    <tr>\n",
       "      <th>4</th>\n",
       "      <td>9237-HQITU</td>\n",
       "      <td>Female</td>\n",
       "      <td>0</td>\n",
       "      <td>No</td>\n",
       "      <td>No</td>\n",
       "    </tr>\n",
       "  </tbody>\n",
       "</table>\n",
       "</div>"
      ],
      "text/plain": [
       "   customerID  gender  SeniorCitizen Partner Dependents\n",
       "0  7590-VHVEG  Female              0     Yes         No\n",
       "1  5575-GNVDE    Male              0      No         No\n",
       "2  3668-QPYBK    Male              0      No         No\n",
       "3  7795-CFOCW    Male              0      No         No\n",
       "4  9237-HQITU  Female              0      No         No"
      ]
     },
     "execution_count": 1800,
     "metadata": {},
     "output_type": "execute_result"
    }
   ],
   "source": [
    "personal.head()"
   ]
  },
  {
   "cell_type": "code",
   "execution_count": 1801,
   "id": "120c5f09",
   "metadata": {},
   "outputs": [
    {
     "name": "stdout",
     "output_type": "stream",
     "text": [
      "<class 'pandas.core.frame.DataFrame'>\n",
      "RangeIndex: 7043 entries, 0 to 7042\n",
      "Data columns (total 5 columns):\n",
      " #   Column         Non-Null Count  Dtype \n",
      "---  ------         --------------  ----- \n",
      " 0   customerID     7043 non-null   object\n",
      " 1   gender         7043 non-null   object\n",
      " 2   SeniorCitizen  7043 non-null   int64 \n",
      " 3   Partner        7043 non-null   object\n",
      " 4   Dependents     7043 non-null   object\n",
      "dtypes: int64(1), object(4)\n",
      "memory usage: 275.2+ KB\n"
     ]
    }
   ],
   "source": [
    "personal.info()"
   ]
  },
  {
   "cell_type": "markdown",
   "id": "6b43e35b",
   "metadata": {},
   "source": [
    "*Тут все нормально, кроме змеиного регситра*"
   ]
  },
  {
   "cell_type": "code",
   "execution_count": 1802,
   "id": "2fb71e9a",
   "metadata": {},
   "outputs": [
    {
     "data": {
      "text/html": [
       "<div>\n",
       "<style scoped>\n",
       "    .dataframe tbody tr th:only-of-type {\n",
       "        vertical-align: middle;\n",
       "    }\n",
       "\n",
       "    .dataframe tbody tr th {\n",
       "        vertical-align: top;\n",
       "    }\n",
       "\n",
       "    .dataframe thead th {\n",
       "        text-align: right;\n",
       "    }\n",
       "</style>\n",
       "<table border=\"1\" class=\"dataframe\">\n",
       "  <thead>\n",
       "    <tr style=\"text-align: right;\">\n",
       "      <th></th>\n",
       "      <th>customerID</th>\n",
       "      <th>InternetService</th>\n",
       "      <th>OnlineSecurity</th>\n",
       "      <th>OnlineBackup</th>\n",
       "      <th>DeviceProtection</th>\n",
       "      <th>TechSupport</th>\n",
       "      <th>StreamingTV</th>\n",
       "      <th>StreamingMovies</th>\n",
       "    </tr>\n",
       "  </thead>\n",
       "  <tbody>\n",
       "    <tr>\n",
       "      <th>0</th>\n",
       "      <td>7590-VHVEG</td>\n",
       "      <td>DSL</td>\n",
       "      <td>No</td>\n",
       "      <td>Yes</td>\n",
       "      <td>No</td>\n",
       "      <td>No</td>\n",
       "      <td>No</td>\n",
       "      <td>No</td>\n",
       "    </tr>\n",
       "    <tr>\n",
       "      <th>1</th>\n",
       "      <td>5575-GNVDE</td>\n",
       "      <td>DSL</td>\n",
       "      <td>Yes</td>\n",
       "      <td>No</td>\n",
       "      <td>Yes</td>\n",
       "      <td>No</td>\n",
       "      <td>No</td>\n",
       "      <td>No</td>\n",
       "    </tr>\n",
       "    <tr>\n",
       "      <th>2</th>\n",
       "      <td>3668-QPYBK</td>\n",
       "      <td>DSL</td>\n",
       "      <td>Yes</td>\n",
       "      <td>Yes</td>\n",
       "      <td>No</td>\n",
       "      <td>No</td>\n",
       "      <td>No</td>\n",
       "      <td>No</td>\n",
       "    </tr>\n",
       "    <tr>\n",
       "      <th>3</th>\n",
       "      <td>7795-CFOCW</td>\n",
       "      <td>DSL</td>\n",
       "      <td>Yes</td>\n",
       "      <td>No</td>\n",
       "      <td>Yes</td>\n",
       "      <td>Yes</td>\n",
       "      <td>No</td>\n",
       "      <td>No</td>\n",
       "    </tr>\n",
       "    <tr>\n",
       "      <th>4</th>\n",
       "      <td>9237-HQITU</td>\n",
       "      <td>Fiber optic</td>\n",
       "      <td>No</td>\n",
       "      <td>No</td>\n",
       "      <td>No</td>\n",
       "      <td>No</td>\n",
       "      <td>No</td>\n",
       "      <td>No</td>\n",
       "    </tr>\n",
       "  </tbody>\n",
       "</table>\n",
       "</div>"
      ],
      "text/plain": [
       "   customerID InternetService OnlineSecurity OnlineBackup DeviceProtection  \\\n",
       "0  7590-VHVEG             DSL             No          Yes               No   \n",
       "1  5575-GNVDE             DSL            Yes           No              Yes   \n",
       "2  3668-QPYBK             DSL            Yes          Yes               No   \n",
       "3  7795-CFOCW             DSL            Yes           No              Yes   \n",
       "4  9237-HQITU     Fiber optic             No           No               No   \n",
       "\n",
       "  TechSupport StreamingTV StreamingMovies  \n",
       "0          No          No              No  \n",
       "1          No          No              No  \n",
       "2          No          No              No  \n",
       "3         Yes          No              No  \n",
       "4          No          No              No  "
      ]
     },
     "execution_count": 1802,
     "metadata": {},
     "output_type": "execute_result"
    }
   ],
   "source": [
    "internet.head()"
   ]
  },
  {
   "cell_type": "markdown",
   "id": "c12bd446",
   "metadata": {},
   "source": [
    "*Тут приведем названия колонок к нижнему регитсру.*"
   ]
  },
  {
   "cell_type": "code",
   "execution_count": 1803,
   "id": "b981f69e",
   "metadata": {},
   "outputs": [
    {
     "name": "stdout",
     "output_type": "stream",
     "text": [
      "<class 'pandas.core.frame.DataFrame'>\n",
      "RangeIndex: 5517 entries, 0 to 5516\n",
      "Data columns (total 8 columns):\n",
      " #   Column            Non-Null Count  Dtype \n",
      "---  ------            --------------  ----- \n",
      " 0   customerID        5517 non-null   object\n",
      " 1   InternetService   5517 non-null   object\n",
      " 2   OnlineSecurity    5517 non-null   object\n",
      " 3   OnlineBackup      5517 non-null   object\n",
      " 4   DeviceProtection  5517 non-null   object\n",
      " 5   TechSupport       5517 non-null   object\n",
      " 6   StreamingTV       5517 non-null   object\n",
      " 7   StreamingMovies   5517 non-null   object\n",
      "dtypes: object(8)\n",
      "memory usage: 344.9+ KB\n"
     ]
    }
   ],
   "source": [
    "internet.info()"
   ]
  },
  {
   "cell_type": "code",
   "execution_count": 1804,
   "id": "c5726b9c",
   "metadata": {},
   "outputs": [
    {
     "data": {
      "text/html": [
       "<div>\n",
       "<style scoped>\n",
       "    .dataframe tbody tr th:only-of-type {\n",
       "        vertical-align: middle;\n",
       "    }\n",
       "\n",
       "    .dataframe tbody tr th {\n",
       "        vertical-align: top;\n",
       "    }\n",
       "\n",
       "    .dataframe thead th {\n",
       "        text-align: right;\n",
       "    }\n",
       "</style>\n",
       "<table border=\"1\" class=\"dataframe\">\n",
       "  <thead>\n",
       "    <tr style=\"text-align: right;\">\n",
       "      <th></th>\n",
       "      <th>customerID</th>\n",
       "      <th>MultipleLines</th>\n",
       "    </tr>\n",
       "  </thead>\n",
       "  <tbody>\n",
       "    <tr>\n",
       "      <th>0</th>\n",
       "      <td>5575-GNVDE</td>\n",
       "      <td>No</td>\n",
       "    </tr>\n",
       "    <tr>\n",
       "      <th>1</th>\n",
       "      <td>3668-QPYBK</td>\n",
       "      <td>No</td>\n",
       "    </tr>\n",
       "    <tr>\n",
       "      <th>2</th>\n",
       "      <td>9237-HQITU</td>\n",
       "      <td>No</td>\n",
       "    </tr>\n",
       "    <tr>\n",
       "      <th>3</th>\n",
       "      <td>9305-CDSKC</td>\n",
       "      <td>Yes</td>\n",
       "    </tr>\n",
       "    <tr>\n",
       "      <th>4</th>\n",
       "      <td>1452-KIOVK</td>\n",
       "      <td>Yes</td>\n",
       "    </tr>\n",
       "  </tbody>\n",
       "</table>\n",
       "</div>"
      ],
      "text/plain": [
       "   customerID MultipleLines\n",
       "0  5575-GNVDE            No\n",
       "1  3668-QPYBK            No\n",
       "2  9237-HQITU            No\n",
       "3  9305-CDSKC           Yes\n",
       "4  1452-KIOVK           Yes"
      ]
     },
     "execution_count": 1804,
     "metadata": {},
     "output_type": "execute_result"
    }
   ],
   "source": [
    "phone.head()"
   ]
  },
  {
   "cell_type": "markdown",
   "id": "1de122e3",
   "metadata": {},
   "source": [
    "*Аналогично и тут приведем названия колонок к нижнему регистру.*"
   ]
  },
  {
   "cell_type": "code",
   "execution_count": 1805,
   "id": "e09e44cc",
   "metadata": {},
   "outputs": [
    {
     "name": "stdout",
     "output_type": "stream",
     "text": [
      "<class 'pandas.core.frame.DataFrame'>\n",
      "RangeIndex: 6361 entries, 0 to 6360\n",
      "Data columns (total 2 columns):\n",
      " #   Column         Non-Null Count  Dtype \n",
      "---  ------         --------------  ----- \n",
      " 0   customerID     6361 non-null   object\n",
      " 1   MultipleLines  6361 non-null   object\n",
      "dtypes: object(2)\n",
      "memory usage: 99.5+ KB\n"
     ]
    }
   ],
   "source": [
    "phone.info()"
   ]
  },
  {
   "cell_type": "markdown",
   "id": "ba6ae7be",
   "metadata": {},
   "source": [
    "# 2 Предобработка данных #"
   ]
  },
  {
   "cell_type": "markdown",
   "id": "7ccf2899",
   "metadata": {},
   "source": [
    "*Приведем в таблице contracts названия колонок к нижнему и змеиному регистрам*"
   ]
  },
  {
   "cell_type": "code",
   "execution_count": 1806,
   "id": "cda88d75",
   "metadata": {},
   "outputs": [],
   "source": [
    "contract.columns = contract.columns.str.lower()"
   ]
  },
  {
   "cell_type": "code",
   "execution_count": 1807,
   "id": "5a6b24d3",
   "metadata": {},
   "outputs": [
    {
     "data": {
      "text/html": [
       "<div>\n",
       "<style scoped>\n",
       "    .dataframe tbody tr th:only-of-type {\n",
       "        vertical-align: middle;\n",
       "    }\n",
       "\n",
       "    .dataframe tbody tr th {\n",
       "        vertical-align: top;\n",
       "    }\n",
       "\n",
       "    .dataframe thead th {\n",
       "        text-align: right;\n",
       "    }\n",
       "</style>\n",
       "<table border=\"1\" class=\"dataframe\">\n",
       "  <thead>\n",
       "    <tr style=\"text-align: right;\">\n",
       "      <th></th>\n",
       "      <th>customerid</th>\n",
       "      <th>begindate</th>\n",
       "      <th>enddate</th>\n",
       "      <th>type</th>\n",
       "      <th>paperlessbilling</th>\n",
       "      <th>paymentmethod</th>\n",
       "      <th>monthlycharges</th>\n",
       "      <th>totalcharges</th>\n",
       "    </tr>\n",
       "  </thead>\n",
       "  <tbody>\n",
       "    <tr>\n",
       "      <th>0</th>\n",
       "      <td>7590-VHVEG</td>\n",
       "      <td>2020-01-01</td>\n",
       "      <td>No</td>\n",
       "      <td>Month-to-month</td>\n",
       "      <td>Yes</td>\n",
       "      <td>Electronic check</td>\n",
       "      <td>29.85</td>\n",
       "      <td>31.04</td>\n",
       "    </tr>\n",
       "    <tr>\n",
       "      <th>1</th>\n",
       "      <td>5575-GNVDE</td>\n",
       "      <td>2017-04-01</td>\n",
       "      <td>No</td>\n",
       "      <td>One year</td>\n",
       "      <td>No</td>\n",
       "      <td>Mailed check</td>\n",
       "      <td>56.95</td>\n",
       "      <td>2071.84</td>\n",
       "    </tr>\n",
       "    <tr>\n",
       "      <th>2</th>\n",
       "      <td>3668-QPYBK</td>\n",
       "      <td>2019-10-01</td>\n",
       "      <td>No</td>\n",
       "      <td>Month-to-month</td>\n",
       "      <td>Yes</td>\n",
       "      <td>Mailed check</td>\n",
       "      <td>53.85</td>\n",
       "      <td>226.17</td>\n",
       "    </tr>\n",
       "    <tr>\n",
       "      <th>3</th>\n",
       "      <td>7795-CFOCW</td>\n",
       "      <td>2016-05-01</td>\n",
       "      <td>No</td>\n",
       "      <td>One year</td>\n",
       "      <td>No</td>\n",
       "      <td>Bank transfer (automatic)</td>\n",
       "      <td>42.30</td>\n",
       "      <td>1960.6</td>\n",
       "    </tr>\n",
       "    <tr>\n",
       "      <th>4</th>\n",
       "      <td>9237-HQITU</td>\n",
       "      <td>2019-09-01</td>\n",
       "      <td>No</td>\n",
       "      <td>Month-to-month</td>\n",
       "      <td>Yes</td>\n",
       "      <td>Electronic check</td>\n",
       "      <td>70.70</td>\n",
       "      <td>353.5</td>\n",
       "    </tr>\n",
       "    <tr>\n",
       "      <th>...</th>\n",
       "      <td>...</td>\n",
       "      <td>...</td>\n",
       "      <td>...</td>\n",
       "      <td>...</td>\n",
       "      <td>...</td>\n",
       "      <td>...</td>\n",
       "      <td>...</td>\n",
       "      <td>...</td>\n",
       "    </tr>\n",
       "    <tr>\n",
       "      <th>7038</th>\n",
       "      <td>6840-RESVB</td>\n",
       "      <td>2018-02-01</td>\n",
       "      <td>No</td>\n",
       "      <td>One year</td>\n",
       "      <td>Yes</td>\n",
       "      <td>Mailed check</td>\n",
       "      <td>84.80</td>\n",
       "      <td>2035.2</td>\n",
       "    </tr>\n",
       "    <tr>\n",
       "      <th>7039</th>\n",
       "      <td>2234-XADUH</td>\n",
       "      <td>2014-02-01</td>\n",
       "      <td>No</td>\n",
       "      <td>One year</td>\n",
       "      <td>Yes</td>\n",
       "      <td>Credit card (automatic)</td>\n",
       "      <td>103.20</td>\n",
       "      <td>7430.4</td>\n",
       "    </tr>\n",
       "    <tr>\n",
       "      <th>7040</th>\n",
       "      <td>4801-JZAZL</td>\n",
       "      <td>2019-03-01</td>\n",
       "      <td>No</td>\n",
       "      <td>Month-to-month</td>\n",
       "      <td>Yes</td>\n",
       "      <td>Electronic check</td>\n",
       "      <td>29.60</td>\n",
       "      <td>325.6</td>\n",
       "    </tr>\n",
       "    <tr>\n",
       "      <th>7041</th>\n",
       "      <td>8361-LTMKD</td>\n",
       "      <td>2019-07-01</td>\n",
       "      <td>No</td>\n",
       "      <td>Month-to-month</td>\n",
       "      <td>Yes</td>\n",
       "      <td>Mailed check</td>\n",
       "      <td>74.40</td>\n",
       "      <td>520.8</td>\n",
       "    </tr>\n",
       "    <tr>\n",
       "      <th>7042</th>\n",
       "      <td>3186-AJIEK</td>\n",
       "      <td>2014-08-01</td>\n",
       "      <td>No</td>\n",
       "      <td>Two year</td>\n",
       "      <td>Yes</td>\n",
       "      <td>Bank transfer (automatic)</td>\n",
       "      <td>105.65</td>\n",
       "      <td>7251.82</td>\n",
       "    </tr>\n",
       "  </tbody>\n",
       "</table>\n",
       "<p>7043 rows × 8 columns</p>\n",
       "</div>"
      ],
      "text/plain": [
       "      customerid   begindate enddate            type paperlessbilling  \\\n",
       "0     7590-VHVEG  2020-01-01      No  Month-to-month              Yes   \n",
       "1     5575-GNVDE  2017-04-01      No        One year               No   \n",
       "2     3668-QPYBK  2019-10-01      No  Month-to-month              Yes   \n",
       "3     7795-CFOCW  2016-05-01      No        One year               No   \n",
       "4     9237-HQITU  2019-09-01      No  Month-to-month              Yes   \n",
       "...          ...         ...     ...             ...              ...   \n",
       "7038  6840-RESVB  2018-02-01      No        One year              Yes   \n",
       "7039  2234-XADUH  2014-02-01      No        One year              Yes   \n",
       "7040  4801-JZAZL  2019-03-01      No  Month-to-month              Yes   \n",
       "7041  8361-LTMKD  2019-07-01      No  Month-to-month              Yes   \n",
       "7042  3186-AJIEK  2014-08-01      No        Two year              Yes   \n",
       "\n",
       "                  paymentmethod  monthlycharges totalcharges  \n",
       "0              Electronic check           29.85        31.04  \n",
       "1                  Mailed check           56.95      2071.84  \n",
       "2                  Mailed check           53.85       226.17  \n",
       "3     Bank transfer (automatic)           42.30       1960.6  \n",
       "4              Electronic check           70.70        353.5  \n",
       "...                         ...             ...          ...  \n",
       "7038               Mailed check           84.80       2035.2  \n",
       "7039    Credit card (automatic)          103.20       7430.4  \n",
       "7040           Electronic check           29.60        325.6  \n",
       "7041               Mailed check           74.40        520.8  \n",
       "7042  Bank transfer (automatic)          105.65      7251.82  \n",
       "\n",
       "[7043 rows x 8 columns]"
      ]
     },
     "execution_count": 1807,
     "metadata": {},
     "output_type": "execute_result"
    }
   ],
   "source": [
    "contract"
   ]
  },
  {
   "cell_type": "code",
   "execution_count": 1808,
   "id": "0f4f64a9",
   "metadata": {},
   "outputs": [],
   "source": [
    "contract = contract.rename(columns={'customerid': 'customer_id', 'begindate': 'begin_date',\t'enddate': 'end_date', 'paperlessbilling': 'paper_less_billing', 'paymentmethod': 'payment_method', 'monthlycharges': 'monthly_charges', 'totalcharges': 'total_charges'})"
   ]
  },
  {
   "cell_type": "code",
   "execution_count": 1809,
   "id": "6214ff8e",
   "metadata": {},
   "outputs": [],
   "source": [
    "contract['total_charges'] = pd.to_numeric(contract['total_charges'], errors='coerce')"
   ]
  },
  {
   "cell_type": "code",
   "execution_count": 1810,
   "id": "4dc106b7",
   "metadata": {},
   "outputs": [
    {
     "data": {
      "text/plain": [
       "0         31.04\n",
       "1       2071.84\n",
       "2        226.17\n",
       "3       1960.60\n",
       "4        353.50\n",
       "         ...   \n",
       "7038    2035.20\n",
       "7039    7430.40\n",
       "7040     325.60\n",
       "7041     520.80\n",
       "7042    7251.82\n",
       "Name: total_charges, Length: 7043, dtype: float64"
      ]
     },
     "execution_count": 1810,
     "metadata": {},
     "output_type": "execute_result"
    }
   ],
   "source": [
    "contract['total_charges'].astype('float')"
   ]
  },
  {
   "cell_type": "code",
   "execution_count": 1811,
   "id": "5d538a4c",
   "metadata": {},
   "outputs": [
    {
     "data": {
      "text/html": [
       "<div>\n",
       "<style scoped>\n",
       "    .dataframe tbody tr th:only-of-type {\n",
       "        vertical-align: middle;\n",
       "    }\n",
       "\n",
       "    .dataframe tbody tr th {\n",
       "        vertical-align: top;\n",
       "    }\n",
       "\n",
       "    .dataframe thead th {\n",
       "        text-align: right;\n",
       "    }\n",
       "</style>\n",
       "<table border=\"1\" class=\"dataframe\">\n",
       "  <thead>\n",
       "    <tr style=\"text-align: right;\">\n",
       "      <th></th>\n",
       "      <th>customer_id</th>\n",
       "      <th>begin_date</th>\n",
       "      <th>end_date</th>\n",
       "      <th>type</th>\n",
       "      <th>paper_less_billing</th>\n",
       "      <th>payment_method</th>\n",
       "      <th>monthly_charges</th>\n",
       "      <th>total_charges</th>\n",
       "    </tr>\n",
       "  </thead>\n",
       "  <tbody>\n",
       "    <tr>\n",
       "      <th>0</th>\n",
       "      <td>7590-VHVEG</td>\n",
       "      <td>2020-01-01</td>\n",
       "      <td>No</td>\n",
       "      <td>Month-to-month</td>\n",
       "      <td>Yes</td>\n",
       "      <td>Electronic check</td>\n",
       "      <td>29.85</td>\n",
       "      <td>31.04</td>\n",
       "    </tr>\n",
       "    <tr>\n",
       "      <th>1</th>\n",
       "      <td>5575-GNVDE</td>\n",
       "      <td>2017-04-01</td>\n",
       "      <td>No</td>\n",
       "      <td>One year</td>\n",
       "      <td>No</td>\n",
       "      <td>Mailed check</td>\n",
       "      <td>56.95</td>\n",
       "      <td>2071.84</td>\n",
       "    </tr>\n",
       "    <tr>\n",
       "      <th>2</th>\n",
       "      <td>3668-QPYBK</td>\n",
       "      <td>2019-10-01</td>\n",
       "      <td>No</td>\n",
       "      <td>Month-to-month</td>\n",
       "      <td>Yes</td>\n",
       "      <td>Mailed check</td>\n",
       "      <td>53.85</td>\n",
       "      <td>226.17</td>\n",
       "    </tr>\n",
       "    <tr>\n",
       "      <th>3</th>\n",
       "      <td>7795-CFOCW</td>\n",
       "      <td>2016-05-01</td>\n",
       "      <td>No</td>\n",
       "      <td>One year</td>\n",
       "      <td>No</td>\n",
       "      <td>Bank transfer (automatic)</td>\n",
       "      <td>42.30</td>\n",
       "      <td>1960.60</td>\n",
       "    </tr>\n",
       "    <tr>\n",
       "      <th>4</th>\n",
       "      <td>9237-HQITU</td>\n",
       "      <td>2019-09-01</td>\n",
       "      <td>No</td>\n",
       "      <td>Month-to-month</td>\n",
       "      <td>Yes</td>\n",
       "      <td>Electronic check</td>\n",
       "      <td>70.70</td>\n",
       "      <td>353.50</td>\n",
       "    </tr>\n",
       "  </tbody>\n",
       "</table>\n",
       "</div>"
      ],
      "text/plain": [
       "  customer_id  begin_date end_date            type paper_less_billing  \\\n",
       "0  7590-VHVEG  2020-01-01       No  Month-to-month                Yes   \n",
       "1  5575-GNVDE  2017-04-01       No        One year                 No   \n",
       "2  3668-QPYBK  2019-10-01       No  Month-to-month                Yes   \n",
       "3  7795-CFOCW  2016-05-01       No        One year                 No   \n",
       "4  9237-HQITU  2019-09-01       No  Month-to-month                Yes   \n",
       "\n",
       "              payment_method  monthly_charges  total_charges  \n",
       "0           Electronic check            29.85          31.04  \n",
       "1               Mailed check            56.95        2071.84  \n",
       "2               Mailed check            53.85         226.17  \n",
       "3  Bank transfer (automatic)            42.30        1960.60  \n",
       "4           Electronic check            70.70         353.50  "
      ]
     },
     "execution_count": 1811,
     "metadata": {},
     "output_type": "execute_result"
    }
   ],
   "source": [
    "contract.head()"
   ]
  },
  {
   "cell_type": "code",
   "execution_count": 1812,
   "id": "8ba2103e",
   "metadata": {},
   "outputs": [
    {
     "name": "stdout",
     "output_type": "stream",
     "text": [
      "<class 'pandas.core.frame.DataFrame'>\n",
      "RangeIndex: 7043 entries, 0 to 7042\n",
      "Data columns (total 8 columns):\n",
      " #   Column              Non-Null Count  Dtype  \n",
      "---  ------              --------------  -----  \n",
      " 0   customer_id         7043 non-null   object \n",
      " 1   begin_date          7043 non-null   object \n",
      " 2   end_date            7043 non-null   object \n",
      " 3   type                7043 non-null   object \n",
      " 4   paper_less_billing  7043 non-null   object \n",
      " 5   payment_method      7043 non-null   object \n",
      " 6   monthly_charges     7043 non-null   float64\n",
      " 7   total_charges       7032 non-null   float64\n",
      "dtypes: float64(2), object(6)\n",
      "memory usage: 440.3+ KB\n"
     ]
    }
   ],
   "source": [
    "contract.info()"
   ]
  },
  {
   "cell_type": "code",
   "execution_count": 1813,
   "id": "8ccf8238",
   "metadata": {},
   "outputs": [],
   "source": [
    "personal = personal.rename(columns={'customerID': 'customer_id', 'SeniorCitizen': 'senior_citizen'}) # привели название колонки к змеиному регистру"
   ]
  },
  {
   "cell_type": "code",
   "execution_count": 1814,
   "id": "4da4b325",
   "metadata": {},
   "outputs": [],
   "source": [
    "personal.columns = personal.columns.str.lower() # затем привели все названия колонок к нижнему регистру методом lower()."
   ]
  },
  {
   "cell_type": "code",
   "execution_count": 1815,
   "id": "ddba732c",
   "metadata": {},
   "outputs": [
    {
     "data": {
      "text/html": [
       "<div>\n",
       "<style scoped>\n",
       "    .dataframe tbody tr th:only-of-type {\n",
       "        vertical-align: middle;\n",
       "    }\n",
       "\n",
       "    .dataframe tbody tr th {\n",
       "        vertical-align: top;\n",
       "    }\n",
       "\n",
       "    .dataframe thead th {\n",
       "        text-align: right;\n",
       "    }\n",
       "</style>\n",
       "<table border=\"1\" class=\"dataframe\">\n",
       "  <thead>\n",
       "    <tr style=\"text-align: right;\">\n",
       "      <th></th>\n",
       "      <th>customer_id</th>\n",
       "      <th>gender</th>\n",
       "      <th>senior_citizen</th>\n",
       "      <th>partner</th>\n",
       "      <th>dependents</th>\n",
       "    </tr>\n",
       "  </thead>\n",
       "  <tbody>\n",
       "    <tr>\n",
       "      <th>0</th>\n",
       "      <td>7590-VHVEG</td>\n",
       "      <td>Female</td>\n",
       "      <td>0</td>\n",
       "      <td>Yes</td>\n",
       "      <td>No</td>\n",
       "    </tr>\n",
       "    <tr>\n",
       "      <th>1</th>\n",
       "      <td>5575-GNVDE</td>\n",
       "      <td>Male</td>\n",
       "      <td>0</td>\n",
       "      <td>No</td>\n",
       "      <td>No</td>\n",
       "    </tr>\n",
       "    <tr>\n",
       "      <th>2</th>\n",
       "      <td>3668-QPYBK</td>\n",
       "      <td>Male</td>\n",
       "      <td>0</td>\n",
       "      <td>No</td>\n",
       "      <td>No</td>\n",
       "    </tr>\n",
       "    <tr>\n",
       "      <th>3</th>\n",
       "      <td>7795-CFOCW</td>\n",
       "      <td>Male</td>\n",
       "      <td>0</td>\n",
       "      <td>No</td>\n",
       "      <td>No</td>\n",
       "    </tr>\n",
       "    <tr>\n",
       "      <th>4</th>\n",
       "      <td>9237-HQITU</td>\n",
       "      <td>Female</td>\n",
       "      <td>0</td>\n",
       "      <td>No</td>\n",
       "      <td>No</td>\n",
       "    </tr>\n",
       "  </tbody>\n",
       "</table>\n",
       "</div>"
      ],
      "text/plain": [
       "  customer_id  gender  senior_citizen partner dependents\n",
       "0  7590-VHVEG  Female               0     Yes         No\n",
       "1  5575-GNVDE    Male               0      No         No\n",
       "2  3668-QPYBK    Male               0      No         No\n",
       "3  7795-CFOCW    Male               0      No         No\n",
       "4  9237-HQITU  Female               0      No         No"
      ]
     },
     "execution_count": 1815,
     "metadata": {},
     "output_type": "execute_result"
    }
   ],
   "source": [
    "personal.head()"
   ]
  },
  {
   "cell_type": "code",
   "execution_count": 1816,
   "id": "86a09269",
   "metadata": {},
   "outputs": [],
   "source": [
    "internet = internet.rename(columns={'customerID': 'customer_id', 'InternetService': 'internet_service', 'OnlineSecurity': 'online_security', 'OnlineBackup': 'online_backup', \"DeviceProtection\": 'device_protection', \"TechSupport\": 'tech_support', 'StreamingTV': 'streaming_tv', 'StreamingMovies': 'streaming_movies'})"
   ]
  },
  {
   "cell_type": "code",
   "execution_count": 1817,
   "id": "6e1c598a",
   "metadata": {},
   "outputs": [
    {
     "data": {
      "text/html": [
       "<div>\n",
       "<style scoped>\n",
       "    .dataframe tbody tr th:only-of-type {\n",
       "        vertical-align: middle;\n",
       "    }\n",
       "\n",
       "    .dataframe tbody tr th {\n",
       "        vertical-align: top;\n",
       "    }\n",
       "\n",
       "    .dataframe thead th {\n",
       "        text-align: right;\n",
       "    }\n",
       "</style>\n",
       "<table border=\"1\" class=\"dataframe\">\n",
       "  <thead>\n",
       "    <tr style=\"text-align: right;\">\n",
       "      <th></th>\n",
       "      <th>customer_id</th>\n",
       "      <th>internet_service</th>\n",
       "      <th>online_security</th>\n",
       "      <th>online_backup</th>\n",
       "      <th>device_protection</th>\n",
       "      <th>tech_support</th>\n",
       "      <th>streaming_tv</th>\n",
       "      <th>streaming_movies</th>\n",
       "    </tr>\n",
       "  </thead>\n",
       "  <tbody>\n",
       "    <tr>\n",
       "      <th>0</th>\n",
       "      <td>7590-VHVEG</td>\n",
       "      <td>DSL</td>\n",
       "      <td>No</td>\n",
       "      <td>Yes</td>\n",
       "      <td>No</td>\n",
       "      <td>No</td>\n",
       "      <td>No</td>\n",
       "      <td>No</td>\n",
       "    </tr>\n",
       "    <tr>\n",
       "      <th>1</th>\n",
       "      <td>5575-GNVDE</td>\n",
       "      <td>DSL</td>\n",
       "      <td>Yes</td>\n",
       "      <td>No</td>\n",
       "      <td>Yes</td>\n",
       "      <td>No</td>\n",
       "      <td>No</td>\n",
       "      <td>No</td>\n",
       "    </tr>\n",
       "    <tr>\n",
       "      <th>2</th>\n",
       "      <td>3668-QPYBK</td>\n",
       "      <td>DSL</td>\n",
       "      <td>Yes</td>\n",
       "      <td>Yes</td>\n",
       "      <td>No</td>\n",
       "      <td>No</td>\n",
       "      <td>No</td>\n",
       "      <td>No</td>\n",
       "    </tr>\n",
       "    <tr>\n",
       "      <th>3</th>\n",
       "      <td>7795-CFOCW</td>\n",
       "      <td>DSL</td>\n",
       "      <td>Yes</td>\n",
       "      <td>No</td>\n",
       "      <td>Yes</td>\n",
       "      <td>Yes</td>\n",
       "      <td>No</td>\n",
       "      <td>No</td>\n",
       "    </tr>\n",
       "    <tr>\n",
       "      <th>4</th>\n",
       "      <td>9237-HQITU</td>\n",
       "      <td>Fiber optic</td>\n",
       "      <td>No</td>\n",
       "      <td>No</td>\n",
       "      <td>No</td>\n",
       "      <td>No</td>\n",
       "      <td>No</td>\n",
       "      <td>No</td>\n",
       "    </tr>\n",
       "  </tbody>\n",
       "</table>\n",
       "</div>"
      ],
      "text/plain": [
       "  customer_id internet_service online_security online_backup  \\\n",
       "0  7590-VHVEG              DSL              No           Yes   \n",
       "1  5575-GNVDE              DSL             Yes            No   \n",
       "2  3668-QPYBK              DSL             Yes           Yes   \n",
       "3  7795-CFOCW              DSL             Yes            No   \n",
       "4  9237-HQITU      Fiber optic              No            No   \n",
       "\n",
       "  device_protection tech_support streaming_tv streaming_movies  \n",
       "0                No           No           No               No  \n",
       "1               Yes           No           No               No  \n",
       "2                No           No           No               No  \n",
       "3               Yes          Yes           No               No  \n",
       "4                No           No           No               No  "
      ]
     },
     "execution_count": 1817,
     "metadata": {},
     "output_type": "execute_result"
    }
   ],
   "source": [
    "internet.head()"
   ]
  },
  {
   "cell_type": "code",
   "execution_count": 1818,
   "id": "0f3f4d56",
   "metadata": {},
   "outputs": [],
   "source": [
    "phone = phone.rename(columns={'customerID': 'customer_id', 'MultipleLines': 'multiple_lines'})"
   ]
  },
  {
   "cell_type": "code",
   "execution_count": 1819,
   "id": "cb09b4e6",
   "metadata": {},
   "outputs": [
    {
     "data": {
      "text/html": [
       "<div>\n",
       "<style scoped>\n",
       "    .dataframe tbody tr th:only-of-type {\n",
       "        vertical-align: middle;\n",
       "    }\n",
       "\n",
       "    .dataframe tbody tr th {\n",
       "        vertical-align: top;\n",
       "    }\n",
       "\n",
       "    .dataframe thead th {\n",
       "        text-align: right;\n",
       "    }\n",
       "</style>\n",
       "<table border=\"1\" class=\"dataframe\">\n",
       "  <thead>\n",
       "    <tr style=\"text-align: right;\">\n",
       "      <th></th>\n",
       "      <th>customer_id</th>\n",
       "      <th>multiple_lines</th>\n",
       "    </tr>\n",
       "  </thead>\n",
       "  <tbody>\n",
       "    <tr>\n",
       "      <th>0</th>\n",
       "      <td>5575-GNVDE</td>\n",
       "      <td>No</td>\n",
       "    </tr>\n",
       "    <tr>\n",
       "      <th>1</th>\n",
       "      <td>3668-QPYBK</td>\n",
       "      <td>No</td>\n",
       "    </tr>\n",
       "    <tr>\n",
       "      <th>2</th>\n",
       "      <td>9237-HQITU</td>\n",
       "      <td>No</td>\n",
       "    </tr>\n",
       "    <tr>\n",
       "      <th>3</th>\n",
       "      <td>9305-CDSKC</td>\n",
       "      <td>Yes</td>\n",
       "    </tr>\n",
       "    <tr>\n",
       "      <th>4</th>\n",
       "      <td>1452-KIOVK</td>\n",
       "      <td>Yes</td>\n",
       "    </tr>\n",
       "  </tbody>\n",
       "</table>\n",
       "</div>"
      ],
      "text/plain": [
       "  customer_id multiple_lines\n",
       "0  5575-GNVDE             No\n",
       "1  3668-QPYBK             No\n",
       "2  9237-HQITU             No\n",
       "3  9305-CDSKC            Yes\n",
       "4  1452-KIOVK            Yes"
      ]
     },
     "execution_count": 1819,
     "metadata": {},
     "output_type": "execute_result"
    }
   ],
   "source": [
    "phone.head()"
   ]
  },
  {
   "cell_type": "markdown",
   "id": "4a912e00",
   "metadata": {},
   "source": [
    "Исследуем на пропуски каждый датафрейм в отдельности методом isna() и посчитаем их количество методом sum()."
   ]
  },
  {
   "cell_type": "code",
   "execution_count": 1820,
   "id": "00299b3a",
   "metadata": {},
   "outputs": [
    {
     "data": {
      "text/plain": [
       "customer_id            0\n",
       "begin_date             0\n",
       "end_date               0\n",
       "type                   0\n",
       "paper_less_billing     0\n",
       "payment_method         0\n",
       "monthly_charges        0\n",
       "total_charges         11\n",
       "dtype: int64"
      ]
     },
     "execution_count": 1820,
     "metadata": {},
     "output_type": "execute_result"
    }
   ],
   "source": [
    "contract.isna().sum()"
   ]
  },
  {
   "cell_type": "markdown",
   "id": "a1c533ee",
   "metadata": {},
   "source": [
    "пропусков в столбце total_charges всего 11 штук. Это менее одного процента всего фрейма данных, поэтому можно удалить."
   ]
  },
  {
   "cell_type": "code",
   "execution_count": 1821,
   "id": "1a126248",
   "metadata": {},
   "outputs": [],
   "source": [
    "contract = contract.dropna()"
   ]
  },
  {
   "cell_type": "code",
   "execution_count": 1822,
   "id": "251b4f83",
   "metadata": {},
   "outputs": [
    {
     "data": {
      "text/plain": [
       "customer_id       0\n",
       "gender            0\n",
       "senior_citizen    0\n",
       "partner           0\n",
       "dependents        0\n",
       "dtype: int64"
      ]
     },
     "execution_count": 1822,
     "metadata": {},
     "output_type": "execute_result"
    }
   ],
   "source": [
    "personal.isna().sum()"
   ]
  },
  {
   "cell_type": "code",
   "execution_count": 1823,
   "id": "fb22b075",
   "metadata": {},
   "outputs": [
    {
     "data": {
      "text/plain": [
       "customer_id          0\n",
       "internet_service     0\n",
       "online_security      0\n",
       "online_backup        0\n",
       "device_protection    0\n",
       "tech_support         0\n",
       "streaming_tv         0\n",
       "streaming_movies     0\n",
       "dtype: int64"
      ]
     },
     "execution_count": 1823,
     "metadata": {},
     "output_type": "execute_result"
    }
   ],
   "source": [
    "internet.isna().sum()"
   ]
  },
  {
   "cell_type": "code",
   "execution_count": 1824,
   "id": "5bc7bdf5",
   "metadata": {},
   "outputs": [
    {
     "data": {
      "text/plain": [
       "customer_id       0\n",
       "multiple_lines    0\n",
       "dtype: int64"
      ]
     },
     "execution_count": 1824,
     "metadata": {},
     "output_type": "execute_result"
    }
   ],
   "source": [
    "phone.isna().sum()"
   ]
  },
  {
   "cell_type": "markdown",
   "id": "eba0569d",
   "metadata": {},
   "source": [
    "Вывод: Импортировали библиотеки, изучили данные, привели названия колонок к змеиному и нижнему регистру, изменили тип данных датафрейма о контрактах столбца общих расходов абонента 'total_charges' на тип данных 'float'. Исследовали таблицы на пропуски. Удалили 11 пропусков в таблице contract."
   ]
  },
  {
   "cell_type": "markdown",
   "id": "6af12797",
   "metadata": {},
   "source": [
    "# 3 Исследовательский анализ данных #"
   ]
  },
  {
   "cell_type": "markdown",
   "id": "f770f727",
   "metadata": {},
   "source": [
    "*Посмотрим уникальные значения столбцов каждого датафрейма*"
   ]
  },
  {
   "cell_type": "code",
   "execution_count": 1825,
   "id": "39bb7739",
   "metadata": {},
   "outputs": [
    {
     "data": {
      "text/plain": [
       "Index(['customer_id', 'begin_date', 'end_date', 'type', 'paper_less_billing',\n",
       "       'payment_method', 'monthly_charges', 'total_charges'],\n",
       "      dtype='object')"
      ]
     },
     "execution_count": 1825,
     "metadata": {},
     "output_type": "execute_result"
    }
   ],
   "source": [
    "contract.columns"
   ]
  },
  {
   "cell_type": "code",
   "execution_count": 1826,
   "id": "91ff6ccf",
   "metadata": {},
   "outputs": [
    {
     "data": {
      "text/plain": [
       "array(['7590-VHVEG', '5575-GNVDE', '3668-QPYBK', ..., '4801-JZAZL',\n",
       "       '8361-LTMKD', '3186-AJIEK'], dtype=object)"
      ]
     },
     "execution_count": 1826,
     "metadata": {},
     "output_type": "execute_result"
    }
   ],
   "source": [
    "contract['customer_id'].unique()"
   ]
  },
  {
   "cell_type": "code",
   "execution_count": 1827,
   "id": "81509fb1",
   "metadata": {},
   "outputs": [
    {
     "data": {
      "text/plain": [
       "array(['2020-01-01', '2017-04-01', '2019-10-01', '2016-05-01',\n",
       "       '2019-09-01', '2019-03-01', '2018-04-01', '2019-04-01',\n",
       "       '2017-07-01', '2014-12-01', '2019-01-01', '2018-10-01',\n",
       "       '2015-04-01', '2015-09-01', '2018-01-01', '2014-05-01',\n",
       "       '2015-10-01', '2014-03-01', '2018-05-01', '2019-11-01',\n",
       "       '2019-02-01', '2016-01-01', '2017-08-01', '2015-12-01',\n",
       "       '2014-02-01', '2018-06-01', '2019-12-01', '2017-11-01',\n",
       "       '2019-06-01', '2016-04-01', '2017-02-01', '2018-12-01',\n",
       "       '2014-04-01', '2018-09-01', '2014-11-01', '2016-07-01',\n",
       "       '2015-02-01', '2018-07-01', '2014-08-01', '2016-03-01',\n",
       "       '2018-08-01', '2014-10-01', '2015-06-01', '2016-08-01',\n",
       "       '2019-05-01', '2017-03-01', '2016-02-01', '2017-09-01',\n",
       "       '2014-09-01', '2017-12-01', '2016-12-01', '2017-06-01',\n",
       "       '2015-05-01', '2016-10-01', '2016-09-01', '2019-08-01',\n",
       "       '2019-07-01', '2017-05-01', '2017-10-01', '2014-07-01',\n",
       "       '2018-03-01', '2015-01-01', '2018-11-01', '2015-03-01',\n",
       "       '2018-02-01', '2016-06-01', '2015-08-01', '2015-11-01',\n",
       "       '2014-06-01', '2017-01-01', '2015-07-01', '2016-11-01',\n",
       "       '2013-11-01', '2014-01-01', '2013-10-01', '2013-12-01'],\n",
       "      dtype=object)"
      ]
     },
     "execution_count": 1827,
     "metadata": {},
     "output_type": "execute_result"
    }
   ],
   "source": [
    "contract['begin_date'].unique()"
   ]
  },
  {
   "cell_type": "code",
   "execution_count": 1828,
   "id": "5b5be019",
   "metadata": {},
   "outputs": [
    {
     "data": {
      "text/plain": [
       "array(['No', '2017-05-01', '2016-03-01', '2018-09-01', '2018-11-01',\n",
       "       '2018-12-01', '2019-08-01', '2018-07-01', '2017-09-01',\n",
       "       '2015-09-01', '2016-07-01', '2016-06-01', '2018-03-01',\n",
       "       '2019-02-01', '2018-06-01', '2019-06-01', '2020-01-01',\n",
       "       '2019-11-01', '2016-09-01', '2015-06-01', '2016-12-01',\n",
       "       '2019-05-01', '2019-04-01', '2017-06-01', '2017-08-01',\n",
       "       '2018-04-01', '2018-08-01', '2018-02-01', '2019-07-01',\n",
       "       '2015-12-01', '2014-06-01', '2018-10-01', '2019-01-01',\n",
       "       '2017-07-01', '2017-12-01', '2018-05-01', '2015-11-01',\n",
       "       '2019-10-01', '2019-03-01', '2016-02-01', '2016-10-01',\n",
       "       '2018-01-01', '2017-11-01', '2015-10-01', '2019-12-01',\n",
       "       '2015-07-01', '2017-04-01', '2015-02-01', '2017-03-01',\n",
       "       '2016-05-01', '2016-11-01', '2015-08-01', '2019-09-01',\n",
       "       '2017-10-01', '2017-02-01', '2016-08-01', '2016-04-01',\n",
       "       '2015-05-01', '2014-09-01', '2014-10-01', '2017-01-01',\n",
       "       '2015-03-01', '2015-01-01', '2016-01-01', '2015-04-01',\n",
       "       '2014-12-01', '2014-11-01'], dtype=object)"
      ]
     },
     "execution_count": 1828,
     "metadata": {},
     "output_type": "execute_result"
    }
   ],
   "source": [
    "contract['end_date'].unique()"
   ]
  },
  {
   "cell_type": "code",
   "execution_count": 1829,
   "id": "7c63cb42",
   "metadata": {},
   "outputs": [
    {
     "data": {
      "text/plain": [
       "array(['Month-to-month', 'One year', 'Two year'], dtype=object)"
      ]
     },
     "execution_count": 1829,
     "metadata": {},
     "output_type": "execute_result"
    }
   ],
   "source": [
    "contract['type'].unique()"
   ]
  },
  {
   "cell_type": "code",
   "execution_count": 1830,
   "id": "5f49729c",
   "metadata": {},
   "outputs": [
    {
     "data": {
      "text/plain": [
       "array(['Yes', 'No'], dtype=object)"
      ]
     },
     "execution_count": 1830,
     "metadata": {},
     "output_type": "execute_result"
    }
   ],
   "source": [
    "contract['paper_less_billing'].unique()"
   ]
  },
  {
   "cell_type": "code",
   "execution_count": 1831,
   "id": "f0adfe82",
   "metadata": {},
   "outputs": [
    {
     "data": {
      "text/plain": [
       "array(['Electronic check', 'Mailed check', 'Bank transfer (automatic)',\n",
       "       'Credit card (automatic)'], dtype=object)"
      ]
     },
     "execution_count": 1831,
     "metadata": {},
     "output_type": "execute_result"
    }
   ],
   "source": [
    "contract['payment_method'].unique()"
   ]
  },
  {
   "cell_type": "code",
   "execution_count": 1832,
   "id": "3fcc92b2",
   "metadata": {},
   "outputs": [
    {
     "data": {
      "text/plain": [
       "array([29.85, 56.95, 53.85, ..., 63.1 , 44.2 , 78.7 ])"
      ]
     },
     "execution_count": 1832,
     "metadata": {},
     "output_type": "execute_result"
    }
   ],
   "source": [
    "contract['monthly_charges'].unique()\n"
   ]
  },
  {
   "cell_type": "code",
   "execution_count": 1833,
   "id": "ac9afd70",
   "metadata": {},
   "outputs": [
    {
     "data": {
      "text/plain": [
       "array([  31.04, 2071.84,  226.17, ...,  325.6 ,  520.8 , 7251.82])"
      ]
     },
     "execution_count": 1833,
     "metadata": {},
     "output_type": "execute_result"
    }
   ],
   "source": [
    "contract['total_charges'].unique()"
   ]
  },
  {
   "cell_type": "markdown",
   "id": "61ba8700",
   "metadata": {},
   "source": [
    "На первый взгляд все в порядке, неявных дубликатов нет, посмотрим на явные дубликаты етодом duplicated().sum()."
   ]
  },
  {
   "cell_type": "code",
   "execution_count": 1834,
   "id": "7ec79e6b",
   "metadata": {},
   "outputs": [
    {
     "data": {
      "text/plain": [
       "0"
      ]
     },
     "execution_count": 1834,
     "metadata": {},
     "output_type": "execute_result"
    }
   ],
   "source": [
    "contract.duplicated().sum()"
   ]
  },
  {
   "cell_type": "markdown",
   "id": "3d867b07",
   "metadata": {},
   "source": [
    "Явных дубликатов тоже нет"
   ]
  },
  {
   "cell_type": "markdown",
   "id": "f69c115d",
   "metadata": {},
   "source": [
    "Построим графики для наглядности количественных и категориальных переменных."
   ]
  },
  {
   "cell_type": "markdown",
   "id": "7b34ff6c",
   "metadata": {},
   "source": [
    "Из количественных возьмем колонки с месячными расходами и общими расходами, остальные не понадобятся. Будем использовать гистограммы."
   ]
  },
  {
   "cell_type": "code",
   "execution_count": 1835,
   "id": "668db4d5",
   "metadata": {},
   "outputs": [
    {
     "data": {
      "image/png": "[encoded data removed]",
      "text/plain": [
       "<Figure size 1080x720 with 1 Axes>"
      ]
     },
     "metadata": {
      "needs_background": "light"
     },
     "output_type": "display_data"
    }
   ],
   "source": [
    "contract['monthly_charges'].hist(figsize=(15, 10))\n",
    "plt.xlabel('Месячные расходы клиентов')\n",
    "plt.ylabel('Количество')\n",
    "plt.title('Распределение месячных расходов клиентов')\n",
    "plt.show();"
   ]
  },
  {
   "cell_type": "markdown",
   "id": "7fabfbf4",
   "metadata": {},
   "source": [
    "В основном расходы клиентов лежат в интервале от 40 до 120 тысяч. у количества клиентов от 400 до 800.  Но есть также расходы в промежутке от 20 до 30 тыс. у 1600 клиентов."
   ]
  },
  {
   "cell_type": "code",
   "execution_count": 1836,
   "id": "06817934",
   "metadata": {},
   "outputs": [
    {
     "data": {
      "image/png": "[encoded data removed]",
      "text/plain": [
       "<Figure size 1080x720 with 1 Axes>"
      ]
     },
     "metadata": {
      "needs_background": "light"
     },
     "output_type": "display_data"
    }
   ],
   "source": [
    "contract['total_charges'].hist(figsize=(15, 10))\n",
    "plt.xlabel('Общие расходы клиентов')\n",
    "plt.ylabel('Количество')\n",
    "plt.title('Распределение общих расходов клиентов')\n",
    "plt.show();"
   ]
  },
  {
   "cell_type": "markdown",
   "id": "58fbab17",
   "metadata": {},
   "source": [
    "С общими расходами немного другая ситуация. тут разброс от 0 до 8000. При этом с расходами от 0 до 4000 примерно одинаковое количество клиентов - 500. Далее на графике видно, чем больше расходов после 4000, тем меньше количество таких клиентов. Все, что больше 8000 можно отнести к выбросам."
   ]
  },
  {
   "cell_type": "markdown",
   "id": "adf3e428",
   "metadata": {},
   "source": [
    "Для категориальных переменных будем использовать круговые диаграммы."
   ]
  },
  {
   "cell_type": "code",
   "execution_count": 1837,
   "id": "14514ee3",
   "metadata": {},
   "outputs": [
    {
     "name": "stdout",
     "output_type": "stream",
     "text": [
      "<class 'pandas.core.frame.DataFrame'>\n",
      "Int64Index: 7032 entries, 0 to 7042\n",
      "Data columns (total 8 columns):\n",
      " #   Column              Non-Null Count  Dtype  \n",
      "---  ------              --------------  -----  \n",
      " 0   customer_id         7032 non-null   object \n",
      " 1   begin_date          7032 non-null   object \n",
      " 2   end_date            7032 non-null   object \n",
      " 3   type                7032 non-null   object \n",
      " 4   paper_less_billing  7032 non-null   object \n",
      " 5   payment_method      7032 non-null   object \n",
      " 6   monthly_charges     7032 non-null   float64\n",
      " 7   total_charges       7032 non-null   float64\n",
      "dtypes: float64(2), object(6)\n",
      "memory usage: 494.4+ KB\n"
     ]
    }
   ],
   "source": [
    "contract.info()"
   ]
  },
  {
   "cell_type": "code",
   "execution_count": 1838,
   "id": "7f8d3aef",
   "metadata": {},
   "outputs": [
    {
     "data": {
      "text/plain": [
       "array([<AxesSubplot:>], dtype=object)"
      ]
     },
     "execution_count": 1838,
     "metadata": {},
     "output_type": "execute_result"
    },
    {
     "data": {
      "image/png": "[encoded data removed]",
      "text/plain": [
       "<Figure size 1152x720 with 1 Axes>"
      ]
     },
     "metadata": {},
     "output_type": "display_data"
    }
   ],
   "source": [
    "contract.groupby('type')['customer_id'].count().sort_values().plot(kind='pie', figsize=(16, 10), cmap='summer', subplots=True, label='', legend=True, autopct='%1.0f%%', title='Тип оплаты')"
   ]
  },
  {
   "cell_type": "markdown",
   "id": "ddb55e2e",
   "metadata": {},
   "source": [
    "Из графика видно, что больше всего клиентов с помесячной оплатой - 55%, остальных, тоесть однолетников и двулетников примерно одинаково - 21% и 24% соответственно."
   ]
  },
  {
   "cell_type": "code",
   "execution_count": 1839,
   "id": "e431c2d4",
   "metadata": {},
   "outputs": [
    {
     "data": {
      "text/plain": [
       "array([<AxesSubplot:>], dtype=object)"
      ]
     },
     "execution_count": 1839,
     "metadata": {},
     "output_type": "execute_result"
    },
    {
     "data": {
      "image/png": "[encoded data removed]",
      "text/plain": [
       "<Figure size 1152x720 with 1 Axes>"
      ]
     },
     "metadata": {},
     "output_type": "display_data"
    }
   ],
   "source": [
    "contract.groupby('payment_method')['customer_id'].count().sort_values().plot(kind='pie', figsize=(16, 10), cmap='spring', subplots=True, label='', legend=True, autopct='%1.0f%%', title='метод оплаты')"
   ]
  },
  {
   "cell_type": "markdown",
   "id": "da76d19f",
   "metadata": {},
   "source": [
    "Больше всего клиентов с типом оплаты по электронному чеку - 34%, остальных, банковских переводов, кредитных карт и почтовых чеков одинаково - по 22% и 23%."
   ]
  },
  {
   "cell_type": "markdown",
   "id": "a03e98c7",
   "metadata": {},
   "source": [
    "Посмотрим на статистику методом describe"
   ]
  },
  {
   "cell_type": "code",
   "execution_count": 1840,
   "id": "2ffec362",
   "metadata": {},
   "outputs": [
    {
     "data": {
      "text/html": [
       "<div>\n",
       "<style scoped>\n",
       "    .dataframe tbody tr th:only-of-type {\n",
       "        vertical-align: middle;\n",
       "    }\n",
       "\n",
       "    .dataframe tbody tr th {\n",
       "        vertical-align: top;\n",
       "    }\n",
       "\n",
       "    .dataframe thead th {\n",
       "        text-align: right;\n",
       "    }\n",
       "</style>\n",
       "<table border=\"1\" class=\"dataframe\">\n",
       "  <thead>\n",
       "    <tr style=\"text-align: right;\">\n",
       "      <th></th>\n",
       "      <th>monthly_charges</th>\n",
       "      <th>total_charges</th>\n",
       "    </tr>\n",
       "  </thead>\n",
       "  <tbody>\n",
       "    <tr>\n",
       "      <th>count</th>\n",
       "      <td>7032.000000</td>\n",
       "      <td>7032.000000</td>\n",
       "    </tr>\n",
       "    <tr>\n",
       "      <th>mean</th>\n",
       "      <td>64.798208</td>\n",
       "      <td>2118.621822</td>\n",
       "    </tr>\n",
       "    <tr>\n",
       "      <th>std</th>\n",
       "      <td>30.085974</td>\n",
       "      <td>2112.736199</td>\n",
       "    </tr>\n",
       "    <tr>\n",
       "      <th>min</th>\n",
       "      <td>18.250000</td>\n",
       "      <td>19.050000</td>\n",
       "    </tr>\n",
       "    <tr>\n",
       "      <th>25%</th>\n",
       "      <td>35.587500</td>\n",
       "      <td>439.745000</td>\n",
       "    </tr>\n",
       "    <tr>\n",
       "      <th>50%</th>\n",
       "      <td>70.350000</td>\n",
       "      <td>1345.275000</td>\n",
       "    </tr>\n",
       "    <tr>\n",
       "      <th>75%</th>\n",
       "      <td>89.862500</td>\n",
       "      <td>3239.317500</td>\n",
       "    </tr>\n",
       "    <tr>\n",
       "      <th>max</th>\n",
       "      <td>118.750000</td>\n",
       "      <td>9221.380000</td>\n",
       "    </tr>\n",
       "  </tbody>\n",
       "</table>\n",
       "</div>"
      ],
      "text/plain": [
       "       monthly_charges  total_charges\n",
       "count      7032.000000    7032.000000\n",
       "mean         64.798208    2118.621822\n",
       "std          30.085974    2112.736199\n",
       "min          18.250000      19.050000\n",
       "25%          35.587500     439.745000\n",
       "50%          70.350000    1345.275000\n",
       "75%          89.862500    3239.317500\n",
       "max         118.750000    9221.380000"
      ]
     },
     "execution_count": 1840,
     "metadata": {},
     "output_type": "execute_result"
    }
   ],
   "source": [
    "contract.describe()"
   ]
  },
  {
   "cell_type": "code",
   "execution_count": 1841,
   "id": "475c23ea",
   "metadata": {},
   "outputs": [
    {
     "data": {
      "text/html": [
       "<div>\n",
       "<style scoped>\n",
       "    .dataframe tbody tr th:only-of-type {\n",
       "        vertical-align: middle;\n",
       "    }\n",
       "\n",
       "    .dataframe tbody tr th {\n",
       "        vertical-align: top;\n",
       "    }\n",
       "\n",
       "    .dataframe thead th {\n",
       "        text-align: right;\n",
       "    }\n",
       "</style>\n",
       "<table border=\"1\" class=\"dataframe\">\n",
       "  <thead>\n",
       "    <tr style=\"text-align: right;\">\n",
       "      <th></th>\n",
       "      <th>customer_id</th>\n",
       "      <th>gender</th>\n",
       "      <th>senior_citizen</th>\n",
       "      <th>partner</th>\n",
       "      <th>dependents</th>\n",
       "    </tr>\n",
       "  </thead>\n",
       "  <tbody>\n",
       "    <tr>\n",
       "      <th>0</th>\n",
       "      <td>7590-VHVEG</td>\n",
       "      <td>Female</td>\n",
       "      <td>0</td>\n",
       "      <td>Yes</td>\n",
       "      <td>No</td>\n",
       "    </tr>\n",
       "    <tr>\n",
       "      <th>1</th>\n",
       "      <td>5575-GNVDE</td>\n",
       "      <td>Male</td>\n",
       "      <td>0</td>\n",
       "      <td>No</td>\n",
       "      <td>No</td>\n",
       "    </tr>\n",
       "    <tr>\n",
       "      <th>2</th>\n",
       "      <td>3668-QPYBK</td>\n",
       "      <td>Male</td>\n",
       "      <td>0</td>\n",
       "      <td>No</td>\n",
       "      <td>No</td>\n",
       "    </tr>\n",
       "    <tr>\n",
       "      <th>3</th>\n",
       "      <td>7795-CFOCW</td>\n",
       "      <td>Male</td>\n",
       "      <td>0</td>\n",
       "      <td>No</td>\n",
       "      <td>No</td>\n",
       "    </tr>\n",
       "    <tr>\n",
       "      <th>4</th>\n",
       "      <td>9237-HQITU</td>\n",
       "      <td>Female</td>\n",
       "      <td>0</td>\n",
       "      <td>No</td>\n",
       "      <td>No</td>\n",
       "    </tr>\n",
       "  </tbody>\n",
       "</table>\n",
       "</div>"
      ],
      "text/plain": [
       "  customer_id  gender  senior_citizen partner dependents\n",
       "0  7590-VHVEG  Female               0     Yes         No\n",
       "1  5575-GNVDE    Male               0      No         No\n",
       "2  3668-QPYBK    Male               0      No         No\n",
       "3  7795-CFOCW    Male               0      No         No\n",
       "4  9237-HQITU  Female               0      No         No"
      ]
     },
     "execution_count": 1841,
     "metadata": {},
     "output_type": "execute_result"
    }
   ],
   "source": [
    "personal.head()"
   ]
  },
  {
   "cell_type": "code",
   "execution_count": 1842,
   "id": "12624b6c",
   "metadata": {},
   "outputs": [
    {
     "data": {
      "text/plain": [
       "Index(['customer_id', 'gender', 'senior_citizen', 'partner', 'dependents'], dtype='object')"
      ]
     },
     "execution_count": 1842,
     "metadata": {},
     "output_type": "execute_result"
    }
   ],
   "source": [
    "personal.columns"
   ]
  },
  {
   "cell_type": "code",
   "execution_count": 1843,
   "id": "e507b302",
   "metadata": {},
   "outputs": [
    {
     "data": {
      "text/plain": [
       "array(['Female', 'Male'], dtype=object)"
      ]
     },
     "execution_count": 1843,
     "metadata": {},
     "output_type": "execute_result"
    }
   ],
   "source": [
    "personal['gender'].unique()"
   ]
  },
  {
   "cell_type": "code",
   "execution_count": 1844,
   "id": "b2a6b8ac",
   "metadata": {},
   "outputs": [
    {
     "data": {
      "text/plain": [
       "array([0, 1])"
      ]
     },
     "execution_count": 1844,
     "metadata": {},
     "output_type": "execute_result"
    }
   ],
   "source": [
    "personal['senior_citizen'].unique()"
   ]
  },
  {
   "cell_type": "code",
   "execution_count": 1845,
   "id": "58f56acb",
   "metadata": {},
   "outputs": [
    {
     "data": {
      "text/plain": [
       "array(['Yes', 'No'], dtype=object)"
      ]
     },
     "execution_count": 1845,
     "metadata": {},
     "output_type": "execute_result"
    }
   ],
   "source": [
    "personal['partner'].unique()"
   ]
  },
  {
   "cell_type": "code",
   "execution_count": 1846,
   "id": "6c1fbe63",
   "metadata": {},
   "outputs": [
    {
     "data": {
      "text/plain": [
       "array(['No', 'Yes'], dtype=object)"
      ]
     },
     "execution_count": 1846,
     "metadata": {},
     "output_type": "execute_result"
    }
   ],
   "source": [
    "personal['dependents'].unique()"
   ]
  },
  {
   "cell_type": "markdown",
   "id": "eb6d3233",
   "metadata": {},
   "source": [
    "Тут все нормально, ошибок и неявных дубликатов нет. Проверим на пропуски и вные дубликаты."
   ]
  },
  {
   "cell_type": "code",
   "execution_count": 1847,
   "id": "8ba8fb2b",
   "metadata": {},
   "outputs": [
    {
     "data": {
      "text/plain": [
       "0"
      ]
     },
     "execution_count": 1847,
     "metadata": {},
     "output_type": "execute_result"
    }
   ],
   "source": [
    "personal.duplicated().sum()"
   ]
  },
  {
   "cell_type": "code",
   "execution_count": 1848,
   "id": "010b439e",
   "metadata": {},
   "outputs": [
    {
     "data": {
      "text/plain": [
       "customer_id       0\n",
       "gender            0\n",
       "senior_citizen    0\n",
       "partner           0\n",
       "dependents        0\n",
       "dtype: int64"
      ]
     },
     "execution_count": 1848,
     "metadata": {},
     "output_type": "execute_result"
    }
   ],
   "source": [
    "personal.isna().sum()"
   ]
  },
  {
   "cell_type": "code",
   "execution_count": 1849,
   "id": "40307809",
   "metadata": {},
   "outputs": [
    {
     "data": {
      "image/png": "[encoded data removed]",
      "text/plain": [
       "<Figure size 720x576 with 1 Axes>"
      ]
     },
     "metadata": {
      "needs_background": "light"
     },
     "output_type": "display_data"
    }
   ],
   "source": [
    "personal['senior_citizen'].hist(figsize=(10, 8), grid=True)\n",
    "plt.xlabel('статус пенсионера')\n",
    "plt.ylabel('количество')\n",
    "plt.title('распределение статусов пенсионера')\n",
    "plt.show()"
   ]
  },
  {
   "cell_type": "markdown",
   "id": "a5c01b03",
   "metadata": {},
   "source": [
    "Пенсионеров всего 1000 человек из 7000, остальные не пенсионеры"
   ]
  },
  {
   "cell_type": "code",
   "execution_count": 1850,
   "id": "f74af0dc",
   "metadata": {},
   "outputs": [
    {
     "data": {
      "text/plain": [
       "array([<AxesSubplot:>], dtype=object)"
      ]
     },
     "execution_count": 1850,
     "metadata": {},
     "output_type": "execute_result"
    },
    {
     "data": {
      "image/png": "[encoded data removed]",
      "text/plain": [
       "<Figure size 1152x720 with 1 Axes>"
      ]
     },
     "metadata": {},
     "output_type": "display_data"
    }
   ],
   "source": [
    "personal.groupby('partner')['customer_id'].count().sort_values().plot(kind='pie', figsize=(16, 10), cmap='plasma', subplots=True, label='', legend=True, autopct='%1.0f%%', title='семейный статус')"
   ]
  },
  {
   "cell_type": "markdown",
   "id": "7db47d92",
   "metadata": {},
   "source": [
    "Имеющих семейный статус и холостых примерно одинаково - 48% против 52%."
   ]
  },
  {
   "cell_type": "code",
   "execution_count": 1851,
   "id": "984706c0",
   "metadata": {},
   "outputs": [
    {
     "data": {
      "text/plain": [
       "array([<AxesSubplot:>], dtype=object)"
      ]
     },
     "execution_count": 1851,
     "metadata": {},
     "output_type": "execute_result"
    },
    {
     "data": {
      "image/png": "[encoded data removed]",
      "text/plain": [
       "<Figure size 1152x720 with 1 Axes>"
      ]
     },
     "metadata": {},
     "output_type": "display_data"
    }
   ],
   "source": [
    "personal.groupby('dependents')['customer_id'].count().sort_values().plot(kind='pie', figsize=(16, 10), cmap='RdBu', subplots=True, label='', legend=True, autopct='%1.0f%%', title='наличие детей')"
   ]
  },
  {
   "cell_type": "markdown",
   "id": "3ff42435",
   "metadata": {},
   "source": [
    "Всего 30% абонентов имеют детей."
   ]
  },
  {
   "cell_type": "code",
   "execution_count": 1852,
   "id": "2b350abd",
   "metadata": {},
   "outputs": [
    {
     "data": {
      "text/plain": [
       "Index(['customer_id', 'internet_service', 'online_security', 'online_backup',\n",
       "       'device_protection', 'tech_support', 'streaming_tv',\n",
       "       'streaming_movies'],\n",
       "      dtype='object')"
      ]
     },
     "execution_count": 1852,
     "metadata": {},
     "output_type": "execute_result"
    }
   ],
   "source": [
    "internet.columns"
   ]
  },
  {
   "cell_type": "code",
   "execution_count": 1853,
   "id": "78d47981",
   "metadata": {},
   "outputs": [
    {
     "data": {
      "text/plain": [
       "array(['7590-VHVEG', '5575-GNVDE', '3668-QPYBK', ..., '4801-JZAZL',\n",
       "       '8361-LTMKD', '3186-AJIEK'], dtype=object)"
      ]
     },
     "execution_count": 1853,
     "metadata": {},
     "output_type": "execute_result"
    }
   ],
   "source": [
    "internet['customer_id'].unique()"
   ]
  },
  {
   "cell_type": "code",
   "execution_count": 1854,
   "id": "c1dc22ed",
   "metadata": {},
   "outputs": [
    {
     "data": {
      "text/plain": [
       "array(['DSL', 'Fiber optic'], dtype=object)"
      ]
     },
     "execution_count": 1854,
     "metadata": {},
     "output_type": "execute_result"
    }
   ],
   "source": [
    "internet['internet_service'].unique()"
   ]
  },
  {
   "cell_type": "code",
   "execution_count": 1855,
   "id": "d8e9d517",
   "metadata": {},
   "outputs": [
    {
     "data": {
      "text/plain": [
       "array(['No', 'Yes'], dtype=object)"
      ]
     },
     "execution_count": 1855,
     "metadata": {},
     "output_type": "execute_result"
    }
   ],
   "source": [
    "internet['online_security'].unique()"
   ]
  },
  {
   "cell_type": "code",
   "execution_count": 1856,
   "id": "221cc39d",
   "metadata": {},
   "outputs": [
    {
     "data": {
      "text/plain": [
       "array(['Yes', 'No'], dtype=object)"
      ]
     },
     "execution_count": 1856,
     "metadata": {},
     "output_type": "execute_result"
    }
   ],
   "source": [
    "internet['online_backup'].unique()"
   ]
  },
  {
   "cell_type": "code",
   "execution_count": 1857,
   "id": "108702bd",
   "metadata": {},
   "outputs": [
    {
     "data": {
      "text/plain": [
       "array(['No', 'Yes'], dtype=object)"
      ]
     },
     "execution_count": 1857,
     "metadata": {},
     "output_type": "execute_result"
    }
   ],
   "source": [
    "internet['device_protection'].unique()"
   ]
  },
  {
   "cell_type": "code",
   "execution_count": 1858,
   "id": "1d4d191a",
   "metadata": {},
   "outputs": [
    {
     "data": {
      "text/plain": [
       "array(['No', 'Yes'], dtype=object)"
      ]
     },
     "execution_count": 1858,
     "metadata": {},
     "output_type": "execute_result"
    }
   ],
   "source": [
    "internet['tech_support'].unique()"
   ]
  },
  {
   "cell_type": "code",
   "execution_count": 1859,
   "id": "2defa7fa",
   "metadata": {},
   "outputs": [
    {
     "data": {
      "text/plain": [
       "array(['No', 'Yes'], dtype=object)"
      ]
     },
     "execution_count": 1859,
     "metadata": {},
     "output_type": "execute_result"
    }
   ],
   "source": [
    "internet['streaming_tv'].unique()"
   ]
  },
  {
   "cell_type": "code",
   "execution_count": 1860,
   "id": "0d187bee",
   "metadata": {},
   "outputs": [
    {
     "data": {
      "text/plain": [
       "array(['No', 'Yes'], dtype=object)"
      ]
     },
     "execution_count": 1860,
     "metadata": {},
     "output_type": "execute_result"
    }
   ],
   "source": [
    "internet['streaming_movies'].unique()"
   ]
  },
  {
   "cell_type": "markdown",
   "id": "de615b6a",
   "metadata": {},
   "source": [
    "Тут тоже все нормально. Неявных дубликатов нет."
   ]
  },
  {
   "cell_type": "code",
   "execution_count": 1861,
   "id": "c12c8c6e",
   "metadata": {},
   "outputs": [
    {
     "data": {
      "text/plain": [
       "0"
      ]
     },
     "execution_count": 1861,
     "metadata": {},
     "output_type": "execute_result"
    }
   ],
   "source": [
    "internet.duplicated().sum()"
   ]
  },
  {
   "cell_type": "code",
   "execution_count": 1862,
   "id": "bcdd8377",
   "metadata": {},
   "outputs": [
    {
     "data": {
      "text/plain": [
       "customer_id          0\n",
       "internet_service     0\n",
       "online_security      0\n",
       "online_backup        0\n",
       "device_protection    0\n",
       "tech_support         0\n",
       "streaming_tv         0\n",
       "streaming_movies     0\n",
       "dtype: int64"
      ]
     },
     "execution_count": 1862,
     "metadata": {},
     "output_type": "execute_result"
    }
   ],
   "source": [
    "internet.isna().sum()"
   ]
  },
  {
   "cell_type": "code",
   "execution_count": 1863,
   "id": "e678902b",
   "metadata": {},
   "outputs": [
    {
     "data": {
      "text/html": [
       "<div>\n",
       "<style scoped>\n",
       "    .dataframe tbody tr th:only-of-type {\n",
       "        vertical-align: middle;\n",
       "    }\n",
       "\n",
       "    .dataframe tbody tr th {\n",
       "        vertical-align: top;\n",
       "    }\n",
       "\n",
       "    .dataframe thead th {\n",
       "        text-align: right;\n",
       "    }\n",
       "</style>\n",
       "<table border=\"1\" class=\"dataframe\">\n",
       "  <thead>\n",
       "    <tr style=\"text-align: right;\">\n",
       "      <th></th>\n",
       "      <th>customer_id</th>\n",
       "      <th>internet_service</th>\n",
       "      <th>online_security</th>\n",
       "      <th>online_backup</th>\n",
       "      <th>device_protection</th>\n",
       "      <th>tech_support</th>\n",
       "      <th>streaming_tv</th>\n",
       "      <th>streaming_movies</th>\n",
       "    </tr>\n",
       "  </thead>\n",
       "  <tbody>\n",
       "    <tr>\n",
       "      <th>count</th>\n",
       "      <td>5517</td>\n",
       "      <td>5517</td>\n",
       "      <td>5517</td>\n",
       "      <td>5517</td>\n",
       "      <td>5517</td>\n",
       "      <td>5517</td>\n",
       "      <td>5517</td>\n",
       "      <td>5517</td>\n",
       "    </tr>\n",
       "    <tr>\n",
       "      <th>unique</th>\n",
       "      <td>5517</td>\n",
       "      <td>2</td>\n",
       "      <td>2</td>\n",
       "      <td>2</td>\n",
       "      <td>2</td>\n",
       "      <td>2</td>\n",
       "      <td>2</td>\n",
       "      <td>2</td>\n",
       "    </tr>\n",
       "    <tr>\n",
       "      <th>top</th>\n",
       "      <td>4080-OGPJL</td>\n",
       "      <td>Fiber optic</td>\n",
       "      <td>No</td>\n",
       "      <td>No</td>\n",
       "      <td>No</td>\n",
       "      <td>No</td>\n",
       "      <td>No</td>\n",
       "      <td>No</td>\n",
       "    </tr>\n",
       "    <tr>\n",
       "      <th>freq</th>\n",
       "      <td>1</td>\n",
       "      <td>3096</td>\n",
       "      <td>3498</td>\n",
       "      <td>3088</td>\n",
       "      <td>3095</td>\n",
       "      <td>3473</td>\n",
       "      <td>2810</td>\n",
       "      <td>2785</td>\n",
       "    </tr>\n",
       "  </tbody>\n",
       "</table>\n",
       "</div>"
      ],
      "text/plain": [
       "       customer_id internet_service online_security online_backup  \\\n",
       "count         5517             5517            5517          5517   \n",
       "unique        5517                2               2             2   \n",
       "top     4080-OGPJL      Fiber optic              No            No   \n",
       "freq             1             3096            3498          3088   \n",
       "\n",
       "       device_protection tech_support streaming_tv streaming_movies  \n",
       "count               5517         5517         5517             5517  \n",
       "unique                 2            2            2                2  \n",
       "top                   No           No           No               No  \n",
       "freq                3095         3473         2810             2785  "
      ]
     },
     "execution_count": 1863,
     "metadata": {},
     "output_type": "execute_result"
    }
   ],
   "source": [
    "internet.describe()"
   ]
  },
  {
   "cell_type": "code",
   "execution_count": 1864,
   "id": "1e81658f",
   "metadata": {},
   "outputs": [
    {
     "data": {
      "image/png": "[encoded data removed]",
      "text/plain": [
       "<Figure size 1080x720 with 1 Axes>"
      ]
     },
     "metadata": {
      "needs_background": "light"
     },
     "output_type": "display_data"
    }
   ],
   "source": [
    "internet['internet_service'].hist(figsize=(15, 10))\n",
    "plt.xlabel('тип подключения')\n",
    "plt.ylabel('количество')\n",
    "plt.title('тип подключения')\n",
    "plt.show()"
   ]
  },
  {
   "cell_type": "code",
   "execution_count": 1865,
   "id": "140a1799",
   "metadata": {},
   "outputs": [
    {
     "data": {
      "image/png": "[encoded data removed]",
      "text/plain": [
       "<Figure size 1080x720 with 1 Axes>"
      ]
     },
     "metadata": {
      "needs_background": "light"
     },
     "output_type": "display_data"
    }
   ],
   "source": [
    "internet['online_security'].hist(figsize=(15, 10))\n",
    "plt.xlabel('блокировка опасных сайтов')\n",
    "plt.ylabel('количество')\n",
    "plt.title('наличие блокировки опасных сайтов')\n",
    "plt.show()"
   ]
  },
  {
   "cell_type": "code",
   "execution_count": 1866,
   "id": "e63bede1",
   "metadata": {},
   "outputs": [
    {
     "data": {
      "image/png": "[encoded data removed]",
      "text/plain": [
       "<Figure size 1080x720 with 1 Axes>"
      ]
     },
     "metadata": {
      "needs_background": "light"
     },
     "output_type": "display_data"
    }
   ],
   "source": [
    "internet['device_protection'].hist(figsize=(15, 10))\n",
    "plt.xlabel('антивирус')\n",
    "plt.ylabel('количество')\n",
    "plt.title('наличие антивируса')\n",
    "plt.show();"
   ]
  },
  {
   "cell_type": "code",
   "execution_count": 1867,
   "id": "0decaec0",
   "metadata": {},
   "outputs": [
    {
     "data": {
      "image/png": "[encoded data removed]",
      "text/plain": [
       "<Figure size 1080x720 with 1 Axes>"
      ]
     },
     "metadata": {
      "needs_background": "light"
     },
     "output_type": "display_data"
    }
   ],
   "source": [
    "internet['online_backup'].hist(figsize=(15, 10))\n",
    "plt.xlabel('облачное хранилище для файлов')\n",
    "plt.ylabel('количество')\n",
    "plt.title('наличие облачного хранилища для файлов')\n",
    "plt.show()"
   ]
  },
  {
   "cell_type": "code",
   "execution_count": 1868,
   "id": "2467b6be",
   "metadata": {},
   "outputs": [
    {
     "data": {
      "image/png": "[encoded data removed]",
      "text/plain": [
       "<Figure size 1080x720 with 1 Axes>"
      ]
     },
     "metadata": {
      "needs_background": "light"
     },
     "output_type": "display_data"
    }
   ],
   "source": [
    "internet['tech_support'].hist(figsize=(15, 10))\n",
    "plt.xlabel('выделенная линия техподдержки')\n",
    "plt.ylabel('количество')\n",
    "plt.title('наличие выделенной линии техподдержки')\n",
    "plt.show()"
   ]
  },
  {
   "cell_type": "code",
   "execution_count": 1869,
   "id": "88972bad",
   "metadata": {},
   "outputs": [
    {
     "data": {
      "image/png": "[encoded data removed]",
      "text/plain": [
       "<Figure size 1080x720 with 1 Axes>"
      ]
     },
     "metadata": {
      "needs_background": "light"
     },
     "output_type": "display_data"
    }
   ],
   "source": [
    "internet['streaming_tv'].hist(figsize=(15, 10))\n",
    "plt.xlabel('стримингоеове тв')\n",
    "plt.ylabel('количество')\n",
    "plt.title('наличие стримингового тв')\n",
    "plt.show()"
   ]
  },
  {
   "cell_type": "code",
   "execution_count": 1870,
   "id": "73533c1d",
   "metadata": {},
   "outputs": [
    {
     "data": {
      "image/png": "[encoded data removed]",
      "text/plain": [
       "<Figure size 1080x720 with 1 Axes>"
      ]
     },
     "metadata": {
      "needs_background": "light"
     },
     "output_type": "display_data"
    }
   ],
   "source": [
    "internet['streaming_movies'].hist(figsize=(15, 10))\n",
    "plt.xlabel('каталог фильмов')\n",
    "plt.ylabel('количество')\n",
    "plt.title('наличие каталога фильмов')\n",
    "plt.show()"
   ]
  },
  {
   "cell_type": "code",
   "execution_count": 1871,
   "id": "01aef837",
   "metadata": {},
   "outputs": [
    {
     "data": {
      "text/plain": [
       "Index(['customer_id', 'multiple_lines'], dtype='object')"
      ]
     },
     "execution_count": 1871,
     "metadata": {},
     "output_type": "execute_result"
    }
   ],
   "source": [
    "phone.columns"
   ]
  },
  {
   "cell_type": "code",
   "execution_count": 1872,
   "id": "4397d2b2",
   "metadata": {},
   "outputs": [
    {
     "data": {
      "image/png": "[encoded data removed]",
      "text/plain": [
       "<Figure size 1080x720 with 1 Axes>"
      ]
     },
     "metadata": {
      "needs_background": "light"
     },
     "output_type": "display_data"
    }
   ],
   "source": [
    "phone['multiple_lines'].hist(figsize=(15, 10))\n",
    "plt.xlabel('подключение к обоим линиям')\n",
    "plt.ylabel('количество')\n",
    "plt.title('наличие подключения к обоим лияниям')\n",
    "plt.show()"
   ]
  },
  {
   "cell_type": "markdown",
   "id": "c823eae5",
   "metadata": {},
   "source": [
    "**Вывод по разделу 3: Провели исследовательский анализ данных, проверили все четыре таблицы на пропуски и дубликаты, убедились, что их нет, посмотрели на уникальные значения каждого столбца, проверили на неявные дубликаты, посмотрели на распределение количественных и категориальных признаков с помощью графиков. Проанализировали все признаки и пришли  выводу, что для дальнейшего обьединения датафреймов не ве признаки имеют значения. Например признаки 'дата зарытия договора', 'тип платежа' и 'электронный расчетный лист' таблицы 'contract', не понадбятся.**"
   ]
  },
  {
   "cell_type": "markdown",
   "id": "7da9829c",
   "metadata": {},
   "source": [
    "# 4 Объединение данных #"
   ]
  },
  {
   "cell_type": "markdown",
   "id": "e3d6fce3",
   "metadata": {},
   "source": [
    "Обьединим таблицы по ключу 'customer_id' и получим итоговый датафрейм для дальнейшего исследования. При этом уберем лишние признаки."
   ]
  },
  {
   "cell_type": "code",
   "execution_count": 1873,
   "id": "32c47785",
   "metadata": {},
   "outputs": [],
   "source": [
    "df_final = contract.drop(['paper_less_billing', 'payment_method'], axis=1).merge(personal, on='customer_id')\n",
    "df_final = df_final.merge(internet, on='customer_id')\n",
    "df_final = df_final.merge(phone, on='customer_id')"
   ]
  },
  {
   "cell_type": "code",
   "execution_count": 1874,
   "id": "c56c88b1",
   "metadata": {},
   "outputs": [
    {
     "data": {
      "text/html": [
       "<div>\n",
       "<style scoped>\n",
       "    .dataframe tbody tr th:only-of-type {\n",
       "        vertical-align: middle;\n",
       "    }\n",
       "\n",
       "    .dataframe tbody tr th {\n",
       "        vertical-align: top;\n",
       "    }\n",
       "\n",
       "    .dataframe thead th {\n",
       "        text-align: right;\n",
       "    }\n",
       "</style>\n",
       "<table border=\"1\" class=\"dataframe\">\n",
       "  <thead>\n",
       "    <tr style=\"text-align: right;\">\n",
       "      <th></th>\n",
       "      <th>customer_id</th>\n",
       "      <th>begin_date</th>\n",
       "      <th>end_date</th>\n",
       "      <th>type</th>\n",
       "      <th>monthly_charges</th>\n",
       "      <th>total_charges</th>\n",
       "      <th>gender</th>\n",
       "      <th>senior_citizen</th>\n",
       "      <th>partner</th>\n",
       "      <th>dependents</th>\n",
       "      <th>internet_service</th>\n",
       "      <th>online_security</th>\n",
       "      <th>online_backup</th>\n",
       "      <th>device_protection</th>\n",
       "      <th>tech_support</th>\n",
       "      <th>streaming_tv</th>\n",
       "      <th>streaming_movies</th>\n",
       "      <th>multiple_lines</th>\n",
       "    </tr>\n",
       "  </thead>\n",
       "  <tbody>\n",
       "    <tr>\n",
       "      <th>0</th>\n",
       "      <td>5575-GNVDE</td>\n",
       "      <td>2017-04-01</td>\n",
       "      <td>No</td>\n",
       "      <td>One year</td>\n",
       "      <td>56.95</td>\n",
       "      <td>2071.84</td>\n",
       "      <td>Male</td>\n",
       "      <td>0</td>\n",
       "      <td>No</td>\n",
       "      <td>No</td>\n",
       "      <td>DSL</td>\n",
       "      <td>Yes</td>\n",
       "      <td>No</td>\n",
       "      <td>Yes</td>\n",
       "      <td>No</td>\n",
       "      <td>No</td>\n",
       "      <td>No</td>\n",
       "      <td>No</td>\n",
       "    </tr>\n",
       "    <tr>\n",
       "      <th>1</th>\n",
       "      <td>3668-QPYBK</td>\n",
       "      <td>2019-10-01</td>\n",
       "      <td>No</td>\n",
       "      <td>Month-to-month</td>\n",
       "      <td>53.85</td>\n",
       "      <td>226.17</td>\n",
       "      <td>Male</td>\n",
       "      <td>0</td>\n",
       "      <td>No</td>\n",
       "      <td>No</td>\n",
       "      <td>DSL</td>\n",
       "      <td>Yes</td>\n",
       "      <td>Yes</td>\n",
       "      <td>No</td>\n",
       "      <td>No</td>\n",
       "      <td>No</td>\n",
       "      <td>No</td>\n",
       "      <td>No</td>\n",
       "    </tr>\n",
       "    <tr>\n",
       "      <th>2</th>\n",
       "      <td>9237-HQITU</td>\n",
       "      <td>2019-09-01</td>\n",
       "      <td>No</td>\n",
       "      <td>Month-to-month</td>\n",
       "      <td>70.70</td>\n",
       "      <td>353.50</td>\n",
       "      <td>Female</td>\n",
       "      <td>0</td>\n",
       "      <td>No</td>\n",
       "      <td>No</td>\n",
       "      <td>Fiber optic</td>\n",
       "      <td>No</td>\n",
       "      <td>No</td>\n",
       "      <td>No</td>\n",
       "      <td>No</td>\n",
       "      <td>No</td>\n",
       "      <td>No</td>\n",
       "      <td>No</td>\n",
       "    </tr>\n",
       "    <tr>\n",
       "      <th>3</th>\n",
       "      <td>9305-CDSKC</td>\n",
       "      <td>2019-03-01</td>\n",
       "      <td>No</td>\n",
       "      <td>Month-to-month</td>\n",
       "      <td>99.65</td>\n",
       "      <td>1150.96</td>\n",
       "      <td>Female</td>\n",
       "      <td>0</td>\n",
       "      <td>No</td>\n",
       "      <td>No</td>\n",
       "      <td>Fiber optic</td>\n",
       "      <td>No</td>\n",
       "      <td>No</td>\n",
       "      <td>Yes</td>\n",
       "      <td>No</td>\n",
       "      <td>Yes</td>\n",
       "      <td>Yes</td>\n",
       "      <td>Yes</td>\n",
       "    </tr>\n",
       "    <tr>\n",
       "      <th>4</th>\n",
       "      <td>1452-KIOVK</td>\n",
       "      <td>2018-04-01</td>\n",
       "      <td>No</td>\n",
       "      <td>Month-to-month</td>\n",
       "      <td>89.10</td>\n",
       "      <td>2058.21</td>\n",
       "      <td>Male</td>\n",
       "      <td>0</td>\n",
       "      <td>No</td>\n",
       "      <td>Yes</td>\n",
       "      <td>Fiber optic</td>\n",
       "      <td>No</td>\n",
       "      <td>Yes</td>\n",
       "      <td>No</td>\n",
       "      <td>No</td>\n",
       "      <td>Yes</td>\n",
       "      <td>No</td>\n",
       "      <td>Yes</td>\n",
       "    </tr>\n",
       "  </tbody>\n",
       "</table>\n",
       "</div>"
      ],
      "text/plain": [
       "  customer_id  begin_date end_date            type  monthly_charges  \\\n",
       "0  5575-GNVDE  2017-04-01       No        One year            56.95   \n",
       "1  3668-QPYBK  2019-10-01       No  Month-to-month            53.85   \n",
       "2  9237-HQITU  2019-09-01       No  Month-to-month            70.70   \n",
       "3  9305-CDSKC  2019-03-01       No  Month-to-month            99.65   \n",
       "4  1452-KIOVK  2018-04-01       No  Month-to-month            89.10   \n",
       "\n",
       "   total_charges  gender  senior_citizen partner dependents internet_service  \\\n",
       "0        2071.84    Male               0      No         No              DSL   \n",
       "1         226.17    Male               0      No         No              DSL   \n",
       "2         353.50  Female               0      No         No      Fiber optic   \n",
       "3        1150.96  Female               0      No         No      Fiber optic   \n",
       "4        2058.21    Male               0      No        Yes      Fiber optic   \n",
       "\n",
       "  online_security online_backup device_protection tech_support streaming_tv  \\\n",
       "0             Yes            No               Yes           No           No   \n",
       "1             Yes           Yes                No           No           No   \n",
       "2              No            No                No           No           No   \n",
       "3              No            No               Yes           No          Yes   \n",
       "4              No           Yes                No           No          Yes   \n",
       "\n",
       "  streaming_movies multiple_lines  \n",
       "0               No             No  \n",
       "1               No             No  \n",
       "2               No             No  \n",
       "3              Yes            Yes  \n",
       "4               No            Yes  "
      ]
     },
     "execution_count": 1874,
     "metadata": {},
     "output_type": "execute_result"
    }
   ],
   "source": [
    "df_final.head()"
   ]
  },
  {
   "cell_type": "markdown",
   "id": "33d01353",
   "metadata": {},
   "source": [
    "Построим матрицу корреляции чтобы увидеть связь между признаками."
   ]
  },
  {
   "cell_type": "markdown",
   "id": "90e3386a",
   "metadata": {},
   "source": [
    "Построим матрицу корреляций phik_matrix для всех признаков."
   ]
  },
  {
   "cell_type": "code",
   "execution_count": 1875,
   "id": "8810fe1e",
   "metadata": {},
   "outputs": [
    {
     "data": {
      "image/png": "[encoded data removed]",
      "text/plain": [
       "<Figure size 1080x720 with 2 Axes>"
      ]
     },
     "metadata": {
      "needs_background": "light"
     },
     "output_type": "display_data"
    }
   ],
   "source": [
    "corr_matrix = df_final.drop('customer_id', axis=1).phik_matrix(interval_cols = ['monthly_charges', 'total_charges'])\n",
    "plt.figure(figsize=(15, 10))\n",
    "sns.heatmap(corr_matrix, annot=True, cmap='plasma')\n",
    "plt.title('Phik_matrix')\n",
    "plt.show();\n"
   ]
  },
  {
   "cell_type": "markdown",
   "id": "91098f4c",
   "metadata": {},
   "source": [
    "Можно увидеть, что месячные расходы абонента сильно коррелируют с типом подключения(коэффициент 0.91), со стриминговым тв(0.8) и с каталогом фильмов(0.79), по шкале чеддока это сильная связь. Также наблюдается сильная связь между датой заключения договора и типом подключения(0.81) и между датой начала договора и общими расходами абонента(0.85)."
   ]
  },
  {
   "cell_type": "markdown",
   "id": "0dd1b946",
   "metadata": {},
   "source": [
    "Далее разделим данные на тренировочную и тестовую методом train_test_split, и подготовим данные к обучению модели.\n",
    "В ходе подготовки будем использовать кодирование и масштабирование"
   ]
  },
  {
   "cell_type": "markdown",
   "id": "abd9ae7d",
   "metadata": {},
   "source": [
    "Добавим столбец с таргетом 'end_contract' и приведем его к числовому типу данных 'int'"
   ]
  },
  {
   "cell_type": "code",
   "execution_count": 1876,
   "id": "44d1762e",
   "metadata": {},
   "outputs": [],
   "source": [
    "df_final['end_contract'] = (df_final['end_date'] != 'No').astype(int)"
   ]
  },
  {
   "cell_type": "code",
   "execution_count": 1877,
   "id": "0d368e2a",
   "metadata": {},
   "outputs": [
    {
     "data": {
      "text/plain": [
       "array(['No', '2017-05-01', '2016-03-01', '2018-09-01', '2018-11-01',\n",
       "       '2018-12-01', '2019-08-01', '2018-07-01', '2015-09-01',\n",
       "       '2016-07-01', '2018-03-01', '2019-06-01', '2019-11-01',\n",
       "       '2016-09-01', '2015-06-01', '2019-05-01', '2019-04-01',\n",
       "       '2018-02-01', '2016-12-01', '2019-07-01', '2019-02-01',\n",
       "       '2018-10-01', '2019-01-01', '2017-07-01', '2018-05-01',\n",
       "       '2015-11-01', '2019-10-01', '2017-09-01', '2015-12-01',\n",
       "       '2018-06-01', '2018-08-01', '2018-04-01', '2018-01-01',\n",
       "       '2017-11-01', '2015-10-01', '2019-12-01', '2015-07-01',\n",
       "       '2020-01-01', '2017-04-01', '2015-02-01', '2017-03-01',\n",
       "       '2016-05-01', '2019-03-01', '2017-06-01', '2015-08-01',\n",
       "       '2019-09-01', '2017-10-01', '2017-02-01', '2016-08-01',\n",
       "       '2016-11-01', '2016-02-01', '2017-08-01', '2016-06-01',\n",
       "       '2016-10-01', '2017-12-01', '2016-04-01', '2015-05-01',\n",
       "       '2014-09-01', '2014-10-01', '2017-01-01', '2016-01-01',\n",
       "       '2015-01-01', '2014-12-01', '2014-11-01'], dtype=object)"
      ]
     },
     "execution_count": 1877,
     "metadata": {},
     "output_type": "execute_result"
    }
   ],
   "source": [
    "df_final['end_date'].unique()"
   ]
  },
  {
   "cell_type": "code",
   "execution_count": 1878,
   "id": "ebd47a97",
   "metadata": {},
   "outputs": [],
   "source": [
    "df_final['end_date'] = df_final['end_date'].replace('No', '2020-02-01') # Заменим значения 'No' на значение актуальной даты 2020-02-01"
   ]
  },
  {
   "cell_type": "code",
   "execution_count": 1879,
   "id": "245fcc10",
   "metadata": {},
   "outputs": [],
   "source": [
    "df_final['end_date'] = pd.to_datetime(df_final['end_date'], format='%Y-%m-%d') # приведем данные к типу данных datetime"
   ]
  },
  {
   "cell_type": "code",
   "execution_count": 1880,
   "id": "0163fd66",
   "metadata": {},
   "outputs": [
    {
     "data": {
      "text/plain": [
       "array(['2020-02-01T00:00:00.000000000', '2017-05-01T00:00:00.000000000',\n",
       "       '2016-03-01T00:00:00.000000000', '2018-09-01T00:00:00.000000000',\n",
       "       '2018-11-01T00:00:00.000000000', '2018-12-01T00:00:00.000000000',\n",
       "       '2019-08-01T00:00:00.000000000', '2018-07-01T00:00:00.000000000',\n",
       "       '2015-09-01T00:00:00.000000000', '2016-07-01T00:00:00.000000000',\n",
       "       '2018-03-01T00:00:00.000000000', '2019-06-01T00:00:00.000000000',\n",
       "       '2019-11-01T00:00:00.000000000', '2016-09-01T00:00:00.000000000',\n",
       "       '2015-06-01T00:00:00.000000000', '2019-05-01T00:00:00.000000000',\n",
       "       '2019-04-01T00:00:00.000000000', '2018-02-01T00:00:00.000000000',\n",
       "       '2016-12-01T00:00:00.000000000', '2019-07-01T00:00:00.000000000',\n",
       "       '2019-02-01T00:00:00.000000000', '2018-10-01T00:00:00.000000000',\n",
       "       '2019-01-01T00:00:00.000000000', '2017-07-01T00:00:00.000000000',\n",
       "       '2018-05-01T00:00:00.000000000', '2015-11-01T00:00:00.000000000',\n",
       "       '2019-10-01T00:00:00.000000000', '2017-09-01T00:00:00.000000000',\n",
       "       '2015-12-01T00:00:00.000000000', '2018-06-01T00:00:00.000000000',\n",
       "       '2018-08-01T00:00:00.000000000', '2018-04-01T00:00:00.000000000',\n",
       "       '2018-01-01T00:00:00.000000000', '2017-11-01T00:00:00.000000000',\n",
       "       '2015-10-01T00:00:00.000000000', '2019-12-01T00:00:00.000000000',\n",
       "       '2015-07-01T00:00:00.000000000', '2020-01-01T00:00:00.000000000',\n",
       "       '2017-04-01T00:00:00.000000000', '2015-02-01T00:00:00.000000000',\n",
       "       '2017-03-01T00:00:00.000000000', '2016-05-01T00:00:00.000000000',\n",
       "       '2019-03-01T00:00:00.000000000', '2017-06-01T00:00:00.000000000',\n",
       "       '2015-08-01T00:00:00.000000000', '2019-09-01T00:00:00.000000000',\n",
       "       '2017-10-01T00:00:00.000000000', '2017-02-01T00:00:00.000000000',\n",
       "       '2016-08-01T00:00:00.000000000', '2016-11-01T00:00:00.000000000',\n",
       "       '2016-02-01T00:00:00.000000000', '2017-08-01T00:00:00.000000000',\n",
       "       '2016-06-01T00:00:00.000000000', '2016-10-01T00:00:00.000000000',\n",
       "       '2017-12-01T00:00:00.000000000', '2016-04-01T00:00:00.000000000',\n",
       "       '2015-05-01T00:00:00.000000000', '2014-09-01T00:00:00.000000000',\n",
       "       '2014-10-01T00:00:00.000000000', '2017-01-01T00:00:00.000000000',\n",
       "       '2016-01-01T00:00:00.000000000', '2015-01-01T00:00:00.000000000',\n",
       "       '2014-12-01T00:00:00.000000000', '2014-11-01T00:00:00.000000000'],\n",
       "      dtype='datetime64[ns]')"
      ]
     },
     "execution_count": 1880,
     "metadata": {},
     "output_type": "execute_result"
    }
   ],
   "source": [
    "df_final['end_date'].unique() # проверка"
   ]
  },
  {
   "cell_type": "code",
   "execution_count": 1881,
   "id": "32d259de",
   "metadata": {},
   "outputs": [
    {
     "data": {
      "text/plain": [
       "array([0, 1])"
      ]
     },
     "execution_count": 1881,
     "metadata": {},
     "output_type": "execute_result"
    }
   ],
   "source": [
    "df_final['end_contract'].unique()"
   ]
  },
  {
   "cell_type": "code",
   "execution_count": 1882,
   "id": "7b84f147",
   "metadata": {},
   "outputs": [
    {
     "data": {
      "text/plain": [
       "dtype('int64')"
      ]
     },
     "execution_count": 1882,
     "metadata": {},
     "output_type": "execute_result"
    }
   ],
   "source": [
    "df_final['end_contract'].dtype"
   ]
  },
  {
   "cell_type": "code",
   "execution_count": 1885,
   "id": "591eb64c",
   "metadata": {},
   "outputs": [
    {
     "data": {
      "text/plain": [
       "dtype('<M8[ns]')"
      ]
     },
     "execution_count": 1885,
     "metadata": {},
     "output_type": "execute_result"
    }
   ],
   "source": [
    "df_final['end_date'].dtype"
   ]
  },
  {
   "cell_type": "code",
   "execution_count": 1886,
   "id": "35084c9b",
   "metadata": {},
   "outputs": [
    {
     "ename": "TypeError",
     "evalue": "unsupported operand type(s) for -: 'Timestamp' and 'str'",
     "output_type": "error",
     "traceback": [
      "\u001b[0;31m---------------------------------------------------------------------------\u001b[0m",
      "\u001b[0;31mTypeError\u001b[0m                                 Traceback (most recent call last)",
      "\u001b[0;32m/tmp/ipykernel_48/3993781103.py\u001b[0m in \u001b[0;36m<module>\u001b[0;34m\u001b[0m\n\u001b[0;32m----> 1\u001b[0;31m \u001b[0mdf_final\u001b[0m\u001b[0;34m[\u001b[0m\u001b[0;34m'days'\u001b[0m\u001b[0;34m]\u001b[0m \u001b[0;34m=\u001b[0m \u001b[0;34m(\u001b[0m\u001b[0mdf_final\u001b[0m\u001b[0;34m[\u001b[0m\u001b[0;34m'end_date'\u001b[0m\u001b[0;34m]\u001b[0m \u001b[0;34m-\u001b[0m \u001b[0mdf_final\u001b[0m\u001b[0;34m[\u001b[0m\u001b[0;34m'begin_date'\u001b[0m\u001b[0;34m]\u001b[0m\u001b[0;34m)\u001b[0m\u001b[0;34m.\u001b[0m\u001b[0mdt\u001b[0m\u001b[0;34m.\u001b[0m\u001b[0mdays\u001b[0m \u001b[0;31m# Добавим новый признак\u001b[0m\u001b[0;34m\u001b[0m\u001b[0;34m\u001b[0m\u001b[0m\n\u001b[0m",
      "\u001b[0;32m/opt/conda/lib/python3.9/site-packages/pandas/core/ops/common.py\u001b[0m in \u001b[0;36mnew_method\u001b[0;34m(self, other)\u001b[0m\n\u001b[1;32m     63\u001b[0m         \u001b[0mother\u001b[0m \u001b[0;34m=\u001b[0m \u001b[0mitem_from_zerodim\u001b[0m\u001b[0;34m(\u001b[0m\u001b[0mother\u001b[0m\u001b[0;34m)\u001b[0m\u001b[0;34m\u001b[0m\u001b[0;34m\u001b[0m\u001b[0m\n\u001b[1;32m     64\u001b[0m \u001b[0;34m\u001b[0m\u001b[0m\n\u001b[0;32m---> 65\u001b[0;31m         \u001b[0;32mreturn\u001b[0m \u001b[0mmethod\u001b[0m\u001b[0;34m(\u001b[0m\u001b[0mself\u001b[0m\u001b[0;34m,\u001b[0m \u001b[0mother\u001b[0m\u001b[0;34m)\u001b[0m\u001b[0;34m\u001b[0m\u001b[0;34m\u001b[0m\u001b[0m\n\u001b[0m\u001b[1;32m     66\u001b[0m \u001b[0;34m\u001b[0m\u001b[0m\n\u001b[1;32m     67\u001b[0m     \u001b[0;32mreturn\u001b[0m \u001b[0mnew_method\u001b[0m\u001b[0;34m\u001b[0m\u001b[0;34m\u001b[0m\u001b[0m\n",
      "\u001b[0;32m/opt/conda/lib/python3.9/site-packages/pandas/core/arraylike.py\u001b[0m in \u001b[0;36m__sub__\u001b[0;34m(self, other)\u001b[0m\n\u001b[1;32m     95\u001b[0m     \u001b[0;34m@\u001b[0m\u001b[0munpack_zerodim_and_defer\u001b[0m\u001b[0;34m(\u001b[0m\u001b[0;34m\"__sub__\"\u001b[0m\u001b[0;34m)\u001b[0m\u001b[0;34m\u001b[0m\u001b[0;34m\u001b[0m\u001b[0m\n\u001b[1;32m     96\u001b[0m     \u001b[0;32mdef\u001b[0m \u001b[0m__sub__\u001b[0m\u001b[0;34m(\u001b[0m\u001b[0mself\u001b[0m\u001b[0;34m,\u001b[0m \u001b[0mother\u001b[0m\u001b[0;34m)\u001b[0m\u001b[0;34m:\u001b[0m\u001b[0;34m\u001b[0m\u001b[0;34m\u001b[0m\u001b[0m\n\u001b[0;32m---> 97\u001b[0;31m         \u001b[0;32mreturn\u001b[0m \u001b[0mself\u001b[0m\u001b[0;34m.\u001b[0m\u001b[0m_arith_method\u001b[0m\u001b[0;34m(\u001b[0m\u001b[0mother\u001b[0m\u001b[0;34m,\u001b[0m \u001b[0moperator\u001b[0m\u001b[0;34m.\u001b[0m\u001b[0msub\u001b[0m\u001b[0;34m)\u001b[0m\u001b[0;34m\u001b[0m\u001b[0;34m\u001b[0m\u001b[0m\n\u001b[0m\u001b[1;32m     98\u001b[0m \u001b[0;34m\u001b[0m\u001b[0m\n\u001b[1;32m     99\u001b[0m     \u001b[0;34m@\u001b[0m\u001b[0munpack_zerodim_and_defer\u001b[0m\u001b[0;34m(\u001b[0m\u001b[0;34m\"__rsub__\"\u001b[0m\u001b[0;34m)\u001b[0m\u001b[0;34m\u001b[0m\u001b[0;34m\u001b[0m\u001b[0m\n",
      "\u001b[0;32m/opt/conda/lib/python3.9/site-packages/pandas/core/series.py\u001b[0m in \u001b[0;36m_arith_method\u001b[0;34m(self, other, op)\u001b[0m\n\u001b[1;32m   4996\u001b[0m         \u001b[0mlvalues\u001b[0m \u001b[0;34m=\u001b[0m \u001b[0mextract_array\u001b[0m\u001b[0;34m(\u001b[0m\u001b[0mself\u001b[0m\u001b[0;34m,\u001b[0m \u001b[0mextract_numpy\u001b[0m\u001b[0;34m=\u001b[0m\u001b[0;32mTrue\u001b[0m\u001b[0;34m)\u001b[0m\u001b[0;34m\u001b[0m\u001b[0;34m\u001b[0m\u001b[0m\n\u001b[1;32m   4997\u001b[0m         \u001b[0mrvalues\u001b[0m \u001b[0;34m=\u001b[0m \u001b[0mextract_array\u001b[0m\u001b[0;34m(\u001b[0m\u001b[0mother\u001b[0m\u001b[0;34m,\u001b[0m \u001b[0mextract_numpy\u001b[0m\u001b[0;34m=\u001b[0m\u001b[0;32mTrue\u001b[0m\u001b[0;34m)\u001b[0m\u001b[0;34m\u001b[0m\u001b[0;34m\u001b[0m\u001b[0m\n\u001b[0;32m-> 4998\u001b[0;31m         \u001b[0mresult\u001b[0m \u001b[0;34m=\u001b[0m \u001b[0mops\u001b[0m\u001b[0;34m.\u001b[0m\u001b[0marithmetic_op\u001b[0m\u001b[0;34m(\u001b[0m\u001b[0mlvalues\u001b[0m\u001b[0;34m,\u001b[0m \u001b[0mrvalues\u001b[0m\u001b[0;34m,\u001b[0m \u001b[0mop\u001b[0m\u001b[0;34m)\u001b[0m\u001b[0;34m\u001b[0m\u001b[0;34m\u001b[0m\u001b[0m\n\u001b[0m\u001b[1;32m   4999\u001b[0m \u001b[0;34m\u001b[0m\u001b[0m\n\u001b[1;32m   5000\u001b[0m         \u001b[0;32mreturn\u001b[0m \u001b[0mself\u001b[0m\u001b[0;34m.\u001b[0m\u001b[0m_construct_result\u001b[0m\u001b[0;34m(\u001b[0m\u001b[0mresult\u001b[0m\u001b[0;34m,\u001b[0m \u001b[0mname\u001b[0m\u001b[0;34m=\u001b[0m\u001b[0mres_name\u001b[0m\u001b[0;34m)\u001b[0m\u001b[0;34m\u001b[0m\u001b[0;34m\u001b[0m\u001b[0m\n",
      "\u001b[0;32m/opt/conda/lib/python3.9/site-packages/pandas/core/ops/array_ops.py\u001b[0m in \u001b[0;36marithmetic_op\u001b[0;34m(left, right, op)\u001b[0m\n\u001b[1;32m    183\u001b[0m     \u001b[0;32mif\u001b[0m \u001b[0mshould_extension_dispatch\u001b[0m\u001b[0;34m(\u001b[0m\u001b[0mlvalues\u001b[0m\u001b[0;34m,\u001b[0m \u001b[0mrvalues\u001b[0m\u001b[0;34m)\u001b[0m \u001b[0;32mor\u001b[0m \u001b[0misinstance\u001b[0m\u001b[0;34m(\u001b[0m\u001b[0mrvalues\u001b[0m\u001b[0;34m,\u001b[0m \u001b[0mTimedelta\u001b[0m\u001b[0;34m)\u001b[0m\u001b[0;34m:\u001b[0m\u001b[0;34m\u001b[0m\u001b[0;34m\u001b[0m\u001b[0m\n\u001b[1;32m    184\u001b[0m         \u001b[0;31m# Timedelta is included because numexpr will fail on it, see GH#31457\u001b[0m\u001b[0;34m\u001b[0m\u001b[0;34m\u001b[0m\u001b[0;34m\u001b[0m\u001b[0m\n\u001b[0;32m--> 185\u001b[0;31m         \u001b[0mres_values\u001b[0m \u001b[0;34m=\u001b[0m \u001b[0mop\u001b[0m\u001b[0;34m(\u001b[0m\u001b[0mlvalues\u001b[0m\u001b[0;34m,\u001b[0m \u001b[0mrvalues\u001b[0m\u001b[0;34m)\u001b[0m\u001b[0;34m\u001b[0m\u001b[0;34m\u001b[0m\u001b[0m\n\u001b[0m\u001b[1;32m    186\u001b[0m \u001b[0;34m\u001b[0m\u001b[0m\n\u001b[1;32m    187\u001b[0m     \u001b[0;32melse\u001b[0m\u001b[0;34m:\u001b[0m\u001b[0;34m\u001b[0m\u001b[0;34m\u001b[0m\u001b[0m\n",
      "\u001b[0;32m/opt/conda/lib/python3.9/site-packages/pandas/core/ops/common.py\u001b[0m in \u001b[0;36mnew_method\u001b[0;34m(self, other)\u001b[0m\n\u001b[1;32m     63\u001b[0m         \u001b[0mother\u001b[0m \u001b[0;34m=\u001b[0m \u001b[0mitem_from_zerodim\u001b[0m\u001b[0;34m(\u001b[0m\u001b[0mother\u001b[0m\u001b[0;34m)\u001b[0m\u001b[0;34m\u001b[0m\u001b[0;34m\u001b[0m\u001b[0m\n\u001b[1;32m     64\u001b[0m \u001b[0;34m\u001b[0m\u001b[0m\n\u001b[0;32m---> 65\u001b[0;31m         \u001b[0;32mreturn\u001b[0m \u001b[0mmethod\u001b[0m\u001b[0;34m(\u001b[0m\u001b[0mself\u001b[0m\u001b[0;34m,\u001b[0m \u001b[0mother\u001b[0m\u001b[0;34m)\u001b[0m\u001b[0;34m\u001b[0m\u001b[0;34m\u001b[0m\u001b[0m\n\u001b[0m\u001b[1;32m     66\u001b[0m \u001b[0;34m\u001b[0m\u001b[0m\n\u001b[1;32m     67\u001b[0m     \u001b[0;32mreturn\u001b[0m \u001b[0mnew_method\u001b[0m\u001b[0;34m\u001b[0m\u001b[0;34m\u001b[0m\u001b[0m\n",
      "\u001b[0;32m/opt/conda/lib/python3.9/site-packages/pandas/core/arrays/datetimelike.py\u001b[0m in \u001b[0;36m__sub__\u001b[0;34m(self, other)\u001b[0m\n\u001b[1;32m   1242\u001b[0m         \u001b[0;32melif\u001b[0m \u001b[0mis_object_dtype\u001b[0m\u001b[0;34m(\u001b[0m\u001b[0mother_dtype\u001b[0m\u001b[0;34m)\u001b[0m\u001b[0;34m:\u001b[0m\u001b[0;34m\u001b[0m\u001b[0;34m\u001b[0m\u001b[0m\n\u001b[1;32m   1243\u001b[0m             \u001b[0;31m# e.g. Array/Index of DateOffset objects\u001b[0m\u001b[0;34m\u001b[0m\u001b[0;34m\u001b[0m\u001b[0;34m\u001b[0m\u001b[0m\n\u001b[0;32m-> 1244\u001b[0;31m             \u001b[0mresult\u001b[0m \u001b[0;34m=\u001b[0m \u001b[0mself\u001b[0m\u001b[0;34m.\u001b[0m\u001b[0m_addsub_object_array\u001b[0m\u001b[0;34m(\u001b[0m\u001b[0mother\u001b[0m\u001b[0;34m,\u001b[0m \u001b[0moperator\u001b[0m\u001b[0;34m.\u001b[0m\u001b[0msub\u001b[0m\u001b[0;34m)\u001b[0m\u001b[0;34m\u001b[0m\u001b[0;34m\u001b[0m\u001b[0m\n\u001b[0m\u001b[1;32m   1245\u001b[0m         \u001b[0;32melif\u001b[0m \u001b[0mis_datetime64_dtype\u001b[0m\u001b[0;34m(\u001b[0m\u001b[0mother_dtype\u001b[0m\u001b[0;34m)\u001b[0m \u001b[0;32mor\u001b[0m \u001b[0mis_datetime64tz_dtype\u001b[0m\u001b[0;34m(\u001b[0m\u001b[0mother_dtype\u001b[0m\u001b[0;34m)\u001b[0m\u001b[0;34m:\u001b[0m\u001b[0;34m\u001b[0m\u001b[0;34m\u001b[0m\u001b[0m\n\u001b[1;32m   1246\u001b[0m             \u001b[0;31m# DatetimeIndex, ndarray[datetime64]\u001b[0m\u001b[0;34m\u001b[0m\u001b[0;34m\u001b[0m\u001b[0;34m\u001b[0m\u001b[0m\n",
      "\u001b[0;32m/opt/conda/lib/python3.9/site-packages/pandas/core/arrays/datetimelike.py\u001b[0m in \u001b[0;36m_addsub_object_array\u001b[0;34m(self, other, op)\u001b[0m\n\u001b[1;32m   1115\u001b[0m         \u001b[0;32massert\u001b[0m \u001b[0mself\u001b[0m\u001b[0;34m.\u001b[0m\u001b[0mshape\u001b[0m \u001b[0;34m==\u001b[0m \u001b[0mother\u001b[0m\u001b[0;34m.\u001b[0m\u001b[0mshape\u001b[0m\u001b[0;34m,\u001b[0m \u001b[0;34m(\u001b[0m\u001b[0mself\u001b[0m\u001b[0;34m.\u001b[0m\u001b[0mshape\u001b[0m\u001b[0;34m,\u001b[0m \u001b[0mother\u001b[0m\u001b[0;34m.\u001b[0m\u001b[0mshape\u001b[0m\u001b[0;34m)\u001b[0m\u001b[0;34m\u001b[0m\u001b[0;34m\u001b[0m\u001b[0m\n\u001b[1;32m   1116\u001b[0m \u001b[0;34m\u001b[0m\u001b[0m\n\u001b[0;32m-> 1117\u001b[0;31m         \u001b[0mres_values\u001b[0m \u001b[0;34m=\u001b[0m \u001b[0mop\u001b[0m\u001b[0;34m(\u001b[0m\u001b[0mself\u001b[0m\u001b[0;34m.\u001b[0m\u001b[0mastype\u001b[0m\u001b[0;34m(\u001b[0m\u001b[0;34m\"O\"\u001b[0m\u001b[0;34m)\u001b[0m\u001b[0;34m,\u001b[0m \u001b[0mnp\u001b[0m\u001b[0;34m.\u001b[0m\u001b[0masarray\u001b[0m\u001b[0;34m(\u001b[0m\u001b[0mother\u001b[0m\u001b[0;34m)\u001b[0m\u001b[0;34m)\u001b[0m\u001b[0;34m\u001b[0m\u001b[0;34m\u001b[0m\u001b[0m\n\u001b[0m\u001b[1;32m   1118\u001b[0m         \u001b[0mresult\u001b[0m \u001b[0;34m=\u001b[0m \u001b[0marray\u001b[0m\u001b[0;34m(\u001b[0m\u001b[0mres_values\u001b[0m\u001b[0;34m.\u001b[0m\u001b[0mravel\u001b[0m\u001b[0;34m(\u001b[0m\u001b[0;34m)\u001b[0m\u001b[0;34m)\u001b[0m\u001b[0;34m\u001b[0m\u001b[0;34m\u001b[0m\u001b[0m\n\u001b[1;32m   1119\u001b[0m         \u001b[0mresult\u001b[0m \u001b[0;34m=\u001b[0m \u001b[0mextract_array\u001b[0m\u001b[0;34m(\u001b[0m\u001b[0mresult\u001b[0m\u001b[0;34m,\u001b[0m \u001b[0mextract_numpy\u001b[0m\u001b[0;34m=\u001b[0m\u001b[0;32mTrue\u001b[0m\u001b[0;34m)\u001b[0m\u001b[0;34m.\u001b[0m\u001b[0mreshape\u001b[0m\u001b[0;34m(\u001b[0m\u001b[0mself\u001b[0m\u001b[0;34m.\u001b[0m\u001b[0mshape\u001b[0m\u001b[0;34m)\u001b[0m\u001b[0;34m\u001b[0m\u001b[0;34m\u001b[0m\u001b[0m\n",
      "\u001b[0;31mTypeError\u001b[0m: unsupported operand type(s) for -: 'Timestamp' and 'str'"
     ]
    }
   ],
   "source": [
    "df_final['days'] = (df_final['end_date'] - df_final['begin_date']).dt.days # Добавим новый признак "
   ]
  },
  {
   "cell_type": "code",
   "execution_count": null,
   "id": "411ce9f6",
   "metadata": {},
   "outputs": [],
   "source": [
    "df_final.head()"
   ]
  },
  {
   "cell_type": "markdown",
   "id": "92daf90a",
   "metadata": {},
   "source": [
    "Разобьем данные на обучающую и тестовую выборки методом train_test_split. Далее будем использовать pipeline с кодировщиками"
   ]
  },
  {
   "cell_type": "code",
   "execution_count": null,
   "id": "b9b8d35e",
   "metadata": {},
   "outputs": [],
   "source": [
    "X = df_final.drop(['customer_id', 'end_contract'], axis=1)\n",
    "y = df_final['end_contract']\n",
    "Random_state = 42\n",
    "X_train, y_tain, X_test, y_test = train_test_split(\n",
    "X,\n",
    "y,\n",
    "test_size=0.25,\n",
    "random_state=Random_state)"
   ]
  },
  {
   "cell_type": "code",
   "execution_count": null,
   "id": "c7a29607",
   "metadata": {},
   "outputs": [],
   "source": [
    "num_cols = ['monthly_charges', 'total_charges']"
   ]
  }
 ],
 "metadata": {
  "ExecuteTimeLog": [
   {
    "duration": 15613,
    "start_time": "2024-10-21T09:28:33.457Z"
   },
   {
    "duration": 4,
    "start_time": "2024-10-21T09:28:49.073Z"
   },
   {
    "duration": 0,
    "start_time": "2024-10-21T09:28:49.079Z"
   },
   {
    "duration": 0,
    "start_time": "2024-10-21T09:28:49.080Z"
   },
   {
    "duration": 548,
    "start_time": "2024-10-21T09:29:19.754Z"
   },
   {
    "duration": 24,
    "start_time": "2024-10-21T09:29:20.462Z"
   },
   {
    "duration": 11,
    "start_time": "2024-10-21T09:31:30.430Z"
   },
   {
    "duration": 13,
    "start_time": "2024-10-21T09:31:36.043Z"
   },
   {
    "duration": 8,
    "start_time": "2024-10-21T09:35:34.937Z"
   },
   {
    "duration": 7862,
    "start_time": "2024-10-21T09:36:33.383Z"
   },
   {
    "duration": 108,
    "start_time": "2024-10-21T09:36:41.248Z"
   },
   {
    "duration": 12,
    "start_time": "2024-10-21T09:36:41.357Z"
   },
   {
    "duration": 45,
    "start_time": "2024-10-21T09:36:41.371Z"
   },
   {
    "duration": 83,
    "start_time": "2024-10-21T09:36:41.417Z"
   },
   {
    "duration": 7388,
    "start_time": "2024-10-21T09:39:14.228Z"
   },
   {
    "duration": 99,
    "start_time": "2024-10-21T09:39:21.618Z"
   },
   {
    "duration": 61,
    "start_time": "2024-10-21T09:39:21.718Z"
   },
   {
    "duration": 37,
    "start_time": "2024-10-21T09:39:21.781Z"
   },
   {
    "duration": 20,
    "start_time": "2024-10-21T09:39:21.820Z"
   },
   {
    "duration": 10,
    "start_time": "2024-10-21T09:39:39.743Z"
   },
   {
    "duration": 7520,
    "start_time": "2024-10-21T09:44:00.419Z"
   },
   {
    "duration": 101,
    "start_time": "2024-10-21T09:44:07.943Z"
   },
   {
    "duration": 9,
    "start_time": "2024-10-21T09:44:08.046Z"
   },
   {
    "duration": 30,
    "start_time": "2024-10-21T09:44:08.057Z"
   },
   {
    "duration": 40,
    "start_time": "2024-10-21T09:44:08.089Z"
   },
   {
    "duration": 16337,
    "start_time": "2024-10-21T09:46:16.843Z"
   },
   {
    "duration": 190,
    "start_time": "2024-10-21T09:46:33.184Z"
   },
   {
    "duration": 20,
    "start_time": "2024-10-21T09:46:33.376Z"
   },
   {
    "duration": 13,
    "start_time": "2024-10-21T09:46:33.442Z"
   },
   {
    "duration": 105,
    "start_time": "2024-10-21T09:46:33.457Z"
   },
   {
    "duration": 7355,
    "start_time": "2024-10-21T09:47:41.535Z"
   },
   {
    "duration": 99,
    "start_time": "2024-10-21T09:47:48.893Z"
   },
   {
    "duration": 10,
    "start_time": "2024-10-21T09:47:48.993Z"
   },
   {
    "duration": 19,
    "start_time": "2024-10-21T09:47:49.005Z"
   },
   {
    "duration": 27,
    "start_time": "2024-10-21T09:47:49.025Z"
   },
   {
    "duration": 15,
    "start_time": "2024-10-21T09:47:49.054Z"
   },
   {
    "duration": 66,
    "start_time": "2024-10-21T09:47:49.070Z"
   },
   {
    "duration": 8835,
    "start_time": "2024-10-21T09:49:55.207Z"
   },
   {
    "duration": 101,
    "start_time": "2024-10-21T09:50:04.045Z"
   },
   {
    "duration": 19,
    "start_time": "2024-10-21T09:50:04.148Z"
   },
   {
    "duration": 41,
    "start_time": "2024-10-21T09:50:04.170Z"
   },
   {
    "duration": 68,
    "start_time": "2024-10-21T09:50:04.213Z"
   },
   {
    "duration": 38,
    "start_time": "2024-10-21T09:50:04.283Z"
   },
   {
    "duration": 90,
    "start_time": "2024-10-21T09:50:04.322Z"
   },
   {
    "duration": 7535,
    "start_time": "2024-10-21T09:52:20.219Z"
   },
   {
    "duration": 98,
    "start_time": "2024-10-21T09:52:27.757Z"
   },
   {
    "duration": 13,
    "start_time": "2024-10-21T09:52:27.856Z"
   },
   {
    "duration": 20,
    "start_time": "2024-10-21T09:52:27.871Z"
   },
   {
    "duration": 12,
    "start_time": "2024-10-21T09:52:27.893Z"
   },
   {
    "duration": 17,
    "start_time": "2024-10-21T09:52:27.907Z"
   },
   {
    "duration": 9,
    "start_time": "2024-10-21T09:52:27.926Z"
   },
   {
    "duration": 8634,
    "start_time": "2024-10-21T09:52:50.697Z"
   },
   {
    "duration": 98,
    "start_time": "2024-10-21T09:52:59.334Z"
   },
   {
    "duration": 107,
    "start_time": "2024-10-21T09:52:59.434Z"
   },
   {
    "duration": 0,
    "start_time": "2024-10-21T09:52:59.543Z"
   },
   {
    "duration": 0,
    "start_time": "2024-10-21T09:52:59.545Z"
   },
   {
    "duration": 0,
    "start_time": "2024-10-21T09:52:59.546Z"
   },
   {
    "duration": 0,
    "start_time": "2024-10-21T09:52:59.548Z"
   },
   {
    "duration": 8789,
    "start_time": "2024-10-21T09:54:53.498Z"
   },
   {
    "duration": 100,
    "start_time": "2024-10-21T09:55:02.290Z"
   },
   {
    "duration": 44,
    "start_time": "2024-10-21T09:55:02.392Z"
   },
   {
    "duration": 25,
    "start_time": "2024-10-21T09:55:02.438Z"
   },
   {
    "duration": 98,
    "start_time": "2024-10-21T09:55:02.464Z"
   },
   {
    "duration": 41,
    "start_time": "2024-10-21T09:55:02.564Z"
   },
   {
    "duration": 46,
    "start_time": "2024-10-21T09:55:02.607Z"
   },
   {
    "duration": 45,
    "start_time": "2024-10-21T09:55:02.655Z"
   },
   {
    "duration": 13,
    "start_time": "2024-10-21T09:55:02.702Z"
   },
   {
    "duration": 39,
    "start_time": "2024-10-21T09:55:02.718Z"
   },
   {
    "duration": 4,
    "start_time": "2024-10-21T10:02:15.870Z"
   },
   {
    "duration": 11,
    "start_time": "2024-10-21T10:02:41.398Z"
   },
   {
    "duration": 7699,
    "start_time": "2024-10-21T10:07:56.567Z"
   },
   {
    "duration": 102,
    "start_time": "2024-10-21T10:08:04.268Z"
   },
   {
    "duration": 16,
    "start_time": "2024-10-21T10:08:04.372Z"
   },
   {
    "duration": 43,
    "start_time": "2024-10-21T10:08:04.391Z"
   },
   {
    "duration": 17,
    "start_time": "2024-10-21T10:08:04.436Z"
   },
   {
    "duration": 55,
    "start_time": "2024-10-21T10:08:04.454Z"
   },
   {
    "duration": 41,
    "start_time": "2024-10-21T10:08:04.510Z"
   },
   {
    "duration": 39,
    "start_time": "2024-10-21T10:08:04.553Z"
   },
   {
    "duration": 53,
    "start_time": "2024-10-21T10:08:04.594Z"
   },
   {
    "duration": 53,
    "start_time": "2024-10-21T10:08:04.650Z"
   },
   {
    "duration": 44,
    "start_time": "2024-10-21T10:08:04.705Z"
   },
   {
    "duration": 63,
    "start_time": "2024-10-21T10:08:04.751Z"
   },
   {
    "duration": 0,
    "start_time": "2024-10-21T10:08:04.816Z"
   },
   {
    "duration": 7364,
    "start_time": "2024-10-21T13:00:28.484Z"
   },
   {
    "duration": 101,
    "start_time": "2024-10-21T13:00:35.851Z"
   },
   {
    "duration": 13,
    "start_time": "2024-10-21T13:00:35.953Z"
   },
   {
    "duration": 32,
    "start_time": "2024-10-21T13:00:35.968Z"
   },
   {
    "duration": 24,
    "start_time": "2024-10-21T13:00:36.002Z"
   },
   {
    "duration": 28,
    "start_time": "2024-10-21T13:00:36.028Z"
   },
   {
    "duration": 32,
    "start_time": "2024-10-21T13:00:36.057Z"
   },
   {
    "duration": 20,
    "start_time": "2024-10-21T13:00:36.094Z"
   },
   {
    "duration": 54,
    "start_time": "2024-10-21T13:00:36.117Z"
   },
   {
    "duration": 34,
    "start_time": "2024-10-21T13:00:36.173Z"
   },
   {
    "duration": 10,
    "start_time": "2024-10-21T13:00:36.208Z"
   },
   {
    "duration": 118,
    "start_time": "2024-10-21T13:00:36.219Z"
   },
   {
    "duration": 0,
    "start_time": "2024-10-21T13:00:36.339Z"
   },
   {
    "duration": 283,
    "start_time": "2024-10-21T13:02:08.744Z"
   },
   {
    "duration": 7417,
    "start_time": "2024-10-21T13:02:54.616Z"
   },
   {
    "duration": 98,
    "start_time": "2024-10-21T13:03:02.036Z"
   },
   {
    "duration": 13,
    "start_time": "2024-10-21T13:03:02.136Z"
   },
   {
    "duration": 40,
    "start_time": "2024-10-21T13:03:02.152Z"
   },
   {
    "duration": 15,
    "start_time": "2024-10-21T13:03:02.195Z"
   },
   {
    "duration": 21,
    "start_time": "2024-10-21T13:03:02.211Z"
   },
   {
    "duration": 44,
    "start_time": "2024-10-21T13:03:02.233Z"
   },
   {
    "duration": 91,
    "start_time": "2024-10-21T13:03:02.279Z"
   },
   {
    "duration": 28,
    "start_time": "2024-10-21T13:03:02.372Z"
   },
   {
    "duration": 99,
    "start_time": "2024-10-21T13:03:02.403Z"
   },
   {
    "duration": 4,
    "start_time": "2024-10-21T13:03:02.503Z"
   },
   {
    "duration": 287,
    "start_time": "2024-10-21T13:03:02.508Z"
   },
   {
    "duration": 0,
    "start_time": "2024-10-21T13:03:02.797Z"
   },
   {
    "duration": 16,
    "start_time": "2024-10-21T13:03:20.441Z"
   },
   {
    "duration": 9180,
    "start_time": "2024-10-21T13:06:00.669Z"
   },
   {
    "duration": 106,
    "start_time": "2024-10-21T13:06:09.852Z"
   },
   {
    "duration": 24,
    "start_time": "2024-10-21T13:06:09.961Z"
   },
   {
    "duration": 15,
    "start_time": "2024-10-21T13:06:09.987Z"
   },
   {
    "duration": 66,
    "start_time": "2024-10-21T13:06:10.004Z"
   },
   {
    "duration": 37,
    "start_time": "2024-10-21T13:06:10.071Z"
   },
   {
    "duration": 22,
    "start_time": "2024-10-21T13:06:10.110Z"
   },
   {
    "duration": 14,
    "start_time": "2024-10-21T13:06:10.134Z"
   },
   {
    "duration": 8,
    "start_time": "2024-10-21T13:06:10.150Z"
   },
   {
    "duration": 11,
    "start_time": "2024-10-21T13:06:10.161Z"
   },
   {
    "duration": 8,
    "start_time": "2024-10-21T13:06:10.174Z"
   },
   {
    "duration": 16,
    "start_time": "2024-10-21T13:06:10.184Z"
   },
   {
    "duration": 119,
    "start_time": "2024-10-21T13:06:10.202Z"
   },
   {
    "duration": 0,
    "start_time": "2024-10-21T13:06:10.323Z"
   },
   {
    "duration": 8794,
    "start_time": "2024-10-21T13:06:31.167Z"
   },
   {
    "duration": 100,
    "start_time": "2024-10-21T13:06:39.964Z"
   },
   {
    "duration": 17,
    "start_time": "2024-10-21T13:06:40.066Z"
   },
   {
    "duration": 13,
    "start_time": "2024-10-21T13:06:40.084Z"
   },
   {
    "duration": 15,
    "start_time": "2024-10-21T13:06:40.099Z"
   },
   {
    "duration": 11,
    "start_time": "2024-10-21T13:06:40.115Z"
   },
   {
    "duration": 10,
    "start_time": "2024-10-21T13:06:40.128Z"
   },
   {
    "duration": 10,
    "start_time": "2024-10-21T13:06:40.143Z"
   },
   {
    "duration": 7,
    "start_time": "2024-10-21T13:06:40.155Z"
   },
   {
    "duration": 31,
    "start_time": "2024-10-21T13:06:40.163Z"
   },
   {
    "duration": 12,
    "start_time": "2024-10-21T13:06:40.196Z"
   },
   {
    "duration": 16,
    "start_time": "2024-10-21T13:06:40.210Z"
   },
   {
    "duration": 379,
    "start_time": "2024-10-21T13:06:40.227Z"
   },
   {
    "duration": 0,
    "start_time": "2024-10-21T13:06:40.608Z"
   },
   {
    "duration": 5,
    "start_time": "2024-10-21T13:08:09.815Z"
   },
   {
    "duration": 10,
    "start_time": "2024-10-21T13:08:12.978Z"
   },
   {
    "duration": 15778,
    "start_time": "2024-10-23T16:37:42.777Z"
   },
   {
    "duration": 356,
    "start_time": "2024-10-23T16:37:58.557Z"
   },
   {
    "duration": 16,
    "start_time": "2024-10-23T16:37:58.915Z"
   },
   {
    "duration": 16,
    "start_time": "2024-10-23T16:37:58.934Z"
   },
   {
    "duration": 9,
    "start_time": "2024-10-23T16:37:58.952Z"
   },
   {
    "duration": 20,
    "start_time": "2024-10-23T16:37:58.962Z"
   },
   {
    "duration": 16,
    "start_time": "2024-10-23T16:37:58.984Z"
   },
   {
    "duration": 18,
    "start_time": "2024-10-23T16:37:59.001Z"
   },
   {
    "duration": 17,
    "start_time": "2024-10-23T16:37:59.020Z"
   },
   {
    "duration": 24,
    "start_time": "2024-10-23T16:37:59.039Z"
   },
   {
    "duration": 9,
    "start_time": "2024-10-23T16:37:59.064Z"
   },
   {
    "duration": 18,
    "start_time": "2024-10-23T16:37:59.075Z"
   },
   {
    "duration": 7,
    "start_time": "2024-10-23T16:37:59.095Z"
   },
   {
    "duration": 12,
    "start_time": "2024-10-23T16:37:59.103Z"
   },
   {
    "duration": 4,
    "start_time": "2024-10-23T16:37:59.116Z"
   },
   {
    "duration": 3,
    "start_time": "2024-10-23T16:37:59.122Z"
   },
   {
    "duration": 10,
    "start_time": "2024-10-23T16:37:59.126Z"
   },
   {
    "duration": 7523,
    "start_time": "2024-10-23T16:48:22.253Z"
   },
   {
    "duration": 97,
    "start_time": "2024-10-23T16:48:29.781Z"
   },
   {
    "duration": 11,
    "start_time": "2024-10-23T16:48:29.879Z"
   },
   {
    "duration": 21,
    "start_time": "2024-10-23T16:48:29.892Z"
   },
   {
    "duration": 20,
    "start_time": "2024-10-23T16:48:29.915Z"
   },
   {
    "duration": 31,
    "start_time": "2024-10-23T16:48:29.936Z"
   },
   {
    "duration": 23,
    "start_time": "2024-10-23T16:48:29.969Z"
   },
   {
    "duration": 56,
    "start_time": "2024-10-23T16:48:29.994Z"
   },
   {
    "duration": 14,
    "start_time": "2024-10-23T16:48:30.053Z"
   },
   {
    "duration": 32,
    "start_time": "2024-10-23T16:48:30.070Z"
   },
   {
    "duration": 11,
    "start_time": "2024-10-23T16:48:30.104Z"
   },
   {
    "duration": 29,
    "start_time": "2024-10-23T16:48:30.117Z"
   },
   {
    "duration": 87,
    "start_time": "2024-10-23T16:48:30.148Z"
   },
   {
    "duration": 40,
    "start_time": "2024-10-23T16:48:30.237Z"
   },
   {
    "duration": 54,
    "start_time": "2024-10-23T16:48:30.279Z"
   },
   {
    "duration": 27,
    "start_time": "2024-10-23T16:48:30.335Z"
   },
   {
    "duration": 42,
    "start_time": "2024-10-23T16:48:30.365Z"
   },
   {
    "duration": 34,
    "start_time": "2024-10-23T16:48:30.409Z"
   },
   {
    "duration": 57,
    "start_time": "2024-10-23T16:48:30.445Z"
   },
   {
    "duration": 76,
    "start_time": "2024-10-23T16:48:30.504Z"
   },
   {
    "duration": 0,
    "start_time": "2024-10-23T16:48:30.582Z"
   },
   {
    "duration": 7258,
    "start_time": "2024-10-23T16:48:54.652Z"
   },
   {
    "duration": 107,
    "start_time": "2024-10-23T16:49:01.913Z"
   },
   {
    "duration": 13,
    "start_time": "2024-10-23T16:49:02.022Z"
   },
   {
    "duration": 55,
    "start_time": "2024-10-23T16:49:02.037Z"
   },
   {
    "duration": 28,
    "start_time": "2024-10-23T16:49:02.093Z"
   },
   {
    "duration": 51,
    "start_time": "2024-10-23T16:49:02.123Z"
   },
   {
    "duration": 35,
    "start_time": "2024-10-23T16:49:02.176Z"
   },
   {
    "duration": 51,
    "start_time": "2024-10-23T16:49:02.213Z"
   },
   {
    "duration": 61,
    "start_time": "2024-10-23T16:49:02.265Z"
   },
   {
    "duration": 48,
    "start_time": "2024-10-23T16:49:02.328Z"
   },
   {
    "duration": 11,
    "start_time": "2024-10-23T16:49:02.379Z"
   },
   {
    "duration": 46,
    "start_time": "2024-10-23T16:49:02.393Z"
   },
   {
    "duration": 29,
    "start_time": "2024-10-23T16:49:02.441Z"
   },
   {
    "duration": 56,
    "start_time": "2024-10-23T16:49:02.472Z"
   },
   {
    "duration": 29,
    "start_time": "2024-10-23T16:49:02.530Z"
   },
   {
    "duration": 7,
    "start_time": "2024-10-23T16:49:02.561Z"
   },
   {
    "duration": 42,
    "start_time": "2024-10-23T16:49:02.570Z"
   },
   {
    "duration": 19,
    "start_time": "2024-10-23T16:49:02.614Z"
   },
   {
    "duration": 37,
    "start_time": "2024-10-23T16:49:02.635Z"
   },
   {
    "duration": 19,
    "start_time": "2024-10-23T16:49:02.674Z"
   },
   {
    "duration": 9,
    "start_time": "2024-10-23T16:49:02.695Z"
   },
   {
    "duration": 7437,
    "start_time": "2024-10-23T16:51:55.655Z"
   },
   {
    "duration": 99,
    "start_time": "2024-10-23T16:52:03.095Z"
   },
   {
    "duration": 12,
    "start_time": "2024-10-23T16:52:03.196Z"
   },
   {
    "duration": 47,
    "start_time": "2024-10-23T16:52:03.211Z"
   },
   {
    "duration": 32,
    "start_time": "2024-10-23T16:52:03.260Z"
   },
   {
    "duration": 16,
    "start_time": "2024-10-23T16:52:03.293Z"
   },
   {
    "duration": 12,
    "start_time": "2024-10-23T16:52:03.311Z"
   },
   {
    "duration": 16,
    "start_time": "2024-10-23T16:52:03.325Z"
   },
   {
    "duration": 8,
    "start_time": "2024-10-23T16:52:03.343Z"
   },
   {
    "duration": 41,
    "start_time": "2024-10-23T16:52:03.354Z"
   },
   {
    "duration": 4,
    "start_time": "2024-10-23T16:52:03.397Z"
   },
   {
    "duration": 29,
    "start_time": "2024-10-23T16:52:03.403Z"
   },
   {
    "duration": 19,
    "start_time": "2024-10-23T16:52:03.434Z"
   },
   {
    "duration": 34,
    "start_time": "2024-10-23T16:52:03.455Z"
   },
   {
    "duration": 17,
    "start_time": "2024-10-23T16:52:03.491Z"
   },
   {
    "duration": 14,
    "start_time": "2024-10-23T16:52:03.510Z"
   },
   {
    "duration": 7,
    "start_time": "2024-10-23T16:52:03.526Z"
   },
   {
    "duration": 22,
    "start_time": "2024-10-23T16:52:03.534Z"
   },
   {
    "duration": 8,
    "start_time": "2024-10-23T16:52:03.558Z"
   },
   {
    "duration": 18,
    "start_time": "2024-10-23T16:52:03.567Z"
   },
   {
    "duration": 4,
    "start_time": "2024-10-23T16:52:03.587Z"
   },
   {
    "duration": 7,
    "start_time": "2024-10-23T16:52:03.592Z"
   },
   {
    "duration": 7355,
    "start_time": "2024-10-23T16:52:38.296Z"
   },
   {
    "duration": 112,
    "start_time": "2024-10-23T16:52:45.654Z"
   },
   {
    "duration": 11,
    "start_time": "2024-10-23T16:52:45.768Z"
   },
   {
    "duration": 13,
    "start_time": "2024-10-23T16:52:45.781Z"
   },
   {
    "duration": 12,
    "start_time": "2024-10-23T16:52:45.796Z"
   },
   {
    "duration": 17,
    "start_time": "2024-10-23T16:52:45.809Z"
   },
   {
    "duration": 13,
    "start_time": "2024-10-23T16:52:45.827Z"
   },
   {
    "duration": 14,
    "start_time": "2024-10-23T16:52:45.841Z"
   },
   {
    "duration": 12,
    "start_time": "2024-10-23T16:52:45.857Z"
   },
   {
    "duration": 30,
    "start_time": "2024-10-23T16:52:45.872Z"
   },
   {
    "duration": 4,
    "start_time": "2024-10-23T16:52:45.904Z"
   },
   {
    "duration": 19,
    "start_time": "2024-10-23T16:52:45.910Z"
   },
   {
    "duration": 4,
    "start_time": "2024-10-23T16:52:45.930Z"
   },
   {
    "duration": 3,
    "start_time": "2024-10-23T16:52:45.936Z"
   },
   {
    "duration": 11,
    "start_time": "2024-10-23T16:52:45.940Z"
   },
   {
    "duration": 43,
    "start_time": "2024-10-23T16:52:45.953Z"
   },
   {
    "duration": 4,
    "start_time": "2024-10-23T16:52:45.998Z"
   },
   {
    "duration": 6,
    "start_time": "2024-10-23T16:52:46.004Z"
   },
   {
    "duration": 18,
    "start_time": "2024-10-23T16:52:46.012Z"
   },
   {
    "duration": 6,
    "start_time": "2024-10-23T16:52:46.032Z"
   },
   {
    "duration": 20,
    "start_time": "2024-10-23T16:52:46.040Z"
   },
   {
    "duration": 5,
    "start_time": "2024-10-23T16:52:46.061Z"
   },
   {
    "duration": 35,
    "start_time": "2024-10-23T16:52:46.068Z"
   },
   {
    "duration": 7308,
    "start_time": "2024-10-23T16:53:22.370Z"
   },
   {
    "duration": 96,
    "start_time": "2024-10-23T16:53:29.680Z"
   },
   {
    "duration": 12,
    "start_time": "2024-10-23T16:53:29.777Z"
   },
   {
    "duration": 27,
    "start_time": "2024-10-23T16:53:29.791Z"
   },
   {
    "duration": 15,
    "start_time": "2024-10-23T16:53:29.820Z"
   },
   {
    "duration": 15,
    "start_time": "2024-10-23T16:53:29.836Z"
   },
   {
    "duration": 13,
    "start_time": "2024-10-23T16:53:29.853Z"
   },
   {
    "duration": 19,
    "start_time": "2024-10-23T16:53:29.868Z"
   },
   {
    "duration": 8,
    "start_time": "2024-10-23T16:53:29.889Z"
   },
   {
    "duration": 10,
    "start_time": "2024-10-23T16:53:29.901Z"
   },
   {
    "duration": 9,
    "start_time": "2024-10-23T16:53:29.913Z"
   },
   {
    "duration": 15,
    "start_time": "2024-10-23T16:53:29.924Z"
   },
   {
    "duration": 6,
    "start_time": "2024-10-23T16:53:29.941Z"
   },
   {
    "duration": 141,
    "start_time": "2024-10-23T16:53:29.948Z"
   },
   {
    "duration": 0,
    "start_time": "2024-10-23T16:53:30.095Z"
   },
   {
    "duration": 0,
    "start_time": "2024-10-23T16:53:30.096Z"
   },
   {
    "duration": 0,
    "start_time": "2024-10-23T16:53:30.097Z"
   },
   {
    "duration": 0,
    "start_time": "2024-10-23T16:53:30.099Z"
   },
   {
    "duration": 0,
    "start_time": "2024-10-23T16:53:30.100Z"
   },
   {
    "duration": 0,
    "start_time": "2024-10-23T16:53:30.101Z"
   },
   {
    "duration": 0,
    "start_time": "2024-10-23T16:53:30.102Z"
   },
   {
    "duration": 0,
    "start_time": "2024-10-23T16:53:30.104Z"
   },
   {
    "duration": 0,
    "start_time": "2024-10-23T16:53:30.105Z"
   },
   {
    "duration": 7540,
    "start_time": "2024-10-23T16:54:18.581Z"
   },
   {
    "duration": 98,
    "start_time": "2024-10-23T16:54:26.124Z"
   },
   {
    "duration": 16,
    "start_time": "2024-10-23T16:54:26.224Z"
   },
   {
    "duration": 15,
    "start_time": "2024-10-23T16:54:26.243Z"
   },
   {
    "duration": 8,
    "start_time": "2024-10-23T16:54:26.260Z"
   },
   {
    "duration": 25,
    "start_time": "2024-10-23T16:54:26.271Z"
   },
   {
    "duration": 11,
    "start_time": "2024-10-23T16:54:26.298Z"
   },
   {
    "duration": 12,
    "start_time": "2024-10-23T16:54:26.310Z"
   },
   {
    "duration": 8,
    "start_time": "2024-10-23T16:54:26.324Z"
   },
   {
    "duration": 11,
    "start_time": "2024-10-23T16:54:26.335Z"
   },
   {
    "duration": 47,
    "start_time": "2024-10-23T16:54:26.348Z"
   },
   {
    "duration": 18,
    "start_time": "2024-10-23T16:54:26.397Z"
   },
   {
    "duration": 6,
    "start_time": "2024-10-23T16:54:26.416Z"
   },
   {
    "duration": 491,
    "start_time": "2024-10-23T16:54:26.423Z"
   },
   {
    "duration": 0,
    "start_time": "2024-10-23T16:54:26.916Z"
   },
   {
    "duration": 0,
    "start_time": "2024-10-23T16:54:26.917Z"
   },
   {
    "duration": 0,
    "start_time": "2024-10-23T16:54:26.919Z"
   },
   {
    "duration": 0,
    "start_time": "2024-10-23T16:54:26.921Z"
   },
   {
    "duration": 1,
    "start_time": "2024-10-23T16:54:26.922Z"
   },
   {
    "duration": 0,
    "start_time": "2024-10-23T16:54:26.924Z"
   },
   {
    "duration": 0,
    "start_time": "2024-10-23T16:54:26.926Z"
   },
   {
    "duration": 0,
    "start_time": "2024-10-23T16:54:26.927Z"
   },
   {
    "duration": 0,
    "start_time": "2024-10-23T16:54:26.928Z"
   },
   {
    "duration": 7436,
    "start_time": "2024-10-23T17:04:39.824Z"
   },
   {
    "duration": 116,
    "start_time": "2024-10-23T17:04:47.263Z"
   },
   {
    "duration": 15,
    "start_time": "2024-10-23T17:04:47.381Z"
   },
   {
    "duration": 19,
    "start_time": "2024-10-23T17:04:47.399Z"
   },
   {
    "duration": 11,
    "start_time": "2024-10-23T17:04:47.420Z"
   },
   {
    "duration": 23,
    "start_time": "2024-10-23T17:04:47.433Z"
   },
   {
    "duration": 37,
    "start_time": "2024-10-23T17:04:47.458Z"
   },
   {
    "duration": 17,
    "start_time": "2024-10-23T17:04:47.497Z"
   },
   {
    "duration": 9,
    "start_time": "2024-10-23T17:04:47.516Z"
   },
   {
    "duration": 9,
    "start_time": "2024-10-23T17:04:47.528Z"
   },
   {
    "duration": 5,
    "start_time": "2024-10-23T17:04:47.538Z"
   },
   {
    "duration": 16,
    "start_time": "2024-10-23T17:04:47.545Z"
   },
   {
    "duration": 35,
    "start_time": "2024-10-23T17:04:47.563Z"
   },
   {
    "duration": 14,
    "start_time": "2024-10-23T17:04:47.600Z"
   },
   {
    "duration": 0,
    "start_time": "2024-10-23T17:04:47.615Z"
   },
   {
    "duration": 0,
    "start_time": "2024-10-23T17:04:47.617Z"
   },
   {
    "duration": 0,
    "start_time": "2024-10-23T17:04:47.618Z"
   },
   {
    "duration": 0,
    "start_time": "2024-10-23T17:04:47.619Z"
   },
   {
    "duration": 0,
    "start_time": "2024-10-23T17:04:47.621Z"
   },
   {
    "duration": 0,
    "start_time": "2024-10-23T17:04:47.622Z"
   },
   {
    "duration": 0,
    "start_time": "2024-10-23T17:04:47.623Z"
   },
   {
    "duration": 0,
    "start_time": "2024-10-23T17:04:47.625Z"
   },
   {
    "duration": 0,
    "start_time": "2024-10-23T17:04:47.626Z"
   },
   {
    "duration": 0,
    "start_time": "2024-10-23T17:04:47.627Z"
   },
   {
    "duration": 7662,
    "start_time": "2024-10-23T17:05:19.990Z"
   },
   {
    "duration": 100,
    "start_time": "2024-10-23T17:05:27.654Z"
   },
   {
    "duration": 12,
    "start_time": "2024-10-23T17:05:27.756Z"
   },
   {
    "duration": 15,
    "start_time": "2024-10-23T17:05:27.770Z"
   },
   {
    "duration": 15,
    "start_time": "2024-10-23T17:05:27.787Z"
   },
   {
    "duration": 12,
    "start_time": "2024-10-23T17:05:27.804Z"
   },
   {
    "duration": 9,
    "start_time": "2024-10-23T17:05:27.818Z"
   },
   {
    "duration": 11,
    "start_time": "2024-10-23T17:05:27.829Z"
   },
   {
    "duration": 6,
    "start_time": "2024-10-23T17:05:27.842Z"
   },
   {
    "duration": 9,
    "start_time": "2024-10-23T17:05:27.851Z"
   },
   {
    "duration": 4,
    "start_time": "2024-10-23T17:05:27.894Z"
   },
   {
    "duration": 21,
    "start_time": "2024-10-23T17:05:27.900Z"
   },
   {
    "duration": 9,
    "start_time": "2024-10-23T17:05:27.922Z"
   },
   {
    "duration": 11,
    "start_time": "2024-10-23T17:05:27.932Z"
   },
   {
    "duration": 9,
    "start_time": "2024-10-23T17:05:27.944Z"
   },
   {
    "duration": 12,
    "start_time": "2024-10-23T17:05:27.954Z"
   },
   {
    "duration": 42,
    "start_time": "2024-10-23T17:05:27.968Z"
   },
   {
    "duration": 4,
    "start_time": "2024-10-23T17:05:28.012Z"
   },
   {
    "duration": 7,
    "start_time": "2024-10-23T17:05:28.018Z"
   },
   {
    "duration": 14,
    "start_time": "2024-10-23T17:05:28.027Z"
   },
   {
    "duration": 5,
    "start_time": "2024-10-23T17:05:28.043Z"
   },
   {
    "duration": 38,
    "start_time": "2024-10-23T17:05:28.050Z"
   },
   {
    "duration": 8,
    "start_time": "2024-10-23T17:05:28.090Z"
   },
   {
    "duration": 30,
    "start_time": "2024-10-23T17:05:28.099Z"
   },
   {
    "duration": 9,
    "start_time": "2024-10-23T17:11:02.430Z"
   },
   {
    "duration": 7964,
    "start_time": "2024-10-23T17:15:01.473Z"
   },
   {
    "duration": 99,
    "start_time": "2024-10-23T17:15:09.439Z"
   },
   {
    "duration": 12,
    "start_time": "2024-10-23T17:15:09.540Z"
   },
   {
    "duration": 20,
    "start_time": "2024-10-23T17:15:09.554Z"
   },
   {
    "duration": 13,
    "start_time": "2024-10-23T17:15:09.576Z"
   },
   {
    "duration": 13,
    "start_time": "2024-10-23T17:15:09.590Z"
   },
   {
    "duration": 10,
    "start_time": "2024-10-23T17:15:09.605Z"
   },
   {
    "duration": 13,
    "start_time": "2024-10-23T17:15:09.617Z"
   },
   {
    "duration": 11,
    "start_time": "2024-10-23T17:15:09.632Z"
   },
   {
    "duration": 12,
    "start_time": "2024-10-23T17:15:09.644Z"
   },
   {
    "duration": 10,
    "start_time": "2024-10-23T17:15:09.657Z"
   },
   {
    "duration": 34,
    "start_time": "2024-10-23T17:15:09.669Z"
   },
   {
    "duration": 10,
    "start_time": "2024-10-23T17:15:09.705Z"
   },
   {
    "duration": 27,
    "start_time": "2024-10-23T17:15:09.718Z"
   },
   {
    "duration": 12,
    "start_time": "2024-10-23T17:15:09.746Z"
   },
   {
    "duration": 14,
    "start_time": "2024-10-23T17:15:09.760Z"
   },
   {
    "duration": 26,
    "start_time": "2024-10-23T17:15:09.775Z"
   },
   {
    "duration": 4,
    "start_time": "2024-10-23T17:15:09.803Z"
   },
   {
    "duration": 10,
    "start_time": "2024-10-23T17:15:09.809Z"
   },
   {
    "duration": 13,
    "start_time": "2024-10-23T17:15:09.821Z"
   },
   {
    "duration": 4,
    "start_time": "2024-10-23T17:15:09.836Z"
   },
   {
    "duration": 12,
    "start_time": "2024-10-23T17:15:09.841Z"
   },
   {
    "duration": 6,
    "start_time": "2024-10-23T17:15:09.855Z"
   },
   {
    "duration": 38,
    "start_time": "2024-10-23T17:15:09.863Z"
   },
   {
    "duration": 9,
    "start_time": "2024-10-23T17:15:09.902Z"
   },
   {
    "duration": 18,
    "start_time": "2024-10-23T17:15:09.913Z"
   },
   {
    "duration": 10,
    "start_time": "2024-10-23T17:15:09.933Z"
   },
   {
    "duration": 8,
    "start_time": "2024-10-23T17:15:28.118Z"
   },
   {
    "duration": 6,
    "start_time": "2024-10-23T17:15:44.367Z"
   },
   {
    "duration": 16915,
    "start_time": "2024-10-24T09:23:38.827Z"
   },
   {
    "duration": 419,
    "start_time": "2024-10-24T09:23:55.745Z"
   },
   {
    "duration": 18,
    "start_time": "2024-10-24T09:23:56.165Z"
   },
   {
    "duration": 16,
    "start_time": "2024-10-24T09:23:56.185Z"
   },
   {
    "duration": 36,
    "start_time": "2024-10-24T09:23:56.203Z"
   },
   {
    "duration": 11,
    "start_time": "2024-10-24T09:23:56.242Z"
   },
   {
    "duration": 18,
    "start_time": "2024-10-24T09:23:56.255Z"
   },
   {
    "duration": 11,
    "start_time": "2024-10-24T09:23:56.274Z"
   },
   {
    "duration": 6,
    "start_time": "2024-10-24T09:23:56.286Z"
   },
   {
    "duration": 23,
    "start_time": "2024-10-24T09:23:56.295Z"
   },
   {
    "duration": 3,
    "start_time": "2024-10-24T09:23:56.320Z"
   },
   {
    "duration": 25,
    "start_time": "2024-10-24T09:23:56.325Z"
   },
   {
    "duration": 5,
    "start_time": "2024-10-24T09:23:56.351Z"
   },
   {
    "duration": 9,
    "start_time": "2024-10-24T09:23:56.357Z"
   },
   {
    "duration": 14,
    "start_time": "2024-10-24T09:23:56.368Z"
   },
   {
    "duration": 13,
    "start_time": "2024-10-24T09:23:56.384Z"
   },
   {
    "duration": 51,
    "start_time": "2024-10-24T09:23:56.398Z"
   },
   {
    "duration": 7,
    "start_time": "2024-10-24T09:23:56.451Z"
   },
   {
    "duration": 4,
    "start_time": "2024-10-24T09:23:56.460Z"
   },
   {
    "duration": 13,
    "start_time": "2024-10-24T09:23:56.465Z"
   },
   {
    "duration": 16,
    "start_time": "2024-10-24T09:23:56.480Z"
   },
   {
    "duration": 24,
    "start_time": "2024-10-24T09:23:56.498Z"
   },
   {
    "duration": 8,
    "start_time": "2024-10-24T09:23:56.524Z"
   },
   {
    "duration": 9,
    "start_time": "2024-10-24T09:23:56.534Z"
   },
   {
    "duration": 9,
    "start_time": "2024-10-24T09:23:56.544Z"
   },
   {
    "duration": 11,
    "start_time": "2024-10-24T09:23:56.555Z"
   },
   {
    "duration": 8,
    "start_time": "2024-10-24T09:23:56.567Z"
   },
   {
    "duration": 43,
    "start_time": "2024-10-24T09:23:56.578Z"
   },
   {
    "duration": 12,
    "start_time": "2024-10-24T09:23:56.623Z"
   },
   {
    "duration": 81,
    "start_time": "2024-10-24T09:23:56.636Z"
   },
   {
    "duration": 132,
    "start_time": "2024-10-24T09:24:05.513Z"
   },
   {
    "duration": 8,
    "start_time": "2024-10-24T09:24:21.764Z"
   },
   {
    "duration": 10,
    "start_time": "2024-10-24T09:25:24.267Z"
   },
   {
    "duration": 21,
    "start_time": "2024-10-24T09:33:20.994Z"
   },
   {
    "duration": 1351,
    "start_time": "2024-10-24T09:33:54.992Z"
   },
   {
    "duration": 17,
    "start_time": "2024-10-24T09:34:23.688Z"
   },
   {
    "duration": 5,
    "start_time": "2024-10-24T09:37:56.936Z"
   },
   {
    "duration": 5,
    "start_time": "2024-10-24T09:39:13.366Z"
   },
   {
    "duration": 4,
    "start_time": "2024-10-24T09:40:26.895Z"
   },
   {
    "duration": 6,
    "start_time": "2024-10-24T09:40:52.831Z"
   },
   {
    "duration": 5,
    "start_time": "2024-10-24T09:41:33.612Z"
   },
   {
    "duration": 4,
    "start_time": "2024-10-24T09:41:59.454Z"
   },
   {
    "duration": 7,
    "start_time": "2024-10-24T09:42:32.123Z"
   },
   {
    "duration": 3,
    "start_time": "2024-10-24T09:43:04.110Z"
   },
   {
    "duration": 5,
    "start_time": "2024-10-24T09:43:07.498Z"
   },
   {
    "duration": 5,
    "start_time": "2024-10-24T09:44:04.075Z"
   },
   {
    "duration": 19,
    "start_time": "2024-10-24T09:45:53.027Z"
   },
   {
    "duration": 5,
    "start_time": "2024-10-24T09:46:46.507Z"
   },
   {
    "duration": 10,
    "start_time": "2024-10-24T09:54:54.754Z"
   },
   {
    "duration": 221,
    "start_time": "2024-10-24T09:55:16.881Z"
   },
   {
    "duration": 183,
    "start_time": "2024-10-24T10:00:28.542Z"
   },
   {
    "duration": 439,
    "start_time": "2024-10-24T10:18:44.965Z"
   },
   {
    "duration": 9,
    "start_time": "2024-10-24T10:20:34.580Z"
   },
   {
    "duration": 18,
    "start_time": "2024-10-24T10:21:06.323Z"
   },
   {
    "duration": 266,
    "start_time": "2024-10-24T10:21:30.041Z"
   },
   {
    "duration": 8521,
    "start_time": "2024-10-24T10:23:20.871Z"
   },
   {
    "duration": 105,
    "start_time": "2024-10-24T10:23:29.394Z"
   },
   {
    "duration": 12,
    "start_time": "2024-10-24T10:23:29.500Z"
   },
   {
    "duration": 17,
    "start_time": "2024-10-24T10:23:29.514Z"
   },
   {
    "duration": 13,
    "start_time": "2024-10-24T10:23:29.533Z"
   },
   {
    "duration": 13,
    "start_time": "2024-10-24T10:23:29.548Z"
   },
   {
    "duration": 10,
    "start_time": "2024-10-24T10:23:29.563Z"
   },
   {
    "duration": 12,
    "start_time": "2024-10-24T10:23:29.575Z"
   },
   {
    "duration": 36,
    "start_time": "2024-10-24T10:23:29.589Z"
   },
   {
    "duration": 12,
    "start_time": "2024-10-24T10:23:29.628Z"
   },
   {
    "duration": 4,
    "start_time": "2024-10-24T10:23:29.641Z"
   },
   {
    "duration": 34,
    "start_time": "2024-10-24T10:23:29.647Z"
   },
   {
    "duration": 8,
    "start_time": "2024-10-24T10:23:29.683Z"
   },
   {
    "duration": 7,
    "start_time": "2024-10-24T10:23:29.692Z"
   },
   {
    "duration": 23,
    "start_time": "2024-10-24T10:23:29.700Z"
   },
   {
    "duration": 17,
    "start_time": "2024-10-24T10:23:29.725Z"
   },
   {
    "duration": 20,
    "start_time": "2024-10-24T10:23:29.743Z"
   },
   {
    "duration": 4,
    "start_time": "2024-10-24T10:23:29.765Z"
   },
   {
    "duration": 6,
    "start_time": "2024-10-24T10:23:29.770Z"
   },
   {
    "duration": 12,
    "start_time": "2024-10-24T10:23:29.777Z"
   },
   {
    "duration": 5,
    "start_time": "2024-10-24T10:23:29.790Z"
   },
   {
    "duration": 12,
    "start_time": "2024-10-24T10:23:29.818Z"
   },
   {
    "duration": 5,
    "start_time": "2024-10-24T10:23:29.832Z"
   },
   {
    "duration": 9,
    "start_time": "2024-10-24T10:23:29.839Z"
   },
   {
    "duration": 13,
    "start_time": "2024-10-24T10:23:29.849Z"
   },
   {
    "duration": 18,
    "start_time": "2024-10-24T10:23:29.863Z"
   },
   {
    "duration": 10,
    "start_time": "2024-10-24T10:23:29.882Z"
   },
   {
    "duration": 10,
    "start_time": "2024-10-24T10:23:29.917Z"
   },
   {
    "duration": 9,
    "start_time": "2024-10-24T10:23:29.928Z"
   },
   {
    "duration": 9,
    "start_time": "2024-10-24T10:23:29.939Z"
   },
   {
    "duration": 7,
    "start_time": "2024-10-24T10:23:29.950Z"
   },
   {
    "duration": 15,
    "start_time": "2024-10-24T10:23:29.958Z"
   },
   {
    "duration": 11,
    "start_time": "2024-10-24T10:23:29.974Z"
   },
   {
    "duration": 64,
    "start_time": "2024-10-24T10:23:29.986Z"
   },
   {
    "duration": 35,
    "start_time": "2024-10-24T10:23:30.052Z"
   },
   {
    "duration": 26,
    "start_time": "2024-10-24T10:23:30.089Z"
   },
   {
    "duration": 21,
    "start_time": "2024-10-24T10:23:30.117Z"
   },
   {
    "duration": 16,
    "start_time": "2024-10-24T10:23:30.140Z"
   },
   {
    "duration": 29,
    "start_time": "2024-10-24T10:23:30.158Z"
   },
   {
    "duration": 31,
    "start_time": "2024-10-24T10:23:30.189Z"
   },
   {
    "duration": 236,
    "start_time": "2024-10-24T10:23:30.223Z"
   },
   {
    "duration": 220,
    "start_time": "2024-10-24T10:23:30.461Z"
   },
   {
    "duration": 329,
    "start_time": "2024-10-24T10:23:30.683Z"
   },
   {
    "duration": 0,
    "start_time": "2024-10-24T10:23:31.013Z"
   },
   {
    "duration": 0,
    "start_time": "2024-10-24T10:23:31.015Z"
   },
   {
    "duration": 339,
    "start_time": "2024-10-24T10:26:09.059Z"
   },
   {
    "duration": 22,
    "start_time": "2024-10-24T10:26:34.212Z"
   },
   {
    "duration": 47,
    "start_time": "2024-10-24T16:42:20.740Z"
   },
   {
    "duration": 16165,
    "start_time": "2024-10-24T16:42:23.989Z"
   },
   {
    "duration": 555,
    "start_time": "2024-10-24T16:42:40.157Z"
   },
   {
    "duration": 18,
    "start_time": "2024-10-24T16:42:40.713Z"
   },
   {
    "duration": 15,
    "start_time": "2024-10-24T16:42:40.733Z"
   },
   {
    "duration": 10,
    "start_time": "2024-10-24T16:42:40.750Z"
   },
   {
    "duration": 13,
    "start_time": "2024-10-24T16:42:40.762Z"
   },
   {
    "duration": 88,
    "start_time": "2024-10-24T16:42:40.776Z"
   },
   {
    "duration": 16,
    "start_time": "2024-10-24T16:42:40.866Z"
   },
   {
    "duration": 14,
    "start_time": "2024-10-24T16:42:40.884Z"
   },
   {
    "duration": 21,
    "start_time": "2024-10-24T16:42:40.901Z"
   },
   {
    "duration": 5,
    "start_time": "2024-10-24T16:42:40.923Z"
   },
   {
    "duration": 24,
    "start_time": "2024-10-24T16:42:40.929Z"
   },
   {
    "duration": 60,
    "start_time": "2024-10-24T16:42:40.955Z"
   },
   {
    "duration": 7,
    "start_time": "2024-10-24T16:42:41.016Z"
   },
   {
    "duration": 23,
    "start_time": "2024-10-24T16:42:41.024Z"
   },
   {
    "duration": 24,
    "start_time": "2024-10-24T16:42:41.048Z"
   },
   {
    "duration": 12,
    "start_time": "2024-10-24T16:42:41.073Z"
   },
   {
    "duration": 9,
    "start_time": "2024-10-24T16:42:41.086Z"
   },
   {
    "duration": 9,
    "start_time": "2024-10-24T16:42:41.096Z"
   },
   {
    "duration": 25,
    "start_time": "2024-10-24T16:42:41.107Z"
   },
   {
    "duration": 7,
    "start_time": "2024-10-24T16:42:41.133Z"
   },
   {
    "duration": 17,
    "start_time": "2024-10-24T16:42:41.141Z"
   },
   {
    "duration": 3,
    "start_time": "2024-10-24T16:42:41.159Z"
   },
   {
    "duration": 8,
    "start_time": "2024-10-24T16:42:41.163Z"
   },
   {
    "duration": 8,
    "start_time": "2024-10-24T16:42:41.172Z"
   },
   {
    "duration": 9,
    "start_time": "2024-10-24T16:42:41.181Z"
   },
   {
    "duration": 5,
    "start_time": "2024-10-24T16:42:41.192Z"
   },
   {
    "duration": 9,
    "start_time": "2024-10-24T16:42:41.200Z"
   },
   {
    "duration": 36,
    "start_time": "2024-10-24T16:42:41.210Z"
   },
   {
    "duration": 4,
    "start_time": "2024-10-24T16:42:41.248Z"
   },
   {
    "duration": 7,
    "start_time": "2024-10-24T16:42:41.253Z"
   },
   {
    "duration": 6,
    "start_time": "2024-10-24T16:42:41.262Z"
   },
   {
    "duration": 7,
    "start_time": "2024-10-24T16:42:41.269Z"
   },
   {
    "duration": 9,
    "start_time": "2024-10-24T16:42:41.278Z"
   },
   {
    "duration": 10,
    "start_time": "2024-10-24T16:42:41.289Z"
   },
   {
    "duration": 6,
    "start_time": "2024-10-24T16:42:41.300Z"
   },
   {
    "duration": 37,
    "start_time": "2024-10-24T16:42:41.307Z"
   },
   {
    "duration": 6,
    "start_time": "2024-10-24T16:42:41.346Z"
   },
   {
    "duration": 11,
    "start_time": "2024-10-24T16:42:41.354Z"
   },
   {
    "duration": 4,
    "start_time": "2024-10-24T16:42:41.367Z"
   },
   {
    "duration": 236,
    "start_time": "2024-10-24T16:42:41.372Z"
   },
   {
    "duration": 180,
    "start_time": "2024-10-24T16:42:41.610Z"
   },
   {
    "duration": 11,
    "start_time": "2024-10-24T16:42:41.791Z"
   },
   {
    "duration": 206,
    "start_time": "2024-10-24T16:42:41.804Z"
   },
   {
    "duration": 4,
    "start_time": "2024-10-24T16:42:42.012Z"
   },
   {
    "duration": 101,
    "start_time": "2024-10-24T16:42:42.018Z"
   },
   {
    "duration": 15,
    "start_time": "2024-10-24T16:45:50.683Z"
   },
   {
    "duration": 5,
    "start_time": "2024-10-24T16:51:45.617Z"
   },
   {
    "duration": 1203,
    "start_time": "2024-10-24T16:52:13.245Z"
   },
   {
    "duration": 5,
    "start_time": "2024-10-24T16:52:19.184Z"
   },
   {
    "duration": 6,
    "start_time": "2024-10-24T16:52:39.118Z"
   },
   {
    "duration": 961,
    "start_time": "2024-10-24T16:53:12.342Z"
   },
   {
    "duration": 9,
    "start_time": "2024-10-24T16:53:47.779Z"
   },
   {
    "duration": 5,
    "start_time": "2024-10-24T16:54:00.336Z"
   },
   {
    "duration": 5,
    "start_time": "2024-10-24T16:54:29.693Z"
   },
   {
    "duration": 185,
    "start_time": "2024-10-24T16:55:43.816Z"
   },
   {
    "duration": 4,
    "start_time": "2024-10-24T16:58:22.349Z"
   },
   {
    "duration": 13,
    "start_time": "2024-10-24T16:58:43.312Z"
   },
   {
    "duration": 287,
    "start_time": "2024-10-24T16:58:56.298Z"
   },
   {
    "duration": 8,
    "start_time": "2024-10-24T17:02:42.404Z"
   },
   {
    "duration": 8,
    "start_time": "2024-10-24T17:03:03.105Z"
   },
   {
    "duration": 147,
    "start_time": "2024-10-24T17:07:41.281Z"
   },
   {
    "duration": 176,
    "start_time": "2024-10-24T17:10:20.785Z"
   },
   {
    "duration": 154,
    "start_time": "2024-10-24T17:10:51.959Z"
   },
   {
    "duration": 165,
    "start_time": "2024-10-24T17:11:00.338Z"
   },
   {
    "duration": 157,
    "start_time": "2024-10-24T17:11:10.523Z"
   },
   {
    "duration": 174,
    "start_time": "2024-10-24T17:11:34.373Z"
   },
   {
    "duration": 169,
    "start_time": "2024-10-24T17:14:33.521Z"
   },
   {
    "duration": 149,
    "start_time": "2024-10-24T17:14:49.478Z"
   },
   {
    "duration": 170,
    "start_time": "2024-10-24T17:15:08.745Z"
   },
   {
    "duration": 153,
    "start_time": "2024-10-24T17:15:36.643Z"
   },
   {
    "duration": 13,
    "start_time": "2024-10-24T17:28:32.264Z"
   },
   {
    "duration": 5,
    "start_time": "2024-10-24T17:29:29.261Z"
   },
   {
    "duration": 4,
    "start_time": "2024-10-24T17:30:05.583Z"
   },
   {
    "duration": 11,
    "start_time": "2024-10-24T17:30:31.552Z"
   },
   {
    "duration": 4,
    "start_time": "2024-10-24T17:30:35.415Z"
   },
   {
    "duration": 4,
    "start_time": "2024-10-24T17:31:28.352Z"
   },
   {
    "duration": 4,
    "start_time": "2024-10-24T17:31:55.143Z"
   },
   {
    "duration": 4,
    "start_time": "2024-10-24T17:32:22.727Z"
   },
   {
    "duration": 5,
    "start_time": "2024-10-24T17:32:41.197Z"
   },
   {
    "duration": 5,
    "start_time": "2024-10-24T17:33:03.971Z"
   },
   {
    "duration": 9,
    "start_time": "2024-10-24T17:34:03.894Z"
   },
   {
    "duration": 8,
    "start_time": "2024-10-24T17:34:20.619Z"
   },
   {
    "duration": 31,
    "start_time": "2024-10-24T17:34:38.133Z"
   },
   {
    "duration": 3,
    "start_time": "2024-10-24T17:37:15.383Z"
   },
   {
    "duration": 9,
    "start_time": "2024-10-24T17:37:33.083Z"
   },
   {
    "duration": 4,
    "start_time": "2024-10-24T17:37:54.704Z"
   },
   {
    "duration": 14,
    "start_time": "2024-10-24T17:37:55.244Z"
   },
   {
    "duration": 4,
    "start_time": "2024-10-24T17:44:39.051Z"
   },
   {
    "duration": 7540,
    "start_time": "2024-10-24T17:46:56.997Z"
   },
   {
    "duration": 100,
    "start_time": "2024-10-24T17:47:04.538Z"
   },
   {
    "duration": 12,
    "start_time": "2024-10-24T17:47:04.639Z"
   },
   {
    "duration": 23,
    "start_time": "2024-10-24T17:47:04.653Z"
   },
   {
    "duration": 19,
    "start_time": "2024-10-24T17:47:04.677Z"
   },
   {
    "duration": 17,
    "start_time": "2024-10-24T17:47:04.698Z"
   },
   {
    "duration": 27,
    "start_time": "2024-10-24T17:47:04.717Z"
   },
   {
    "duration": 31,
    "start_time": "2024-10-24T17:47:04.746Z"
   },
   {
    "duration": 20,
    "start_time": "2024-10-24T17:47:04.781Z"
   },
   {
    "duration": 19,
    "start_time": "2024-10-24T17:47:04.803Z"
   },
   {
    "duration": 92,
    "start_time": "2024-10-24T17:47:04.824Z"
   },
   {
    "duration": 30,
    "start_time": "2024-10-24T17:47:04.918Z"
   },
   {
    "duration": 11,
    "start_time": "2024-10-24T17:47:04.950Z"
   },
   {
    "duration": 31,
    "start_time": "2024-10-24T17:47:04.962Z"
   },
   {
    "duration": 8,
    "start_time": "2024-10-24T17:47:04.995Z"
   },
   {
    "duration": 14,
    "start_time": "2024-10-24T17:47:05.004Z"
   },
   {
    "duration": 15,
    "start_time": "2024-10-24T17:47:05.019Z"
   },
   {
    "duration": 7,
    "start_time": "2024-10-24T17:47:05.036Z"
   },
   {
    "duration": 4,
    "start_time": "2024-10-24T17:47:05.045Z"
   },
   {
    "duration": 10,
    "start_time": "2024-10-24T17:47:05.051Z"
   },
   {
    "duration": 14,
    "start_time": "2024-10-24T17:47:05.062Z"
   },
   {
    "duration": 24,
    "start_time": "2024-10-24T17:47:05.078Z"
   },
   {
    "duration": 4,
    "start_time": "2024-10-24T17:47:05.103Z"
   },
   {
    "duration": 9,
    "start_time": "2024-10-24T17:47:05.108Z"
   },
   {
    "duration": 26,
    "start_time": "2024-10-24T17:47:05.118Z"
   },
   {
    "duration": 55,
    "start_time": "2024-10-24T17:47:05.145Z"
   },
   {
    "duration": 74,
    "start_time": "2024-10-24T17:47:05.204Z"
   },
   {
    "duration": 28,
    "start_time": "2024-10-24T17:47:05.280Z"
   },
   {
    "duration": 5,
    "start_time": "2024-10-24T17:47:05.310Z"
   },
   {
    "duration": 5,
    "start_time": "2024-10-24T17:47:05.317Z"
   },
   {
    "duration": 30,
    "start_time": "2024-10-24T17:47:05.324Z"
   },
   {
    "duration": 5,
    "start_time": "2024-10-24T17:47:05.355Z"
   },
   {
    "duration": 11,
    "start_time": "2024-10-24T17:47:05.361Z"
   },
   {
    "duration": 26,
    "start_time": "2024-10-24T17:47:05.373Z"
   },
   {
    "duration": 6,
    "start_time": "2024-10-24T17:47:05.400Z"
   },
   {
    "duration": 9,
    "start_time": "2024-10-24T17:47:05.408Z"
   },
   {
    "duration": 6,
    "start_time": "2024-10-24T17:47:05.419Z"
   },
   {
    "duration": 60,
    "start_time": "2024-10-24T17:47:05.427Z"
   },
   {
    "duration": 20,
    "start_time": "2024-10-24T17:47:05.488Z"
   },
   {
    "duration": 4,
    "start_time": "2024-10-24T17:47:05.510Z"
   },
   {
    "duration": 200,
    "start_time": "2024-10-24T17:47:05.515Z"
   },
   {
    "duration": 162,
    "start_time": "2024-10-24T17:47:05.717Z"
   },
   {
    "duration": 11,
    "start_time": "2024-10-24T17:47:05.881Z"
   },
   {
    "duration": 216,
    "start_time": "2024-10-24T17:47:05.893Z"
   },
   {
    "duration": 188,
    "start_time": "2024-10-24T17:47:06.110Z"
   },
   {
    "duration": 14,
    "start_time": "2024-10-24T17:47:06.300Z"
   },
   {
    "duration": 51,
    "start_time": "2024-10-24T17:47:06.316Z"
   },
   {
    "duration": 35,
    "start_time": "2024-10-24T17:47:06.368Z"
   },
   {
    "duration": 23,
    "start_time": "2024-10-24T17:47:06.404Z"
   },
   {
    "duration": 21,
    "start_time": "2024-10-24T17:47:06.429Z"
   },
   {
    "duration": 4,
    "start_time": "2024-10-24T17:47:06.452Z"
   },
   {
    "duration": 21,
    "start_time": "2024-10-24T17:47:06.457Z"
   },
   {
    "duration": 51,
    "start_time": "2024-10-24T17:47:06.480Z"
   },
   {
    "duration": 24,
    "start_time": "2024-10-24T17:47:06.532Z"
   },
   {
    "duration": 169,
    "start_time": "2024-10-24T17:47:06.557Z"
   },
   {
    "duration": 162,
    "start_time": "2024-10-24T17:47:06.728Z"
   },
   {
    "duration": 156,
    "start_time": "2024-10-24T17:47:06.892Z"
   },
   {
    "duration": 4,
    "start_time": "2024-10-24T17:47:07.049Z"
   },
   {
    "duration": 17,
    "start_time": "2024-10-24T17:47:07.054Z"
   },
   {
    "duration": 19,
    "start_time": "2024-10-24T17:47:07.073Z"
   },
   {
    "duration": 10,
    "start_time": "2024-10-24T17:47:07.094Z"
   },
   {
    "duration": 9,
    "start_time": "2024-10-24T17:47:07.105Z"
   },
   {
    "duration": 10,
    "start_time": "2024-10-24T17:47:07.116Z"
   },
   {
    "duration": 62,
    "start_time": "2024-10-24T17:47:07.127Z"
   },
   {
    "duration": 59,
    "start_time": "2024-10-24T17:47:07.190Z"
   },
   {
    "duration": 42,
    "start_time": "2024-10-24T17:47:07.250Z"
   },
   {
    "duration": 11,
    "start_time": "2024-10-24T17:47:07.293Z"
   },
   {
    "duration": 40,
    "start_time": "2024-10-24T17:47:07.305Z"
   },
   {
    "duration": 134025,
    "start_time": "2024-10-24T17:47:07.347Z"
   },
   {
    "duration": 49,
    "start_time": "2024-10-25T08:18:31.614Z"
   },
   {
    "duration": 15909,
    "start_time": "2024-10-25T08:18:38.624Z"
   },
   {
    "duration": 416,
    "start_time": "2024-10-25T08:18:54.535Z"
   },
   {
    "duration": 18,
    "start_time": "2024-10-25T08:18:54.953Z"
   },
   {
    "duration": 16,
    "start_time": "2024-10-25T08:18:54.973Z"
   },
   {
    "duration": 14,
    "start_time": "2024-10-25T08:18:54.991Z"
   },
   {
    "duration": 13,
    "start_time": "2024-10-25T08:18:55.007Z"
   },
   {
    "duration": 12,
    "start_time": "2024-10-25T08:18:55.022Z"
   },
   {
    "duration": 25,
    "start_time": "2024-10-25T08:18:55.036Z"
   },
   {
    "duration": 8,
    "start_time": "2024-10-25T08:18:55.063Z"
   },
   {
    "duration": 11,
    "start_time": "2024-10-25T08:18:55.074Z"
   },
   {
    "duration": 5,
    "start_time": "2024-10-25T08:18:55.087Z"
   },
   {
    "duration": 25,
    "start_time": "2024-10-25T08:18:55.122Z"
   },
   {
    "duration": 7,
    "start_time": "2024-10-25T08:18:55.149Z"
   },
   {
    "duration": 9,
    "start_time": "2024-10-25T08:18:55.159Z"
   },
   {
    "duration": 7,
    "start_time": "2024-10-25T08:18:55.170Z"
   },
   {
    "duration": 46,
    "start_time": "2024-10-25T08:18:55.178Z"
   },
   {
    "duration": 14,
    "start_time": "2024-10-25T08:18:55.226Z"
   },
   {
    "duration": 8,
    "start_time": "2024-10-25T08:18:55.241Z"
   },
   {
    "duration": 5,
    "start_time": "2024-10-25T08:18:55.250Z"
   },
   {
    "duration": 11,
    "start_time": "2024-10-25T08:18:55.256Z"
   },
   {
    "duration": 4,
    "start_time": "2024-10-25T08:18:55.269Z"
   },
   {
    "duration": 12,
    "start_time": "2024-10-25T08:18:55.275Z"
   },
   {
    "duration": 35,
    "start_time": "2024-10-25T08:18:55.288Z"
   },
   {
    "duration": 7,
    "start_time": "2024-10-25T08:18:55.324Z"
   },
   {
    "duration": 9,
    "start_time": "2024-10-25T08:18:55.333Z"
   },
   {
    "duration": 10,
    "start_time": "2024-10-25T08:18:55.343Z"
   },
   {
    "duration": 10,
    "start_time": "2024-10-25T08:18:55.355Z"
   },
   {
    "duration": 8,
    "start_time": "2024-10-25T08:18:55.369Z"
   },
   {
    "duration": 43,
    "start_time": "2024-10-25T08:18:55.379Z"
   },
   {
    "duration": 17,
    "start_time": "2024-10-25T08:18:55.424Z"
   },
   {
    "duration": 22,
    "start_time": "2024-10-25T08:18:55.443Z"
   },
   {
    "duration": 9,
    "start_time": "2024-10-25T08:18:55.466Z"
   },
   {
    "duration": 7,
    "start_time": "2024-10-25T08:18:55.476Z"
   },
   {
    "duration": 18,
    "start_time": "2024-10-25T08:18:55.484Z"
   },
   {
    "duration": 36,
    "start_time": "2024-10-25T08:18:55.504Z"
   },
   {
    "duration": 5,
    "start_time": "2024-10-25T08:18:55.542Z"
   },
   {
    "duration": 6,
    "start_time": "2024-10-25T08:18:55.549Z"
   },
   {
    "duration": 9,
    "start_time": "2024-10-25T08:18:55.557Z"
   },
   {
    "duration": 21,
    "start_time": "2024-10-25T08:18:55.568Z"
   },
   {
    "duration": 6,
    "start_time": "2024-10-25T08:18:55.591Z"
   },
   {
    "duration": 235,
    "start_time": "2024-10-25T08:18:55.599Z"
   },
   {
    "duration": 195,
    "start_time": "2024-10-25T08:18:55.837Z"
   },
   {
    "duration": 13,
    "start_time": "2024-10-25T08:18:56.034Z"
   },
   {
    "duration": 208,
    "start_time": "2024-10-25T08:18:56.049Z"
   },
   {
    "duration": 228,
    "start_time": "2024-10-25T08:18:56.259Z"
   },
   {
    "duration": 16,
    "start_time": "2024-10-25T08:18:56.489Z"
   },
   {
    "duration": 19,
    "start_time": "2024-10-25T08:18:56.507Z"
   },
   {
    "duration": 9,
    "start_time": "2024-10-25T08:18:56.528Z"
   },
   {
    "duration": 19,
    "start_time": "2024-10-25T08:18:56.538Z"
   },
   {
    "duration": 10,
    "start_time": "2024-10-25T08:18:56.558Z"
   },
   {
    "duration": 6,
    "start_time": "2024-10-25T08:18:56.570Z"
   },
   {
    "duration": 25,
    "start_time": "2024-10-25T08:18:56.578Z"
   },
   {
    "duration": 16,
    "start_time": "2024-10-25T08:18:56.610Z"
   },
   {
    "duration": 10,
    "start_time": "2024-10-25T08:18:56.627Z"
   },
   {
    "duration": 256,
    "start_time": "2024-10-25T08:18:56.639Z"
   },
   {
    "duration": 171,
    "start_time": "2024-10-25T08:18:56.897Z"
   },
   {
    "duration": 174,
    "start_time": "2024-10-25T08:18:57.070Z"
   },
   {
    "duration": 4,
    "start_time": "2024-10-25T08:18:57.245Z"
   },
   {
    "duration": 9,
    "start_time": "2024-10-25T08:18:57.251Z"
   },
   {
    "duration": 4,
    "start_time": "2024-10-25T08:18:57.262Z"
   },
   {
    "duration": 17,
    "start_time": "2024-10-25T08:18:57.268Z"
   },
   {
    "duration": 19,
    "start_time": "2024-10-25T08:18:57.287Z"
   },
   {
    "duration": 5,
    "start_time": "2024-10-25T08:18:57.307Z"
   },
   {
    "duration": 11,
    "start_time": "2024-10-25T08:18:57.313Z"
   },
   {
    "duration": 16,
    "start_time": "2024-10-25T08:18:57.325Z"
   },
   {
    "duration": 11,
    "start_time": "2024-10-25T08:18:57.342Z"
   },
   {
    "duration": 7,
    "start_time": "2024-10-25T08:18:57.355Z"
   },
   {
    "duration": 29,
    "start_time": "2024-10-25T08:18:57.364Z"
   },
   {
    "duration": 815,
    "start_time": "2024-10-25T08:18:57.395Z"
   },
   {
    "duration": 289,
    "start_time": "2024-10-25T08:21:16.474Z"
   },
   {
    "duration": 9672,
    "start_time": "2024-10-25T08:26:44.588Z"
   },
   {
    "duration": 99,
    "start_time": "2024-10-25T08:26:54.263Z"
   },
   {
    "duration": 17,
    "start_time": "2024-10-25T08:26:54.364Z"
   },
   {
    "duration": 14,
    "start_time": "2024-10-25T08:26:54.383Z"
   },
   {
    "duration": 8,
    "start_time": "2024-10-25T08:26:54.399Z"
   },
   {
    "duration": 12,
    "start_time": "2024-10-25T08:26:54.409Z"
   },
   {
    "duration": 18,
    "start_time": "2024-10-25T08:26:54.423Z"
   },
   {
    "duration": 32,
    "start_time": "2024-10-25T08:26:54.443Z"
   },
   {
    "duration": 16,
    "start_time": "2024-10-25T08:26:54.477Z"
   },
   {
    "duration": 20,
    "start_time": "2024-10-25T08:26:54.496Z"
   },
   {
    "duration": 11,
    "start_time": "2024-10-25T08:26:54.518Z"
   },
   {
    "duration": 17,
    "start_time": "2024-10-25T08:26:54.531Z"
   },
   {
    "duration": 81,
    "start_time": "2024-10-25T08:26:54.550Z"
   },
   {
    "duration": 30,
    "start_time": "2024-10-25T08:26:54.632Z"
   },
   {
    "duration": 14,
    "start_time": "2024-10-25T08:26:54.664Z"
   },
   {
    "duration": 17,
    "start_time": "2024-10-25T08:26:54.680Z"
   },
   {
    "duration": 17,
    "start_time": "2024-10-25T08:26:54.699Z"
   },
   {
    "duration": 4,
    "start_time": "2024-10-25T08:26:54.718Z"
   },
   {
    "duration": 28,
    "start_time": "2024-10-25T08:26:54.724Z"
   },
   {
    "duration": 82,
    "start_time": "2024-10-25T08:26:54.754Z"
   },
   {
    "duration": 8,
    "start_time": "2024-10-25T08:26:54.838Z"
   },
   {
    "duration": 14,
    "start_time": "2024-10-25T08:26:54.847Z"
   },
   {
    "duration": 10,
    "start_time": "2024-10-25T08:26:54.862Z"
   },
   {
    "duration": 19,
    "start_time": "2024-10-25T08:26:54.874Z"
   },
   {
    "duration": 26,
    "start_time": "2024-10-25T08:26:54.895Z"
   },
   {
    "duration": 20,
    "start_time": "2024-10-25T08:26:54.923Z"
   },
   {
    "duration": 24,
    "start_time": "2024-10-25T08:26:54.945Z"
   },
   {
    "duration": 13,
    "start_time": "2024-10-25T08:26:54.974Z"
   },
   {
    "duration": 9,
    "start_time": "2024-10-25T08:26:54.989Z"
   },
   {
    "duration": 7,
    "start_time": "2024-10-25T08:26:54.999Z"
   },
   {
    "duration": 30,
    "start_time": "2024-10-25T08:26:55.007Z"
   },
   {
    "duration": 30,
    "start_time": "2024-10-25T08:26:55.039Z"
   },
   {
    "duration": 55,
    "start_time": "2024-10-25T08:26:55.071Z"
   },
   {
    "duration": 37,
    "start_time": "2024-10-25T08:26:55.127Z"
   },
   {
    "duration": 58,
    "start_time": "2024-10-25T08:26:55.166Z"
   },
   {
    "duration": 17,
    "start_time": "2024-10-25T08:26:55.226Z"
   },
   {
    "duration": 17,
    "start_time": "2024-10-25T08:26:55.245Z"
   },
   {
    "duration": 23,
    "start_time": "2024-10-25T08:26:55.264Z"
   },
   {
    "duration": 10,
    "start_time": "2024-10-25T08:26:55.289Z"
   },
   {
    "duration": 7,
    "start_time": "2024-10-25T08:26:55.301Z"
   },
   {
    "duration": 247,
    "start_time": "2024-10-25T08:26:55.310Z"
   },
   {
    "duration": 194,
    "start_time": "2024-10-25T08:26:55.559Z"
   },
   {
    "duration": 14,
    "start_time": "2024-10-25T08:26:55.755Z"
   },
   {
    "duration": 215,
    "start_time": "2024-10-25T08:26:55.771Z"
   },
   {
    "duration": 218,
    "start_time": "2024-10-25T08:26:55.988Z"
   },
   {
    "duration": 22,
    "start_time": "2024-10-25T08:26:56.207Z"
   },
   {
    "duration": 8,
    "start_time": "2024-10-25T08:26:56.231Z"
   },
   {
    "duration": 18,
    "start_time": "2024-10-25T08:26:56.241Z"
   },
   {
    "duration": 6,
    "start_time": "2024-10-25T08:26:56.261Z"
   },
   {
    "duration": 17,
    "start_time": "2024-10-25T08:26:56.269Z"
   },
   {
    "duration": 6,
    "start_time": "2024-10-25T08:26:56.287Z"
   },
   {
    "duration": 14,
    "start_time": "2024-10-25T08:26:56.295Z"
   },
   {
    "duration": 36,
    "start_time": "2024-10-25T08:26:56.311Z"
   },
   {
    "duration": 9,
    "start_time": "2024-10-25T08:26:56.349Z"
   },
   {
    "duration": 180,
    "start_time": "2024-10-25T08:26:56.360Z"
   },
   {
    "duration": 253,
    "start_time": "2024-10-25T08:26:56.542Z"
   },
   {
    "duration": 188,
    "start_time": "2024-10-25T08:26:56.797Z"
   },
   {
    "duration": 5,
    "start_time": "2024-10-25T08:26:56.987Z"
   },
   {
    "duration": 6,
    "start_time": "2024-10-25T08:26:56.994Z"
   },
   {
    "duration": 22,
    "start_time": "2024-10-25T08:26:57.002Z"
   },
   {
    "duration": 14,
    "start_time": "2024-10-25T08:26:57.025Z"
   },
   {
    "duration": 18,
    "start_time": "2024-10-25T08:26:57.041Z"
   },
   {
    "duration": 9,
    "start_time": "2024-10-25T08:26:57.061Z"
   },
   {
    "duration": 5,
    "start_time": "2024-10-25T08:26:57.072Z"
   },
   {
    "duration": 4,
    "start_time": "2024-10-25T08:26:57.079Z"
   },
   {
    "duration": 10,
    "start_time": "2024-10-25T08:26:57.085Z"
   },
   {
    "duration": 7,
    "start_time": "2024-10-25T08:26:57.097Z"
   },
   {
    "duration": 29,
    "start_time": "2024-10-25T08:26:57.120Z"
   },
   {
    "duration": 144722,
    "start_time": "2024-10-25T08:26:57.150Z"
   },
   {
    "duration": 144957,
    "start_time": "2024-10-25T08:29:21.874Z"
   },
   {
    "duration": 144220,
    "start_time": "2024-10-25T08:31:46.836Z"
   },
   {
    "duration": 5,
    "start_time": "2024-10-25T08:34:11.058Z"
   },
   {
    "duration": 9490,
    "start_time": "2024-10-25T08:38:20.815Z"
   },
   {
    "duration": 99,
    "start_time": "2024-10-25T08:38:30.307Z"
   },
   {
    "duration": 20,
    "start_time": "2024-10-25T08:38:30.407Z"
   },
   {
    "duration": 28,
    "start_time": "2024-10-25T08:38:30.429Z"
   },
   {
    "duration": 82,
    "start_time": "2024-10-25T08:38:30.459Z"
   },
   {
    "duration": 152,
    "start_time": "2024-10-25T08:38:30.543Z"
   },
   {
    "duration": 17,
    "start_time": "2024-10-25T08:38:30.696Z"
   },
   {
    "duration": 26,
    "start_time": "2024-10-25T08:38:30.715Z"
   },
   {
    "duration": 16,
    "start_time": "2024-10-25T08:38:30.743Z"
   },
   {
    "duration": 70,
    "start_time": "2024-10-25T08:38:30.762Z"
   },
   {
    "duration": 62,
    "start_time": "2024-10-25T08:38:30.834Z"
   },
   {
    "duration": 35,
    "start_time": "2024-10-25T08:38:30.897Z"
   },
   {
    "duration": 40,
    "start_time": "2024-10-25T08:38:30.938Z"
   },
   {
    "duration": 13,
    "start_time": "2024-10-25T08:38:30.980Z"
   },
   {
    "duration": 21,
    "start_time": "2024-10-25T08:38:30.994Z"
   },
   {
    "duration": 43,
    "start_time": "2024-10-25T08:38:31.017Z"
   },
   {
    "duration": 28,
    "start_time": "2024-10-25T08:38:31.062Z"
   },
   {
    "duration": 11,
    "start_time": "2024-10-25T08:38:31.092Z"
   },
   {
    "duration": 23,
    "start_time": "2024-10-25T08:38:31.105Z"
   },
   {
    "duration": 21,
    "start_time": "2024-10-25T08:38:31.130Z"
   },
   {
    "duration": 19,
    "start_time": "2024-10-25T08:38:31.152Z"
   },
   {
    "duration": 25,
    "start_time": "2024-10-25T08:38:31.173Z"
   },
   {
    "duration": 39,
    "start_time": "2024-10-25T08:38:31.200Z"
   },
   {
    "duration": 9,
    "start_time": "2024-10-25T08:38:31.240Z"
   },
   {
    "duration": 56,
    "start_time": "2024-10-25T08:38:31.250Z"
   },
   {
    "duration": 28,
    "start_time": "2024-10-25T08:38:31.308Z"
   },
   {
    "duration": 16,
    "start_time": "2024-10-25T08:38:31.337Z"
   },
   {
    "duration": 41,
    "start_time": "2024-10-25T08:38:31.357Z"
   },
   {
    "duration": 21,
    "start_time": "2024-10-25T08:38:31.399Z"
   },
   {
    "duration": 16,
    "start_time": "2024-10-25T08:38:31.421Z"
   },
   {
    "duration": 64,
    "start_time": "2024-10-25T08:38:31.439Z"
   },
   {
    "duration": 83,
    "start_time": "2024-10-25T08:38:31.504Z"
   },
   {
    "duration": 24,
    "start_time": "2024-10-25T08:38:31.588Z"
   },
   {
    "duration": 6,
    "start_time": "2024-10-25T08:38:31.614Z"
   },
   {
    "duration": 21,
    "start_time": "2024-10-25T08:38:31.622Z"
   },
   {
    "duration": 28,
    "start_time": "2024-10-25T08:38:31.644Z"
   },
   {
    "duration": 11,
    "start_time": "2024-10-25T08:38:31.674Z"
   },
   {
    "duration": 5,
    "start_time": "2024-10-25T08:38:31.687Z"
   },
   {
    "duration": 32,
    "start_time": "2024-10-25T08:38:31.694Z"
   },
   {
    "duration": 21,
    "start_time": "2024-10-25T08:38:31.728Z"
   },
   {
    "duration": 258,
    "start_time": "2024-10-25T08:38:31.751Z"
   },
   {
    "duration": 206,
    "start_time": "2024-10-25T08:38:32.011Z"
   },
   {
    "duration": 12,
    "start_time": "2024-10-25T08:38:32.221Z"
   },
   {
    "duration": 210,
    "start_time": "2024-10-25T08:38:32.235Z"
   },
   {
    "duration": 222,
    "start_time": "2024-10-25T08:38:32.447Z"
   },
   {
    "duration": 16,
    "start_time": "2024-10-25T08:38:32.671Z"
   },
   {
    "duration": 187,
    "start_time": "2024-10-25T08:38:32.689Z"
   },
   {
    "duration": 50,
    "start_time": "2024-10-25T08:38:32.878Z"
   },
   {
    "duration": 32,
    "start_time": "2024-10-25T08:38:32.930Z"
   },
   {
    "duration": 62,
    "start_time": "2024-10-25T08:38:32.964Z"
   },
   {
    "duration": 71,
    "start_time": "2024-10-25T08:38:33.028Z"
   },
   {
    "duration": 21,
    "start_time": "2024-10-25T08:38:33.100Z"
   },
   {
    "duration": 28,
    "start_time": "2024-10-25T08:38:33.123Z"
   },
   {
    "duration": 27,
    "start_time": "2024-10-25T08:38:33.153Z"
   },
   {
    "duration": 180,
    "start_time": "2024-10-25T08:38:33.182Z"
   },
   {
    "duration": 271,
    "start_time": "2024-10-25T08:38:33.364Z"
   },
   {
    "duration": 199,
    "start_time": "2024-10-25T08:38:33.638Z"
   },
   {
    "duration": 5,
    "start_time": "2024-10-25T08:38:33.840Z"
   },
   {
    "duration": 20,
    "start_time": "2024-10-25T08:38:33.847Z"
   },
   {
    "duration": 19,
    "start_time": "2024-10-25T08:38:33.869Z"
   },
   {
    "duration": 32,
    "start_time": "2024-10-25T08:38:33.890Z"
   },
   {
    "duration": 18,
    "start_time": "2024-10-25T08:38:33.924Z"
   },
   {
    "duration": 9,
    "start_time": "2024-10-25T08:38:33.944Z"
   },
   {
    "duration": 71,
    "start_time": "2024-10-25T08:38:33.955Z"
   },
   {
    "duration": 52,
    "start_time": "2024-10-25T08:38:34.028Z"
   },
   {
    "duration": 17,
    "start_time": "2024-10-25T08:38:34.082Z"
   },
   {
    "duration": 16,
    "start_time": "2024-10-25T08:38:34.101Z"
   },
   {
    "duration": 23,
    "start_time": "2024-10-25T08:38:34.120Z"
   },
   {
    "duration": 52,
    "start_time": "2024-10-25T08:38:34.145Z"
   },
   {
    "duration": 142794,
    "start_time": "2024-10-25T08:38:34.200Z"
   },
   {
    "duration": 142832,
    "start_time": "2024-10-25T08:40:56.996Z"
   },
   {
    "duration": 963,
    "start_time": "2024-10-25T08:43:19.833Z"
   },
   {
    "duration": 141079,
    "start_time": "2024-10-25T08:48:39.735Z"
   },
   {
    "duration": 167,
    "start_time": "2024-10-25T08:51:21.519Z"
   },
   {
    "duration": 11,
    "start_time": "2024-10-25T08:52:24.700Z"
   },
   {
    "duration": 157,
    "start_time": "2024-10-25T08:52:30.751Z"
   },
   {
    "duration": 168,
    "start_time": "2024-10-25T08:53:38.295Z"
   },
   {
    "duration": 196,
    "start_time": "2024-10-25T08:55:27.212Z"
   },
   {
    "duration": 176,
    "start_time": "2024-10-25T08:55:46.599Z"
   },
   {
    "duration": 164,
    "start_time": "2024-10-25T08:57:13.532Z"
   },
   {
    "duration": 167,
    "start_time": "2024-10-25T08:58:50.995Z"
   },
   {
    "duration": 156,
    "start_time": "2024-10-25T09:00:04.901Z"
   },
   {
    "duration": 154,
    "start_time": "2024-10-25T09:01:52.167Z"
   },
   {
    "duration": 5,
    "start_time": "2024-10-25T09:02:53.269Z"
   },
   {
    "duration": 1004,
    "start_time": "2024-10-25T09:04:01.993Z"
   },
   {
    "duration": 170,
    "start_time": "2024-10-25T09:04:14.087Z"
   },
   {
    "duration": 22,
    "start_time": "2024-10-25T09:32:18.734Z"
   },
   {
    "duration": 8114,
    "start_time": "2024-10-25T09:36:46.026Z"
   },
   {
    "duration": 101,
    "start_time": "2024-10-25T09:36:54.142Z"
   },
   {
    "duration": 12,
    "start_time": "2024-10-25T09:36:54.245Z"
   },
   {
    "duration": 38,
    "start_time": "2024-10-25T09:36:54.259Z"
   },
   {
    "duration": 9,
    "start_time": "2024-10-25T09:36:54.299Z"
   },
   {
    "duration": 14,
    "start_time": "2024-10-25T09:36:54.310Z"
   },
   {
    "duration": 10,
    "start_time": "2024-10-25T09:36:54.326Z"
   },
   {
    "duration": 12,
    "start_time": "2024-10-25T09:36:54.338Z"
   },
   {
    "duration": 14,
    "start_time": "2024-10-25T09:36:54.352Z"
   },
   {
    "duration": 11,
    "start_time": "2024-10-25T09:36:54.369Z"
   },
   {
    "duration": 5,
    "start_time": "2024-10-25T09:36:54.382Z"
   },
   {
    "duration": 40,
    "start_time": "2024-10-25T09:36:54.388Z"
   },
   {
    "duration": 20,
    "start_time": "2024-10-25T09:36:54.429Z"
   },
   {
    "duration": 16,
    "start_time": "2024-10-25T09:36:54.451Z"
   },
   {
    "duration": 7,
    "start_time": "2024-10-25T09:36:54.469Z"
   },
   {
    "duration": 11,
    "start_time": "2024-10-25T09:36:54.478Z"
   },
   {
    "duration": 18,
    "start_time": "2024-10-25T09:36:54.491Z"
   },
   {
    "duration": 9,
    "start_time": "2024-10-25T09:36:54.511Z"
   },
   {
    "duration": 7,
    "start_time": "2024-10-25T09:36:54.522Z"
   },
   {
    "duration": 15,
    "start_time": "2024-10-25T09:36:54.530Z"
   },
   {
    "duration": 15,
    "start_time": "2024-10-25T09:36:54.547Z"
   },
   {
    "duration": 25,
    "start_time": "2024-10-25T09:36:54.563Z"
   },
   {
    "duration": 12,
    "start_time": "2024-10-25T09:36:54.590Z"
   },
   {
    "duration": 9,
    "start_time": "2024-10-25T09:36:54.604Z"
   },
   {
    "duration": 12,
    "start_time": "2024-10-25T09:36:54.615Z"
   },
   {
    "duration": 8,
    "start_time": "2024-10-25T09:36:54.628Z"
   },
   {
    "duration": 7,
    "start_time": "2024-10-25T09:36:54.638Z"
   },
   {
    "duration": 9,
    "start_time": "2024-10-25T09:36:54.649Z"
   },
   {
    "duration": 10,
    "start_time": "2024-10-25T09:36:54.659Z"
   },
   {
    "duration": 8,
    "start_time": "2024-10-25T09:36:54.671Z"
   },
   {
    "duration": 9,
    "start_time": "2024-10-25T09:36:54.680Z"
   },
   {
    "duration": 31,
    "start_time": "2024-10-25T09:36:54.690Z"
   },
   {
    "duration": 21,
    "start_time": "2024-10-25T09:36:54.723Z"
   },
   {
    "duration": 27,
    "start_time": "2024-10-25T09:36:54.746Z"
   },
   {
    "duration": 10,
    "start_time": "2024-10-25T09:36:54.775Z"
   },
   {
    "duration": 53,
    "start_time": "2024-10-25T09:36:54.788Z"
   },
   {
    "duration": 60,
    "start_time": "2024-10-25T09:36:54.843Z"
   },
   {
    "duration": 7,
    "start_time": "2024-10-25T09:36:54.905Z"
   },
   {
    "duration": 55,
    "start_time": "2024-10-25T09:36:54.913Z"
   },
   {
    "duration": 5,
    "start_time": "2024-10-25T09:36:54.970Z"
   },
   {
    "duration": 323,
    "start_time": "2024-10-25T09:36:54.977Z"
   },
   {
    "duration": 187,
    "start_time": "2024-10-25T09:36:55.301Z"
   },
   {
    "duration": 14,
    "start_time": "2024-10-25T09:36:55.489Z"
   },
   {
    "duration": 199,
    "start_time": "2024-10-25T09:36:55.505Z"
   },
   {
    "duration": 214,
    "start_time": "2024-10-25T09:36:55.706Z"
   },
   {
    "duration": 15,
    "start_time": "2024-10-25T09:36:55.922Z"
   },
   {
    "duration": 8,
    "start_time": "2024-10-25T09:36:55.939Z"
   },
   {
    "duration": 18,
    "start_time": "2024-10-25T09:36:55.949Z"
   },
   {
    "duration": 26,
    "start_time": "2024-10-25T09:36:55.969Z"
   },
   {
    "duration": 5,
    "start_time": "2024-10-25T09:36:55.997Z"
   },
   {
    "duration": 6,
    "start_time": "2024-10-25T09:36:56.004Z"
   },
   {
    "duration": 13,
    "start_time": "2024-10-25T09:36:56.020Z"
   },
   {
    "duration": 16,
    "start_time": "2024-10-25T09:36:56.035Z"
   },
   {
    "duration": 9,
    "start_time": "2024-10-25T09:36:56.053Z"
   },
   {
    "duration": 180,
    "start_time": "2024-10-25T09:36:56.064Z"
   },
   {
    "duration": 180,
    "start_time": "2024-10-25T09:36:56.246Z"
   },
   {
    "duration": 177,
    "start_time": "2024-10-25T09:36:56.428Z"
   },
   {
    "duration": 5,
    "start_time": "2024-10-25T09:36:56.607Z"
   },
   {
    "duration": 5,
    "start_time": "2024-10-25T09:36:56.621Z"
   },
   {
    "duration": 6,
    "start_time": "2024-10-25T09:36:56.628Z"
   },
   {
    "duration": 7,
    "start_time": "2024-10-25T09:36:56.635Z"
   },
   {
    "duration": 19,
    "start_time": "2024-10-25T09:36:56.644Z"
   },
   {
    "duration": 12,
    "start_time": "2024-10-25T09:36:56.665Z"
   },
   {
    "duration": 7,
    "start_time": "2024-10-25T09:36:56.688Z"
   },
   {
    "duration": 13,
    "start_time": "2024-10-25T09:36:56.697Z"
   },
   {
    "duration": 10,
    "start_time": "2024-10-25T09:36:56.711Z"
   },
   {
    "duration": 11,
    "start_time": "2024-10-25T09:36:56.723Z"
   },
   {
    "duration": 9,
    "start_time": "2024-10-25T09:36:56.736Z"
   },
   {
    "duration": 42,
    "start_time": "2024-10-25T09:36:56.747Z"
   },
   {
    "duration": 176,
    "start_time": "2024-10-25T09:36:56.791Z"
   },
   {
    "duration": 178,
    "start_time": "2024-10-25T09:36:56.969Z"
   },
   {
    "duration": 163,
    "start_time": "2024-10-25T09:36:57.149Z"
   },
   {
    "duration": 177,
    "start_time": "2024-10-25T09:36:57.314Z"
   },
   {
    "duration": 173,
    "start_time": "2024-10-25T09:36:57.493Z"
   },
   {
    "duration": 182,
    "start_time": "2024-10-25T09:36:57.668Z"
   },
   {
    "duration": 173,
    "start_time": "2024-10-25T09:36:57.852Z"
   },
   {
    "duration": 5,
    "start_time": "2024-10-25T09:36:58.027Z"
   },
   {
    "duration": 212,
    "start_time": "2024-10-25T09:36:58.034Z"
   },
   {
    "duration": 24,
    "start_time": "2024-10-25T09:36:58.248Z"
   },
   {
    "duration": 18,
    "start_time": "2024-10-25T09:36:58.274Z"
   },
   {
    "duration": 50,
    "start_time": "2024-10-26T07:59:17.769Z"
   },
   {
    "duration": 16508,
    "start_time": "2024-10-26T08:00:39.972Z"
   },
   {
    "duration": 383,
    "start_time": "2024-10-26T08:00:56.483Z"
   },
   {
    "duration": 18,
    "start_time": "2024-10-26T08:00:56.867Z"
   },
   {
    "duration": 14,
    "start_time": "2024-10-26T08:00:56.887Z"
   },
   {
    "duration": 13,
    "start_time": "2024-10-26T08:00:56.903Z"
   },
   {
    "duration": 88,
    "start_time": "2024-10-26T08:00:56.918Z"
   },
   {
    "duration": 11,
    "start_time": "2024-10-26T08:00:57.008Z"
   },
   {
    "duration": 15,
    "start_time": "2024-10-26T08:00:57.021Z"
   },
   {
    "duration": 18,
    "start_time": "2024-10-26T08:00:57.038Z"
   },
   {
    "duration": 10,
    "start_time": "2024-10-26T08:00:57.060Z"
   },
   {
    "duration": 4,
    "start_time": "2024-10-26T08:00:57.071Z"
   },
   {
    "duration": 22,
    "start_time": "2024-10-26T08:00:57.076Z"
   },
   {
    "duration": 21,
    "start_time": "2024-10-26T08:00:57.100Z"
   },
   {
    "duration": 10,
    "start_time": "2024-10-26T08:00:57.123Z"
   },
   {
    "duration": 10,
    "start_time": "2024-10-26T08:00:57.135Z"
   },
   {
    "duration": 38,
    "start_time": "2024-10-26T08:00:57.151Z"
   },
   {
    "duration": 25,
    "start_time": "2024-10-26T08:00:57.191Z"
   },
   {
    "duration": 4,
    "start_time": "2024-10-26T08:00:57.218Z"
   },
   {
    "duration": 16,
    "start_time": "2024-10-26T08:00:57.224Z"
   },
   {
    "duration": 19,
    "start_time": "2024-10-26T08:00:57.242Z"
   },
   {
    "duration": 12,
    "start_time": "2024-10-26T08:00:57.263Z"
   },
   {
    "duration": 16,
    "start_time": "2024-10-26T08:00:57.276Z"
   },
   {
    "duration": 78,
    "start_time": "2024-10-26T08:00:57.294Z"
   },
   {
    "duration": 8,
    "start_time": "2024-10-26T08:00:57.374Z"
   },
   {
    "duration": 21,
    "start_time": "2024-10-26T08:00:57.384Z"
   },
   {
    "duration": 17,
    "start_time": "2024-10-26T08:00:57.407Z"
   },
   {
    "duration": 8,
    "start_time": "2024-10-26T08:00:57.425Z"
   },
   {
    "duration": 24,
    "start_time": "2024-10-26T08:00:57.437Z"
   },
   {
    "duration": 21,
    "start_time": "2024-10-26T08:00:57.463Z"
   },
   {
    "duration": 23,
    "start_time": "2024-10-26T08:00:57.485Z"
   },
   {
    "duration": 11,
    "start_time": "2024-10-26T08:00:57.510Z"
   },
   {
    "duration": 14,
    "start_time": "2024-10-26T08:00:57.522Z"
   },
   {
    "duration": 35,
    "start_time": "2024-10-26T08:00:57.537Z"
   },
   {
    "duration": 11,
    "start_time": "2024-10-26T08:00:57.573Z"
   },
   {
    "duration": 8,
    "start_time": "2024-10-26T08:00:57.585Z"
   },
   {
    "duration": 15,
    "start_time": "2024-10-26T08:00:57.595Z"
   },
   {
    "duration": 4,
    "start_time": "2024-10-26T08:00:57.612Z"
   },
   {
    "duration": 4,
    "start_time": "2024-10-26T08:00:57.618Z"
   },
   {
    "duration": 26,
    "start_time": "2024-10-26T08:00:57.624Z"
   },
   {
    "duration": 3,
    "start_time": "2024-10-26T08:00:57.652Z"
   },
   {
    "duration": 226,
    "start_time": "2024-10-26T08:00:57.657Z"
   },
   {
    "duration": 184,
    "start_time": "2024-10-26T08:00:57.884Z"
   },
   {
    "duration": 16,
    "start_time": "2024-10-26T08:00:58.069Z"
   },
   {
    "duration": 203,
    "start_time": "2024-10-26T08:00:58.087Z"
   },
   {
    "duration": 217,
    "start_time": "2024-10-26T08:00:58.292Z"
   },
   {
    "duration": 16,
    "start_time": "2024-10-26T08:00:58.511Z"
   },
   {
    "duration": 27,
    "start_time": "2024-10-26T08:00:58.528Z"
   },
   {
    "duration": 66,
    "start_time": "2024-10-26T08:00:58.557Z"
   },
   {
    "duration": 16,
    "start_time": "2024-10-26T08:00:58.624Z"
   },
   {
    "duration": 11,
    "start_time": "2024-10-26T08:00:58.642Z"
   },
   {
    "duration": 5,
    "start_time": "2024-10-26T08:00:58.655Z"
   },
   {
    "duration": 4,
    "start_time": "2024-10-26T08:00:58.662Z"
   },
   {
    "duration": 9,
    "start_time": "2024-10-26T08:00:58.668Z"
   },
   {
    "duration": 23,
    "start_time": "2024-10-26T08:00:58.678Z"
   },
   {
    "duration": 250,
    "start_time": "2024-10-26T08:00:58.702Z"
   },
   {
    "duration": 171,
    "start_time": "2024-10-26T08:00:58.953Z"
   },
   {
    "duration": 166,
    "start_time": "2024-10-26T08:00:59.126Z"
   },
   {
    "duration": 4,
    "start_time": "2024-10-26T08:00:59.293Z"
   },
   {
    "duration": 93,
    "start_time": "2024-10-26T08:00:59.299Z"
   },
   {
    "duration": 28,
    "start_time": "2024-10-26T08:00:59.394Z"
   },
   {
    "duration": 6,
    "start_time": "2024-10-26T08:00:59.424Z"
   },
   {
    "duration": 23,
    "start_time": "2024-10-26T08:00:59.432Z"
   },
   {
    "duration": 6,
    "start_time": "2024-10-26T08:00:59.457Z"
   },
   {
    "duration": 5,
    "start_time": "2024-10-26T08:00:59.465Z"
   },
   {
    "duration": 9,
    "start_time": "2024-10-26T08:00:59.472Z"
   },
   {
    "duration": 9,
    "start_time": "2024-10-26T08:00:59.483Z"
   },
   {
    "duration": 28,
    "start_time": "2024-10-26T08:00:59.493Z"
   },
   {
    "duration": 13,
    "start_time": "2024-10-26T08:00:59.522Z"
   },
   {
    "duration": 41,
    "start_time": "2024-10-26T08:00:59.537Z"
   },
   {
    "duration": 183,
    "start_time": "2024-10-26T08:00:59.579Z"
   },
   {
    "duration": 181,
    "start_time": "2024-10-26T08:00:59.763Z"
   },
   {
    "duration": 168,
    "start_time": "2024-10-26T08:00:59.945Z"
   },
   {
    "duration": 172,
    "start_time": "2024-10-26T08:01:00.114Z"
   },
   {
    "duration": 197,
    "start_time": "2024-10-26T08:01:00.288Z"
   },
   {
    "duration": 173,
    "start_time": "2024-10-26T08:01:00.487Z"
   },
   {
    "duration": 170,
    "start_time": "2024-10-26T08:01:00.662Z"
   },
   {
    "duration": 4,
    "start_time": "2024-10-26T08:01:00.833Z"
   },
   {
    "duration": 182,
    "start_time": "2024-10-26T08:01:00.839Z"
   },
   {
    "duration": 33,
    "start_time": "2024-10-26T08:01:01.023Z"
   },
   {
    "duration": 17,
    "start_time": "2024-10-26T08:01:01.058Z"
   },
   {
    "duration": 118,
    "start_time": "2024-10-26T08:01:01.077Z"
   },
   {
    "duration": 8031,
    "start_time": "2024-10-26T08:01:32.309Z"
   },
   {
    "duration": 103,
    "start_time": "2024-10-26T08:01:40.343Z"
   },
   {
    "duration": 12,
    "start_time": "2024-10-26T08:01:40.448Z"
   },
   {
    "duration": 15,
    "start_time": "2024-10-26T08:01:40.462Z"
   },
   {
    "duration": 11,
    "start_time": "2024-10-26T08:01:40.478Z"
   },
   {
    "duration": 18,
    "start_time": "2024-10-26T08:01:40.490Z"
   },
   {
    "duration": 12,
    "start_time": "2024-10-26T08:01:40.509Z"
   },
   {
    "duration": 38,
    "start_time": "2024-10-26T08:01:40.522Z"
   },
   {
    "duration": 17,
    "start_time": "2024-10-26T08:01:40.562Z"
   },
   {
    "duration": 54,
    "start_time": "2024-10-26T08:01:40.581Z"
   },
   {
    "duration": 5,
    "start_time": "2024-10-26T08:01:40.637Z"
   },
   {
    "duration": 16,
    "start_time": "2024-10-26T08:01:40.643Z"
   },
   {
    "duration": 4,
    "start_time": "2024-10-26T08:01:40.661Z"
   },
   {
    "duration": 7,
    "start_time": "2024-10-26T08:01:40.667Z"
   },
   {
    "duration": 13,
    "start_time": "2024-10-26T08:01:40.676Z"
   },
   {
    "duration": 14,
    "start_time": "2024-10-26T08:01:40.690Z"
   },
   {
    "duration": 19,
    "start_time": "2024-10-26T08:01:40.705Z"
   },
   {
    "duration": 4,
    "start_time": "2024-10-26T08:01:40.726Z"
   },
   {
    "duration": 5,
    "start_time": "2024-10-26T08:01:40.752Z"
   },
   {
    "duration": 13,
    "start_time": "2024-10-26T08:01:40.758Z"
   },
   {
    "duration": 15,
    "start_time": "2024-10-26T08:01:40.772Z"
   },
   {
    "duration": 16,
    "start_time": "2024-10-26T08:01:40.788Z"
   },
   {
    "duration": 26,
    "start_time": "2024-10-26T08:01:40.806Z"
   },
   {
    "duration": 15,
    "start_time": "2024-10-26T08:01:40.834Z"
   },
   {
    "duration": 11,
    "start_time": "2024-10-26T08:01:40.850Z"
   },
   {
    "duration": 8,
    "start_time": "2024-10-26T08:01:40.863Z"
   },
   {
    "duration": 25,
    "start_time": "2024-10-26T08:01:40.873Z"
   },
   {
    "duration": 10,
    "start_time": "2024-10-26T08:01:40.902Z"
   },
   {
    "duration": 9,
    "start_time": "2024-10-26T08:01:40.913Z"
   },
   {
    "duration": 99,
    "start_time": "2024-10-26T08:01:40.924Z"
   },
   {
    "duration": 6,
    "start_time": "2024-10-26T08:01:41.025Z"
   },
   {
    "duration": 12,
    "start_time": "2024-10-26T08:01:41.033Z"
   },
   {
    "duration": 5,
    "start_time": "2024-10-26T08:01:41.047Z"
   },
   {
    "duration": 17,
    "start_time": "2024-10-26T08:01:41.054Z"
   },
   {
    "duration": 13,
    "start_time": "2024-10-26T08:01:41.072Z"
   },
   {
    "duration": 6,
    "start_time": "2024-10-26T08:01:41.086Z"
   },
   {
    "duration": 5,
    "start_time": "2024-10-26T08:01:41.094Z"
   },
   {
    "duration": 28,
    "start_time": "2024-10-26T08:01:41.100Z"
   },
   {
    "duration": 18,
    "start_time": "2024-10-26T08:01:41.130Z"
   },
   {
    "duration": 9,
    "start_time": "2024-10-26T08:01:41.150Z"
   },
   {
    "duration": 211,
    "start_time": "2024-10-26T08:01:41.161Z"
   },
   {
    "duration": 288,
    "start_time": "2024-10-26T08:01:41.374Z"
   },
   {
    "duration": 12,
    "start_time": "2024-10-26T08:01:41.664Z"
   },
   {
    "duration": 197,
    "start_time": "2024-10-26T08:01:41.678Z"
   },
   {
    "duration": 217,
    "start_time": "2024-10-26T08:01:41.877Z"
   },
   {
    "duration": 16,
    "start_time": "2024-10-26T08:01:42.095Z"
   },
   {
    "duration": 8,
    "start_time": "2024-10-26T08:01:42.112Z"
   },
   {
    "duration": 7,
    "start_time": "2024-10-26T08:01:42.121Z"
   },
   {
    "duration": 106,
    "start_time": "2024-10-26T08:01:42.129Z"
   },
   {
    "duration": 10,
    "start_time": "2024-10-26T08:01:42.237Z"
   },
   {
    "duration": 23,
    "start_time": "2024-10-26T08:01:42.248Z"
   },
   {
    "duration": 11,
    "start_time": "2024-10-26T08:01:42.273Z"
   },
   {
    "duration": 10,
    "start_time": "2024-10-26T08:01:42.286Z"
   },
   {
    "duration": 63,
    "start_time": "2024-10-26T08:01:42.297Z"
   },
   {
    "duration": 166,
    "start_time": "2024-10-26T08:01:42.361Z"
   },
   {
    "duration": 171,
    "start_time": "2024-10-26T08:01:42.529Z"
   },
   {
    "duration": 168,
    "start_time": "2024-10-26T08:01:42.701Z"
   },
   {
    "duration": 4,
    "start_time": "2024-10-26T08:01:42.871Z"
   },
   {
    "duration": 11,
    "start_time": "2024-10-26T08:01:42.876Z"
   },
   {
    "duration": 23,
    "start_time": "2024-10-26T08:01:42.889Z"
   },
   {
    "duration": 4,
    "start_time": "2024-10-26T08:01:42.913Z"
   },
   {
    "duration": 78,
    "start_time": "2024-10-26T08:01:42.919Z"
   },
   {
    "duration": 5,
    "start_time": "2024-10-26T08:01:42.999Z"
   },
   {
    "duration": 8,
    "start_time": "2024-10-26T08:01:43.005Z"
   },
   {
    "duration": 6,
    "start_time": "2024-10-26T08:01:43.014Z"
   },
   {
    "duration": 4,
    "start_time": "2024-10-26T08:01:43.022Z"
   },
   {
    "duration": 10,
    "start_time": "2024-10-26T08:01:43.027Z"
   },
   {
    "duration": 7,
    "start_time": "2024-10-26T08:01:43.039Z"
   },
   {
    "duration": 32,
    "start_time": "2024-10-26T08:01:43.048Z"
   },
   {
    "duration": 160,
    "start_time": "2024-10-26T08:01:43.081Z"
   },
   {
    "duration": 172,
    "start_time": "2024-10-26T08:01:43.242Z"
   },
   {
    "duration": 158,
    "start_time": "2024-10-26T08:01:43.416Z"
   },
   {
    "duration": 166,
    "start_time": "2024-10-26T08:01:43.576Z"
   },
   {
    "duration": 201,
    "start_time": "2024-10-26T08:01:43.744Z"
   },
   {
    "duration": 167,
    "start_time": "2024-10-26T08:01:43.952Z"
   },
   {
    "duration": 160,
    "start_time": "2024-10-26T08:01:44.121Z"
   },
   {
    "duration": 5,
    "start_time": "2024-10-26T08:01:44.283Z"
   },
   {
    "duration": 320,
    "start_time": "2024-10-26T08:01:44.289Z"
   },
   {
    "duration": 24,
    "start_time": "2024-10-26T08:01:44.610Z"
   },
   {
    "duration": 24,
    "start_time": "2024-10-26T08:01:44.635Z"
   },
   {
    "duration": 11,
    "start_time": "2024-10-26T08:01:44.661Z"
   },
   {
    "duration": 20,
    "start_time": "2024-10-26T08:12:52.703Z"
   },
   {
    "duration": 13,
    "start_time": "2024-10-26T08:13:05.682Z"
   },
   {
    "duration": 754,
    "start_time": "2024-10-26T08:13:14.420Z"
   },
   {
    "duration": 768,
    "start_time": "2024-10-26T08:13:42.186Z"
   },
   {
    "duration": 7918,
    "start_time": "2024-10-26T08:14:20.698Z"
   },
   {
    "duration": 103,
    "start_time": "2024-10-26T08:14:28.619Z"
   },
   {
    "duration": 13,
    "start_time": "2024-10-26T08:14:28.723Z"
   },
   {
    "duration": 17,
    "start_time": "2024-10-26T08:14:28.737Z"
   },
   {
    "duration": 8,
    "start_time": "2024-10-26T08:14:28.756Z"
   },
   {
    "duration": 12,
    "start_time": "2024-10-26T08:14:28.765Z"
   },
   {
    "duration": 10,
    "start_time": "2024-10-26T08:14:28.779Z"
   },
   {
    "duration": 14,
    "start_time": "2024-10-26T08:14:28.790Z"
   },
   {
    "duration": 13,
    "start_time": "2024-10-26T08:14:28.805Z"
   },
   {
    "duration": 37,
    "start_time": "2024-10-26T08:14:28.821Z"
   },
   {
    "duration": 5,
    "start_time": "2024-10-26T08:14:28.859Z"
   },
   {
    "duration": 16,
    "start_time": "2024-10-26T08:14:28.866Z"
   },
   {
    "duration": 10,
    "start_time": "2024-10-26T08:14:28.884Z"
   },
   {
    "duration": 9,
    "start_time": "2024-10-26T08:14:28.896Z"
   },
   {
    "duration": 7,
    "start_time": "2024-10-26T08:14:28.907Z"
   },
   {
    "duration": 14,
    "start_time": "2024-10-26T08:14:28.915Z"
   },
   {
    "duration": 32,
    "start_time": "2024-10-26T08:14:28.930Z"
   },
   {
    "duration": 3,
    "start_time": "2024-10-26T08:14:28.964Z"
   },
   {
    "duration": 71,
    "start_time": "2024-10-26T08:14:28.969Z"
   },
   {
    "duration": 13,
    "start_time": "2024-10-26T08:14:29.042Z"
   },
   {
    "duration": 6,
    "start_time": "2024-10-26T08:14:29.056Z"
   },
   {
    "duration": 14,
    "start_time": "2024-10-26T08:14:29.064Z"
   },
   {
    "duration": 5,
    "start_time": "2024-10-26T08:14:29.080Z"
   },
   {
    "duration": 10,
    "start_time": "2024-10-26T08:14:29.086Z"
   },
   {
    "duration": 8,
    "start_time": "2024-10-26T08:14:29.097Z"
   },
   {
    "duration": 8,
    "start_time": "2024-10-26T08:14:29.107Z"
   },
   {
    "duration": 36,
    "start_time": "2024-10-26T08:14:29.117Z"
   },
   {
    "duration": 7,
    "start_time": "2024-10-26T08:14:29.158Z"
   },
   {
    "duration": 9,
    "start_time": "2024-10-26T08:14:29.167Z"
   },
   {
    "duration": 4,
    "start_time": "2024-10-26T08:14:29.177Z"
   },
   {
    "duration": 21,
    "start_time": "2024-10-26T08:14:29.182Z"
   },
   {
    "duration": 4,
    "start_time": "2024-10-26T08:14:29.205Z"
   },
   {
    "duration": 7,
    "start_time": "2024-10-26T08:14:29.211Z"
   },
   {
    "duration": 5,
    "start_time": "2024-10-26T08:14:29.219Z"
   },
   {
    "duration": 28,
    "start_time": "2024-10-26T08:14:29.225Z"
   },
   {
    "duration": 5,
    "start_time": "2024-10-26T08:14:29.254Z"
   },
   {
    "duration": 5,
    "start_time": "2024-10-26T08:14:29.260Z"
   },
   {
    "duration": 6,
    "start_time": "2024-10-26T08:14:29.267Z"
   },
   {
    "duration": 10,
    "start_time": "2024-10-26T08:14:29.274Z"
   },
   {
    "duration": 3,
    "start_time": "2024-10-26T08:14:29.285Z"
   },
   {
    "duration": 233,
    "start_time": "2024-10-26T08:14:29.290Z"
   },
   {
    "duration": 183,
    "start_time": "2024-10-26T08:14:29.525Z"
   },
   {
    "duration": 12,
    "start_time": "2024-10-26T08:14:29.710Z"
   },
   {
    "duration": 200,
    "start_time": "2024-10-26T08:14:29.723Z"
   },
   {
    "duration": 220,
    "start_time": "2024-10-26T08:14:29.924Z"
   },
   {
    "duration": 19,
    "start_time": "2024-10-26T08:14:30.146Z"
   },
   {
    "duration": 71,
    "start_time": "2024-10-26T08:14:30.167Z"
   },
   {
    "duration": 35,
    "start_time": "2024-10-26T08:14:30.240Z"
   },
   {
    "duration": 7,
    "start_time": "2024-10-26T08:14:30.277Z"
   },
   {
    "duration": 36,
    "start_time": "2024-10-26T08:14:30.286Z"
   },
   {
    "duration": 67,
    "start_time": "2024-10-26T08:14:30.324Z"
   },
   {
    "duration": 26,
    "start_time": "2024-10-26T08:14:30.393Z"
   },
   {
    "duration": 109,
    "start_time": "2024-10-26T08:14:30.421Z"
   },
   {
    "duration": 16,
    "start_time": "2024-10-26T08:14:30.532Z"
   },
   {
    "duration": 192,
    "start_time": "2024-10-26T08:14:30.550Z"
   },
   {
    "duration": 174,
    "start_time": "2024-10-26T08:14:30.744Z"
   },
   {
    "duration": 177,
    "start_time": "2024-10-26T08:14:30.920Z"
   },
   {
    "duration": 4,
    "start_time": "2024-10-26T08:14:31.099Z"
   },
   {
    "duration": 12,
    "start_time": "2024-10-26T08:14:31.105Z"
   },
   {
    "duration": 5,
    "start_time": "2024-10-26T08:14:31.119Z"
   },
   {
    "duration": 7,
    "start_time": "2024-10-26T08:14:31.125Z"
   },
   {
    "duration": 22,
    "start_time": "2024-10-26T08:14:31.133Z"
   },
   {
    "duration": 6,
    "start_time": "2024-10-26T08:14:31.156Z"
   },
   {
    "duration": 14,
    "start_time": "2024-10-26T08:14:31.164Z"
   },
   {
    "duration": 29,
    "start_time": "2024-10-26T08:14:31.179Z"
   },
   {
    "duration": 14,
    "start_time": "2024-10-26T08:14:31.209Z"
   },
   {
    "duration": 11,
    "start_time": "2024-10-26T08:14:31.224Z"
   },
   {
    "duration": 8,
    "start_time": "2024-10-26T08:14:31.236Z"
   },
   {
    "duration": 40,
    "start_time": "2024-10-26T08:14:31.245Z"
   },
   {
    "duration": 159,
    "start_time": "2024-10-26T08:14:31.287Z"
   },
   {
    "duration": 176,
    "start_time": "2024-10-26T08:14:31.451Z"
   },
   {
    "duration": 165,
    "start_time": "2024-10-26T08:14:31.629Z"
   },
   {
    "duration": 289,
    "start_time": "2024-10-26T08:14:31.796Z"
   },
   {
    "duration": 182,
    "start_time": "2024-10-26T08:14:32.086Z"
   },
   {
    "duration": 178,
    "start_time": "2024-10-26T08:14:32.269Z"
   },
   {
    "duration": 169,
    "start_time": "2024-10-26T08:14:32.448Z"
   },
   {
    "duration": 4,
    "start_time": "2024-10-26T08:14:32.619Z"
   },
   {
    "duration": 233,
    "start_time": "2024-10-26T08:14:32.625Z"
   },
   {
    "duration": 23,
    "start_time": "2024-10-26T08:14:32.860Z"
   },
   {
    "duration": 16,
    "start_time": "2024-10-26T08:14:32.884Z"
   },
   {
    "duration": 1360,
    "start_time": "2024-10-26T08:14:32.902Z"
   },
   {
    "duration": 2488,
    "start_time": "2024-10-26T08:15:17.814Z"
   },
   {
    "duration": 7770,
    "start_time": "2024-10-26T08:32:15.695Z"
   },
   {
    "duration": 106,
    "start_time": "2024-10-26T08:32:23.468Z"
   },
   {
    "duration": 13,
    "start_time": "2024-10-26T08:32:23.576Z"
   },
   {
    "duration": 31,
    "start_time": "2024-10-26T08:32:23.591Z"
   },
   {
    "duration": 20,
    "start_time": "2024-10-26T08:32:23.624Z"
   },
   {
    "duration": 49,
    "start_time": "2024-10-26T08:32:23.646Z"
   },
   {
    "duration": 29,
    "start_time": "2024-10-26T08:32:23.697Z"
   },
   {
    "duration": 18,
    "start_time": "2024-10-26T08:32:23.728Z"
   },
   {
    "duration": 12,
    "start_time": "2024-10-26T08:32:23.748Z"
   },
   {
    "duration": 26,
    "start_time": "2024-10-26T08:32:23.763Z"
   },
   {
    "duration": 13,
    "start_time": "2024-10-26T08:32:23.790Z"
   },
   {
    "duration": 57,
    "start_time": "2024-10-26T08:32:23.804Z"
   },
   {
    "duration": 11,
    "start_time": "2024-10-26T08:32:23.863Z"
   },
   {
    "duration": 9,
    "start_time": "2024-10-26T08:32:23.876Z"
   },
   {
    "duration": 30,
    "start_time": "2024-10-26T08:32:23.887Z"
   },
   {
    "duration": 28,
    "start_time": "2024-10-26T08:32:23.919Z"
   },
   {
    "duration": 39,
    "start_time": "2024-10-26T08:32:23.949Z"
   },
   {
    "duration": 4,
    "start_time": "2024-10-26T08:32:23.990Z"
   },
   {
    "duration": 11,
    "start_time": "2024-10-26T08:32:23.996Z"
   },
   {
    "duration": 16,
    "start_time": "2024-10-26T08:32:24.009Z"
   },
   {
    "duration": 4,
    "start_time": "2024-10-26T08:32:24.027Z"
   },
   {
    "duration": 21,
    "start_time": "2024-10-26T08:32:24.032Z"
   },
   {
    "duration": 5,
    "start_time": "2024-10-26T08:32:24.055Z"
   },
   {
    "duration": 11,
    "start_time": "2024-10-26T08:32:24.061Z"
   },
   {
    "duration": 10,
    "start_time": "2024-10-26T08:32:24.074Z"
   },
   {
    "duration": 10,
    "start_time": "2024-10-26T08:32:24.086Z"
   },
   {
    "duration": 8,
    "start_time": "2024-10-26T08:32:24.097Z"
   },
   {
    "duration": 8,
    "start_time": "2024-10-26T08:32:24.110Z"
   },
   {
    "duration": 34,
    "start_time": "2024-10-26T08:32:24.119Z"
   },
   {
    "duration": 5,
    "start_time": "2024-10-26T08:32:24.155Z"
   },
   {
    "duration": 6,
    "start_time": "2024-10-26T08:32:24.162Z"
   },
   {
    "duration": 4,
    "start_time": "2024-10-26T08:32:24.170Z"
   },
   {
    "duration": 19,
    "start_time": "2024-10-26T08:32:24.175Z"
   },
   {
    "duration": 8,
    "start_time": "2024-10-26T08:32:24.196Z"
   },
   {
    "duration": 15,
    "start_time": "2024-10-26T08:32:24.205Z"
   },
   {
    "duration": 99,
    "start_time": "2024-10-26T08:32:24.221Z"
   },
   {
    "duration": 15,
    "start_time": "2024-10-26T08:32:24.322Z"
   },
   {
    "duration": 9,
    "start_time": "2024-10-26T08:32:24.339Z"
   },
   {
    "duration": 15,
    "start_time": "2024-10-26T08:32:24.350Z"
   },
   {
    "duration": 4,
    "start_time": "2024-10-26T08:32:24.367Z"
   },
   {
    "duration": 228,
    "start_time": "2024-10-26T08:32:24.372Z"
   },
   {
    "duration": 338,
    "start_time": "2024-10-26T08:32:24.602Z"
   },
   {
    "duration": 14,
    "start_time": "2024-10-26T08:32:24.941Z"
   },
   {
    "duration": 212,
    "start_time": "2024-10-26T08:32:24.957Z"
   },
   {
    "duration": 220,
    "start_time": "2024-10-26T08:32:25.171Z"
   },
   {
    "duration": 16,
    "start_time": "2024-10-26T08:32:25.393Z"
   },
   {
    "duration": 67,
    "start_time": "2024-10-26T08:32:25.410Z"
   },
   {
    "duration": 8,
    "start_time": "2024-10-26T08:32:25.478Z"
   },
   {
    "duration": 7,
    "start_time": "2024-10-26T08:32:25.487Z"
   },
   {
    "duration": 9,
    "start_time": "2024-10-26T08:32:25.495Z"
   },
   {
    "duration": 7,
    "start_time": "2024-10-26T08:32:25.506Z"
   },
   {
    "duration": 6,
    "start_time": "2024-10-26T08:32:25.515Z"
   },
   {
    "duration": 10,
    "start_time": "2024-10-26T08:32:25.523Z"
   },
   {
    "duration": 22,
    "start_time": "2024-10-26T08:32:25.535Z"
   },
   {
    "duration": 210,
    "start_time": "2024-10-26T08:32:25.559Z"
   },
   {
    "duration": 186,
    "start_time": "2024-10-26T08:32:25.771Z"
   },
   {
    "duration": 176,
    "start_time": "2024-10-26T08:32:25.958Z"
   },
   {
    "duration": 16,
    "start_time": "2024-10-26T08:32:26.136Z"
   },
   {
    "duration": 6,
    "start_time": "2024-10-26T08:32:26.153Z"
   },
   {
    "duration": 17,
    "start_time": "2024-10-26T08:32:26.160Z"
   },
   {
    "duration": 14,
    "start_time": "2024-10-26T08:32:26.178Z"
   },
   {
    "duration": 8,
    "start_time": "2024-10-26T08:32:26.194Z"
   },
   {
    "duration": 23,
    "start_time": "2024-10-26T08:32:26.204Z"
   },
   {
    "duration": 100,
    "start_time": "2024-10-26T08:32:26.228Z"
   },
   {
    "duration": 32,
    "start_time": "2024-10-26T08:32:26.329Z"
   },
   {
    "duration": 7,
    "start_time": "2024-10-26T08:32:26.362Z"
   },
   {
    "duration": 9,
    "start_time": "2024-10-26T08:32:26.371Z"
   },
   {
    "duration": 10,
    "start_time": "2024-10-26T08:32:26.382Z"
   },
   {
    "duration": 163,
    "start_time": "2024-10-26T08:32:26.394Z"
   },
   {
    "duration": 170,
    "start_time": "2024-10-26T08:32:26.559Z"
   },
   {
    "duration": 184,
    "start_time": "2024-10-26T08:32:26.731Z"
   },
   {
    "duration": 168,
    "start_time": "2024-10-26T08:32:26.917Z"
   },
   {
    "duration": 178,
    "start_time": "2024-10-26T08:32:27.086Z"
   },
   {
    "duration": 181,
    "start_time": "2024-10-26T08:32:27.266Z"
   },
   {
    "duration": 176,
    "start_time": "2024-10-26T08:32:27.449Z"
   },
   {
    "duration": 171,
    "start_time": "2024-10-26T08:32:27.627Z"
   },
   {
    "duration": 4,
    "start_time": "2024-10-26T08:32:27.800Z"
   },
   {
    "duration": 179,
    "start_time": "2024-10-26T08:32:27.806Z"
   },
   {
    "duration": 25,
    "start_time": "2024-10-26T08:32:27.986Z"
   },
   {
    "duration": 17,
    "start_time": "2024-10-26T08:32:28.013Z"
   },
   {
    "duration": 2731,
    "start_time": "2024-10-26T08:32:28.032Z"
   },
   {
    "duration": 9,
    "start_time": "2024-10-26T08:32:30.769Z"
   },
   {
    "duration": 52,
    "start_time": "2024-10-26T08:43:33.158Z"
   },
   {
    "duration": 25,
    "start_time": "2024-10-26T08:43:41.675Z"
   },
   {
    "duration": 12,
    "start_time": "2024-10-26T08:46:16.906Z"
   },
   {
    "duration": 8060,
    "start_time": "2024-10-26T08:46:45.280Z"
   },
   {
    "duration": 107,
    "start_time": "2024-10-26T08:46:53.343Z"
   },
   {
    "duration": 14,
    "start_time": "2024-10-26T08:46:53.452Z"
   },
   {
    "duration": 69,
    "start_time": "2024-10-26T08:46:53.469Z"
   },
   {
    "duration": 9,
    "start_time": "2024-10-26T08:46:53.540Z"
   },
   {
    "duration": 18,
    "start_time": "2024-10-26T08:46:53.551Z"
   },
   {
    "duration": 24,
    "start_time": "2024-10-26T08:46:53.571Z"
   },
   {
    "duration": 15,
    "start_time": "2024-10-26T08:46:53.596Z"
   },
   {
    "duration": 17,
    "start_time": "2024-10-26T08:46:53.613Z"
   },
   {
    "duration": 10,
    "start_time": "2024-10-26T08:46:53.633Z"
   },
   {
    "duration": 4,
    "start_time": "2024-10-26T08:46:53.652Z"
   },
   {
    "duration": 63,
    "start_time": "2024-10-26T08:46:53.658Z"
   },
   {
    "duration": 19,
    "start_time": "2024-10-26T08:46:53.723Z"
   },
   {
    "duration": 18,
    "start_time": "2024-10-26T08:46:53.744Z"
   },
   {
    "duration": 20,
    "start_time": "2024-10-26T08:46:53.764Z"
   },
   {
    "duration": 15,
    "start_time": "2024-10-26T08:46:53.786Z"
   },
   {
    "duration": 27,
    "start_time": "2024-10-26T08:46:53.803Z"
   },
   {
    "duration": 5,
    "start_time": "2024-10-26T08:46:53.832Z"
   },
   {
    "duration": 4,
    "start_time": "2024-10-26T08:46:53.839Z"
   },
   {
    "duration": 9,
    "start_time": "2024-10-26T08:46:53.845Z"
   },
   {
    "duration": 4,
    "start_time": "2024-10-26T08:46:53.856Z"
   },
   {
    "duration": 14,
    "start_time": "2024-10-26T08:46:53.862Z"
   },
   {
    "duration": 28,
    "start_time": "2024-10-26T08:46:53.879Z"
   },
   {
    "duration": 20,
    "start_time": "2024-10-26T08:46:53.910Z"
   },
   {
    "duration": 21,
    "start_time": "2024-10-26T08:46:53.933Z"
   },
   {
    "duration": 13,
    "start_time": "2024-10-26T08:46:53.956Z"
   },
   {
    "duration": 11,
    "start_time": "2024-10-26T08:46:53.972Z"
   },
   {
    "duration": 10,
    "start_time": "2024-10-26T08:46:53.989Z"
   },
   {
    "duration": 9,
    "start_time": "2024-10-26T08:46:54.001Z"
   },
   {
    "duration": 9,
    "start_time": "2024-10-26T08:46:54.012Z"
   },
   {
    "duration": 8,
    "start_time": "2024-10-26T08:46:54.051Z"
   },
   {
    "duration": 6,
    "start_time": "2024-10-26T08:46:54.061Z"
   },
   {
    "duration": 35,
    "start_time": "2024-10-26T08:46:54.068Z"
   },
   {
    "duration": 5,
    "start_time": "2024-10-26T08:46:54.104Z"
   },
   {
    "duration": 6,
    "start_time": "2024-10-26T08:46:54.110Z"
   },
   {
    "duration": 12,
    "start_time": "2024-10-26T08:46:54.118Z"
   },
   {
    "duration": 5,
    "start_time": "2024-10-26T08:46:54.131Z"
   },
   {
    "duration": 16,
    "start_time": "2024-10-26T08:46:54.137Z"
   },
   {
    "duration": 10,
    "start_time": "2024-10-26T08:46:54.154Z"
   },
   {
    "duration": 3,
    "start_time": "2024-10-26T08:46:54.166Z"
   },
   {
    "duration": 233,
    "start_time": "2024-10-26T08:46:54.171Z"
   },
   {
    "duration": 190,
    "start_time": "2024-10-26T08:46:54.406Z"
   },
   {
    "duration": 13,
    "start_time": "2024-10-26T08:46:54.598Z"
   },
   {
    "duration": 209,
    "start_time": "2024-10-26T08:46:54.613Z"
   },
   {
    "duration": 230,
    "start_time": "2024-10-26T08:46:54.824Z"
   },
   {
    "duration": 15,
    "start_time": "2024-10-26T08:46:55.056Z"
   },
   {
    "duration": 9,
    "start_time": "2024-10-26T08:46:55.073Z"
   },
   {
    "duration": 60,
    "start_time": "2024-10-26T08:46:55.083Z"
   },
   {
    "duration": 5,
    "start_time": "2024-10-26T08:46:55.145Z"
   },
   {
    "duration": 5,
    "start_time": "2024-10-26T08:46:55.151Z"
   },
   {
    "duration": 5,
    "start_time": "2024-10-26T08:46:55.157Z"
   },
   {
    "duration": 9,
    "start_time": "2024-10-26T08:46:55.164Z"
   },
   {
    "duration": 9,
    "start_time": "2024-10-26T08:46:55.174Z"
   },
   {
    "duration": 8,
    "start_time": "2024-10-26T08:46:55.184Z"
   },
   {
    "duration": 195,
    "start_time": "2024-10-26T08:46:55.193Z"
   },
   {
    "duration": 185,
    "start_time": "2024-10-26T08:46:55.390Z"
   },
   {
    "duration": 183,
    "start_time": "2024-10-26T08:46:55.577Z"
   },
   {
    "duration": 4,
    "start_time": "2024-10-26T08:46:55.762Z"
   },
   {
    "duration": 7,
    "start_time": "2024-10-26T08:46:55.768Z"
   },
   {
    "duration": 7,
    "start_time": "2024-10-26T08:46:55.776Z"
   },
   {
    "duration": 5,
    "start_time": "2024-10-26T08:46:55.784Z"
   },
   {
    "duration": 21,
    "start_time": "2024-10-26T08:46:55.791Z"
   },
   {
    "duration": 6,
    "start_time": "2024-10-26T08:46:55.814Z"
   },
   {
    "duration": 34,
    "start_time": "2024-10-26T08:46:55.822Z"
   },
   {
    "duration": 6,
    "start_time": "2024-10-26T08:46:55.857Z"
   },
   {
    "duration": 20,
    "start_time": "2024-10-26T08:46:55.864Z"
   },
   {
    "duration": 12,
    "start_time": "2024-10-26T08:46:55.885Z"
   },
   {
    "duration": 21,
    "start_time": "2024-10-26T08:46:55.898Z"
   },
   {
    "duration": 28,
    "start_time": "2024-10-26T08:46:55.920Z"
   },
   {
    "duration": 166,
    "start_time": "2024-10-26T08:46:55.950Z"
   },
   {
    "duration": 181,
    "start_time": "2024-10-26T08:46:56.118Z"
   },
   {
    "duration": 167,
    "start_time": "2024-10-26T08:46:56.301Z"
   },
   {
    "duration": 303,
    "start_time": "2024-10-26T08:46:56.470Z"
   },
   {
    "duration": 179,
    "start_time": "2024-10-26T08:46:56.775Z"
   },
   {
    "duration": 160,
    "start_time": "2024-10-26T08:46:56.955Z"
   },
   {
    "duration": 166,
    "start_time": "2024-10-26T08:46:57.117Z"
   },
   {
    "duration": 4,
    "start_time": "2024-10-26T08:46:57.285Z"
   },
   {
    "duration": 192,
    "start_time": "2024-10-26T08:46:57.290Z"
   },
   {
    "duration": 24,
    "start_time": "2024-10-26T08:46:57.483Z"
   },
   {
    "duration": 36,
    "start_time": "2024-10-26T08:46:57.508Z"
   },
   {
    "duration": 2507,
    "start_time": "2024-10-26T08:46:57.545Z"
   },
   {
    "duration": 15,
    "start_time": "2024-10-26T08:47:00.057Z"
   },
   {
    "duration": 0,
    "start_time": "2024-10-26T08:47:00.073Z"
   },
   {
    "duration": 25,
    "start_time": "2024-10-26T08:59:58.890Z"
   },
   {
    "duration": 7930,
    "start_time": "2024-10-26T09:03:04.891Z"
   },
   {
    "duration": 104,
    "start_time": "2024-10-26T09:03:12.823Z"
   },
   {
    "duration": 13,
    "start_time": "2024-10-26T09:03:12.928Z"
   },
   {
    "duration": 16,
    "start_time": "2024-10-26T09:03:12.943Z"
   },
   {
    "duration": 13,
    "start_time": "2024-10-26T09:03:12.961Z"
   },
   {
    "duration": 33,
    "start_time": "2024-10-26T09:03:12.976Z"
   },
   {
    "duration": 13,
    "start_time": "2024-10-26T09:03:13.010Z"
   },
   {
    "duration": 17,
    "start_time": "2024-10-26T09:03:13.025Z"
   },
   {
    "duration": 13,
    "start_time": "2024-10-26T09:03:13.044Z"
   },
   {
    "duration": 11,
    "start_time": "2024-10-26T09:03:13.060Z"
   },
   {
    "duration": 7,
    "start_time": "2024-10-26T09:03:13.073Z"
   },
   {
    "duration": 16,
    "start_time": "2024-10-26T09:03:13.082Z"
   },
   {
    "duration": 4,
    "start_time": "2024-10-26T09:03:13.100Z"
   },
   {
    "duration": 8,
    "start_time": "2024-10-26T09:03:13.106Z"
   },
   {
    "duration": 8,
    "start_time": "2024-10-26T09:03:13.115Z"
   },
   {
    "duration": 13,
    "start_time": "2024-10-26T09:03:13.152Z"
   },
   {
    "duration": 72,
    "start_time": "2024-10-26T09:03:13.166Z"
   },
   {
    "duration": 4,
    "start_time": "2024-10-26T09:03:13.239Z"
   },
   {
    "duration": 5,
    "start_time": "2024-10-26T09:03:13.244Z"
   },
   {
    "duration": 18,
    "start_time": "2024-10-26T09:03:13.250Z"
   },
   {
    "duration": 7,
    "start_time": "2024-10-26T09:03:13.269Z"
   },
   {
    "duration": 11,
    "start_time": "2024-10-26T09:03:13.277Z"
   },
   {
    "duration": 5,
    "start_time": "2024-10-26T09:03:13.290Z"
   },
   {
    "duration": 8,
    "start_time": "2024-10-26T09:03:13.297Z"
   },
   {
    "duration": 13,
    "start_time": "2024-10-26T09:03:13.307Z"
   },
   {
    "duration": 8,
    "start_time": "2024-10-26T09:03:13.322Z"
   },
   {
    "duration": 21,
    "start_time": "2024-10-26T09:03:13.332Z"
   },
   {
    "duration": 8,
    "start_time": "2024-10-26T09:03:13.357Z"
   },
   {
    "duration": 7,
    "start_time": "2024-10-26T09:03:13.367Z"
   },
   {
    "duration": 10,
    "start_time": "2024-10-26T09:03:13.375Z"
   },
   {
    "duration": 5,
    "start_time": "2024-10-26T09:03:13.387Z"
   },
   {
    "duration": 5,
    "start_time": "2024-10-26T09:03:13.394Z"
   },
   {
    "duration": 5,
    "start_time": "2024-10-26T09:03:13.400Z"
   },
   {
    "duration": 4,
    "start_time": "2024-10-26T09:03:13.407Z"
   },
   {
    "duration": 5,
    "start_time": "2024-10-26T09:03:13.452Z"
   },
   {
    "duration": 6,
    "start_time": "2024-10-26T09:03:13.458Z"
   },
   {
    "duration": 6,
    "start_time": "2024-10-26T09:03:13.465Z"
   },
   {
    "duration": 12,
    "start_time": "2024-10-26T09:03:13.473Z"
   },
   {
    "duration": 10,
    "start_time": "2024-10-26T09:03:13.486Z"
   },
   {
    "duration": 278,
    "start_time": "2024-10-26T09:03:13.498Z"
   },
   {
    "duration": 248,
    "start_time": "2024-10-26T09:03:13.778Z"
   },
   {
    "duration": 14,
    "start_time": "2024-10-26T09:03:14.028Z"
   },
   {
    "duration": 201,
    "start_time": "2024-10-26T09:03:14.052Z"
   },
   {
    "duration": 224,
    "start_time": "2024-10-26T09:03:14.255Z"
   },
   {
    "duration": 16,
    "start_time": "2024-10-26T09:03:14.480Z"
   },
   {
    "duration": 8,
    "start_time": "2024-10-26T09:03:14.498Z"
   },
   {
    "duration": 7,
    "start_time": "2024-10-26T09:03:14.508Z"
   },
   {
    "duration": 6,
    "start_time": "2024-10-26T09:03:14.516Z"
   },
   {
    "duration": 125,
    "start_time": "2024-10-26T09:03:14.524Z"
   },
   {
    "duration": 16,
    "start_time": "2024-10-26T09:03:14.651Z"
   },
   {
    "duration": 14,
    "start_time": "2024-10-26T09:03:14.669Z"
   },
   {
    "duration": 13,
    "start_time": "2024-10-26T09:03:14.685Z"
   },
   {
    "duration": 8,
    "start_time": "2024-10-26T09:03:14.699Z"
   },
   {
    "duration": 310,
    "start_time": "2024-10-26T09:03:14.708Z"
   },
   {
    "duration": 182,
    "start_time": "2024-10-26T09:03:15.020Z"
   },
   {
    "duration": 173,
    "start_time": "2024-10-26T09:03:15.204Z"
   },
   {
    "duration": 4,
    "start_time": "2024-10-26T09:03:15.379Z"
   },
   {
    "duration": 20,
    "start_time": "2024-10-26T09:03:15.385Z"
   },
   {
    "duration": 14,
    "start_time": "2024-10-26T09:03:15.406Z"
   },
   {
    "duration": 28,
    "start_time": "2024-10-26T09:03:15.422Z"
   },
   {
    "duration": 21,
    "start_time": "2024-10-26T09:03:15.452Z"
   },
   {
    "duration": 16,
    "start_time": "2024-10-26T09:03:15.475Z"
   },
   {
    "duration": 85,
    "start_time": "2024-10-26T09:03:15.492Z"
   },
   {
    "duration": 9,
    "start_time": "2024-10-26T09:03:15.578Z"
   },
   {
    "duration": 8,
    "start_time": "2024-10-26T09:03:15.589Z"
   },
   {
    "duration": 12,
    "start_time": "2024-10-26T09:03:15.598Z"
   },
   {
    "duration": 13,
    "start_time": "2024-10-26T09:03:15.612Z"
   },
   {
    "duration": 29,
    "start_time": "2024-10-26T09:03:15.627Z"
   },
   {
    "duration": 170,
    "start_time": "2024-10-26T09:03:15.658Z"
   },
   {
    "duration": 183,
    "start_time": "2024-10-26T09:03:15.830Z"
   },
   {
    "duration": 172,
    "start_time": "2024-10-26T09:03:16.015Z"
   },
   {
    "duration": 174,
    "start_time": "2024-10-26T09:03:16.189Z"
   },
   {
    "duration": 183,
    "start_time": "2024-10-26T09:03:16.365Z"
   },
   {
    "duration": 167,
    "start_time": "2024-10-26T09:03:16.550Z"
   },
   {
    "duration": 172,
    "start_time": "2024-10-26T09:03:16.719Z"
   },
   {
    "duration": 3,
    "start_time": "2024-10-26T09:03:16.893Z"
   },
   {
    "duration": 193,
    "start_time": "2024-10-26T09:03:16.898Z"
   },
   {
    "duration": 26,
    "start_time": "2024-10-26T09:03:17.093Z"
   },
   {
    "duration": 32,
    "start_time": "2024-10-26T09:03:17.121Z"
   },
   {
    "duration": 3275,
    "start_time": "2024-10-26T09:03:17.155Z"
   },
   {
    "duration": 35,
    "start_time": "2024-10-26T09:03:20.432Z"
   },
   {
    "duration": 25,
    "start_time": "2024-10-26T09:03:20.473Z"
   },
   {
    "duration": 18,
    "start_time": "2024-10-26T09:11:31.420Z"
   },
   {
    "duration": 8008,
    "start_time": "2024-10-26T09:17:40.140Z"
   },
   {
    "duration": 103,
    "start_time": "2024-10-26T09:17:48.151Z"
   },
   {
    "duration": 13,
    "start_time": "2024-10-26T09:17:48.256Z"
   },
   {
    "duration": 18,
    "start_time": "2024-10-26T09:17:48.271Z"
   },
   {
    "duration": 8,
    "start_time": "2024-10-26T09:17:48.291Z"
   },
   {
    "duration": 25,
    "start_time": "2024-10-26T09:17:48.301Z"
   },
   {
    "duration": 33,
    "start_time": "2024-10-26T09:17:48.327Z"
   },
   {
    "duration": 15,
    "start_time": "2024-10-26T09:17:48.362Z"
   },
   {
    "duration": 64,
    "start_time": "2024-10-26T09:17:48.379Z"
   },
   {
    "duration": 61,
    "start_time": "2024-10-26T09:17:48.446Z"
   },
   {
    "duration": 4,
    "start_time": "2024-10-26T09:17:48.509Z"
   },
   {
    "duration": 22,
    "start_time": "2024-10-26T09:17:48.514Z"
   },
   {
    "duration": 9,
    "start_time": "2024-10-26T09:17:48.538Z"
   },
   {
    "duration": 10,
    "start_time": "2024-10-26T09:17:48.548Z"
   },
   {
    "duration": 18,
    "start_time": "2024-10-26T09:17:48.560Z"
   },
   {
    "duration": 62,
    "start_time": "2024-10-26T09:17:48.580Z"
   },
   {
    "duration": 72,
    "start_time": "2024-10-26T09:17:48.643Z"
   },
   {
    "duration": 4,
    "start_time": "2024-10-26T09:17:48.716Z"
   },
   {
    "duration": 7,
    "start_time": "2024-10-26T09:17:48.721Z"
   },
   {
    "duration": 27,
    "start_time": "2024-10-26T09:17:48.729Z"
   },
   {
    "duration": 17,
    "start_time": "2024-10-26T09:17:48.757Z"
   },
   {
    "duration": 17,
    "start_time": "2024-10-26T09:17:48.775Z"
   },
   {
    "duration": 17,
    "start_time": "2024-10-26T09:17:48.793Z"
   },
   {
    "duration": 12,
    "start_time": "2024-10-26T09:17:48.811Z"
   },
   {
    "duration": 27,
    "start_time": "2024-10-26T09:17:48.824Z"
   },
   {
    "duration": 27,
    "start_time": "2024-10-26T09:17:48.852Z"
   },
   {
    "duration": 64,
    "start_time": "2024-10-26T09:17:48.881Z"
   },
   {
    "duration": 10,
    "start_time": "2024-10-26T09:17:48.949Z"
   },
   {
    "duration": 7,
    "start_time": "2024-10-26T09:17:48.961Z"
   },
   {
    "duration": 4,
    "start_time": "2024-10-26T09:17:48.969Z"
   },
   {
    "duration": 10,
    "start_time": "2024-10-26T09:17:48.975Z"
   },
   {
    "duration": 9,
    "start_time": "2024-10-26T09:17:48.986Z"
   },
   {
    "duration": 9,
    "start_time": "2024-10-26T09:17:48.996Z"
   },
   {
    "duration": 16,
    "start_time": "2024-10-26T09:17:49.007Z"
   },
   {
    "duration": 31,
    "start_time": "2024-10-26T09:17:49.025Z"
   },
   {
    "duration": 5,
    "start_time": "2024-10-26T09:17:49.057Z"
   },
   {
    "duration": 9,
    "start_time": "2024-10-26T09:17:49.064Z"
   },
   {
    "duration": 17,
    "start_time": "2024-10-26T09:17:49.075Z"
   },
   {
    "duration": 11,
    "start_time": "2024-10-26T09:17:49.093Z"
   },
   {
    "duration": 239,
    "start_time": "2024-10-26T09:17:49.106Z"
   },
   {
    "duration": 186,
    "start_time": "2024-10-26T09:17:49.352Z"
   },
   {
    "duration": 21,
    "start_time": "2024-10-26T09:17:49.540Z"
   },
   {
    "duration": 239,
    "start_time": "2024-10-26T09:17:49.563Z"
   },
   {
    "duration": 236,
    "start_time": "2024-10-26T09:17:49.804Z"
   },
   {
    "duration": 23,
    "start_time": "2024-10-26T09:17:50.041Z"
   },
   {
    "duration": 9,
    "start_time": "2024-10-26T09:17:50.066Z"
   },
   {
    "duration": 10,
    "start_time": "2024-10-26T09:17:50.078Z"
   },
   {
    "duration": 24,
    "start_time": "2024-10-26T09:17:50.091Z"
   },
   {
    "duration": 15,
    "start_time": "2024-10-26T09:17:50.117Z"
   },
   {
    "duration": 22,
    "start_time": "2024-10-26T09:17:50.134Z"
   },
   {
    "duration": 11,
    "start_time": "2024-10-26T09:17:50.158Z"
   },
   {
    "duration": 35,
    "start_time": "2024-10-26T09:17:50.171Z"
   },
   {
    "duration": 30,
    "start_time": "2024-10-26T09:17:50.208Z"
   },
   {
    "duration": 211,
    "start_time": "2024-10-26T09:17:50.241Z"
   },
   {
    "duration": 172,
    "start_time": "2024-10-26T09:17:50.453Z"
   },
   {
    "duration": 188,
    "start_time": "2024-10-26T09:17:50.627Z"
   },
   {
    "duration": 5,
    "start_time": "2024-10-26T09:17:50.816Z"
   },
   {
    "duration": 11,
    "start_time": "2024-10-26T09:17:50.823Z"
   },
   {
    "duration": 18,
    "start_time": "2024-10-26T09:17:50.836Z"
   },
   {
    "duration": 5,
    "start_time": "2024-10-26T09:17:50.855Z"
   },
   {
    "duration": 13,
    "start_time": "2024-10-26T09:17:50.862Z"
   },
   {
    "duration": 62,
    "start_time": "2024-10-26T09:17:50.877Z"
   },
   {
    "duration": 32,
    "start_time": "2024-10-26T09:17:50.941Z"
   },
   {
    "duration": 11,
    "start_time": "2024-10-26T09:17:50.975Z"
   },
   {
    "duration": 20,
    "start_time": "2024-10-26T09:17:50.988Z"
   },
   {
    "duration": 40,
    "start_time": "2024-10-26T09:17:51.010Z"
   },
   {
    "duration": 11,
    "start_time": "2024-10-26T09:17:51.052Z"
   },
   {
    "duration": 180,
    "start_time": "2024-10-26T09:17:51.064Z"
   },
   {
    "duration": 177,
    "start_time": "2024-10-26T09:17:51.245Z"
   },
   {
    "duration": 189,
    "start_time": "2024-10-26T09:17:51.424Z"
   },
   {
    "duration": 176,
    "start_time": "2024-10-26T09:17:51.616Z"
   },
   {
    "duration": 185,
    "start_time": "2024-10-26T09:17:51.795Z"
   },
   {
    "duration": 190,
    "start_time": "2024-10-26T09:17:51.982Z"
   },
   {
    "duration": 178,
    "start_time": "2024-10-26T09:17:52.174Z"
   },
   {
    "duration": 169,
    "start_time": "2024-10-26T09:17:52.353Z"
   },
   {
    "duration": 5,
    "start_time": "2024-10-26T09:17:52.524Z"
   },
   {
    "duration": 185,
    "start_time": "2024-10-26T09:17:52.530Z"
   },
   {
    "duration": 37,
    "start_time": "2024-10-26T09:17:52.717Z"
   },
   {
    "duration": 17,
    "start_time": "2024-10-26T09:17:52.756Z"
   },
   {
    "duration": 3293,
    "start_time": "2024-10-26T09:17:52.775Z"
   },
   {
    "duration": 25,
    "start_time": "2024-10-26T09:17:56.070Z"
   },
   {
    "duration": 22,
    "start_time": "2024-10-26T09:17:56.100Z"
   },
   {
    "duration": 5,
    "start_time": "2024-10-26T09:17:56.124Z"
   },
   {
    "duration": 25,
    "start_time": "2024-10-26T09:17:56.130Z"
   },
   {
    "duration": 24,
    "start_time": "2024-10-26T09:17:56.156Z"
   },
   {
    "duration": 21,
    "start_time": "2024-10-26T09:17:56.181Z"
   },
   {
    "duration": 4,
    "start_time": "2024-10-26T09:21:21.146Z"
   },
   {
    "duration": 8187,
    "start_time": "2024-10-26T09:21:29.687Z"
   },
   {
    "duration": 109,
    "start_time": "2024-10-26T09:21:37.876Z"
   },
   {
    "duration": 13,
    "start_time": "2024-10-26T09:21:37.987Z"
   },
   {
    "duration": 19,
    "start_time": "2024-10-26T09:21:38.002Z"
   },
   {
    "duration": 9,
    "start_time": "2024-10-26T09:21:38.023Z"
   },
   {
    "duration": 25,
    "start_time": "2024-10-26T09:21:38.034Z"
   },
   {
    "duration": 14,
    "start_time": "2024-10-26T09:21:38.061Z"
   },
   {
    "duration": 14,
    "start_time": "2024-10-26T09:21:38.077Z"
   },
   {
    "duration": 8,
    "start_time": "2024-10-26T09:21:38.093Z"
   },
   {
    "duration": 15,
    "start_time": "2024-10-26T09:21:38.103Z"
   },
   {
    "duration": 9,
    "start_time": "2024-10-26T09:21:38.120Z"
   },
   {
    "duration": 21,
    "start_time": "2024-10-26T09:21:38.152Z"
   },
   {
    "duration": 10,
    "start_time": "2024-10-26T09:21:38.175Z"
   },
   {
    "duration": 18,
    "start_time": "2024-10-26T09:21:38.187Z"
   },
   {
    "duration": 7,
    "start_time": "2024-10-26T09:21:38.207Z"
   },
   {
    "duration": 12,
    "start_time": "2024-10-26T09:21:38.216Z"
   },
   {
    "duration": 34,
    "start_time": "2024-10-26T09:21:38.230Z"
   },
   {
    "duration": 5,
    "start_time": "2024-10-26T09:21:38.267Z"
   },
   {
    "duration": 13,
    "start_time": "2024-10-26T09:21:38.274Z"
   },
   {
    "duration": 23,
    "start_time": "2024-10-26T09:21:38.289Z"
   },
   {
    "duration": 15,
    "start_time": "2024-10-26T09:21:38.314Z"
   },
   {
    "duration": 21,
    "start_time": "2024-10-26T09:21:38.331Z"
   },
   {
    "duration": 11,
    "start_time": "2024-10-26T09:21:38.353Z"
   },
   {
    "duration": 11,
    "start_time": "2024-10-26T09:21:38.366Z"
   },
   {
    "duration": 22,
    "start_time": "2024-10-26T09:21:38.379Z"
   },
   {
    "duration": 42,
    "start_time": "2024-10-26T09:21:38.402Z"
   },
   {
    "duration": 77,
    "start_time": "2024-10-26T09:21:38.446Z"
   },
   {
    "duration": 9,
    "start_time": "2024-10-26T09:21:38.528Z"
   },
   {
    "duration": 46,
    "start_time": "2024-10-26T09:21:38.539Z"
   },
   {
    "duration": 6,
    "start_time": "2024-10-26T09:21:38.587Z"
   },
   {
    "duration": 56,
    "start_time": "2024-10-26T09:21:38.594Z"
   },
   {
    "duration": 49,
    "start_time": "2024-10-26T09:21:38.652Z"
   },
   {
    "duration": 13,
    "start_time": "2024-10-26T09:21:38.703Z"
   },
   {
    "duration": 5,
    "start_time": "2024-10-26T09:21:38.718Z"
   },
   {
    "duration": 15,
    "start_time": "2024-10-26T09:21:38.725Z"
   },
   {
    "duration": 11,
    "start_time": "2024-10-26T09:21:38.741Z"
   },
   {
    "duration": 26,
    "start_time": "2024-10-26T09:21:38.755Z"
   },
   {
    "duration": 9,
    "start_time": "2024-10-26T09:21:38.783Z"
   },
   {
    "duration": 12,
    "start_time": "2024-10-26T09:21:38.794Z"
   },
   {
    "duration": 247,
    "start_time": "2024-10-26T09:21:38.807Z"
   },
   {
    "duration": 209,
    "start_time": "2024-10-26T09:21:39.057Z"
   },
   {
    "duration": 15,
    "start_time": "2024-10-26T09:21:39.268Z"
   },
   {
    "duration": 220,
    "start_time": "2024-10-26T09:21:39.284Z"
   },
   {
    "duration": 236,
    "start_time": "2024-10-26T09:21:39.506Z"
   },
   {
    "duration": 22,
    "start_time": "2024-10-26T09:21:39.752Z"
   },
   {
    "duration": 9,
    "start_time": "2024-10-26T09:21:39.775Z"
   },
   {
    "duration": 5,
    "start_time": "2024-10-26T09:21:39.785Z"
   },
   {
    "duration": 24,
    "start_time": "2024-10-26T09:21:39.792Z"
   },
   {
    "duration": 10,
    "start_time": "2024-10-26T09:21:39.818Z"
   },
   {
    "duration": 10,
    "start_time": "2024-10-26T09:21:39.829Z"
   },
   {
    "duration": 17,
    "start_time": "2024-10-26T09:21:39.841Z"
   },
   {
    "duration": 18,
    "start_time": "2024-10-26T09:21:39.860Z"
   },
   {
    "duration": 9,
    "start_time": "2024-10-26T09:21:39.880Z"
   },
   {
    "duration": 201,
    "start_time": "2024-10-26T09:21:39.891Z"
   },
   {
    "duration": 192,
    "start_time": "2024-10-26T09:21:40.094Z"
   },
   {
    "duration": 189,
    "start_time": "2024-10-26T09:21:40.288Z"
   },
   {
    "duration": 5,
    "start_time": "2024-10-26T09:21:40.478Z"
   },
   {
    "duration": 40,
    "start_time": "2024-10-26T09:21:40.485Z"
   },
   {
    "duration": 12,
    "start_time": "2024-10-26T09:21:40.527Z"
   },
   {
    "duration": 5,
    "start_time": "2024-10-26T09:21:40.541Z"
   },
   {
    "duration": 5,
    "start_time": "2024-10-26T09:21:40.547Z"
   },
   {
    "duration": 7,
    "start_time": "2024-10-26T09:21:40.556Z"
   },
   {
    "duration": 5,
    "start_time": "2024-10-26T09:21:40.565Z"
   },
   {
    "duration": 4,
    "start_time": "2024-10-26T09:21:40.572Z"
   },
   {
    "duration": 11,
    "start_time": "2024-10-26T09:21:40.578Z"
   },
   {
    "duration": 9,
    "start_time": "2024-10-26T09:21:40.590Z"
   },
   {
    "duration": 109,
    "start_time": "2024-10-26T09:21:40.601Z"
   },
   {
    "duration": 29,
    "start_time": "2024-10-26T09:21:40.712Z"
   },
   {
    "duration": 180,
    "start_time": "2024-10-26T09:21:40.742Z"
   },
   {
    "duration": 195,
    "start_time": "2024-10-26T09:21:40.924Z"
   },
   {
    "duration": 185,
    "start_time": "2024-10-26T09:21:41.120Z"
   },
   {
    "duration": 189,
    "start_time": "2024-10-26T09:21:41.306Z"
   },
   {
    "duration": 194,
    "start_time": "2024-10-26T09:21:41.496Z"
   },
   {
    "duration": 344,
    "start_time": "2024-10-26T09:21:41.692Z"
   },
   {
    "duration": 192,
    "start_time": "2024-10-26T09:21:42.037Z"
   },
   {
    "duration": 5,
    "start_time": "2024-10-26T09:21:42.230Z"
   },
   {
    "duration": 200,
    "start_time": "2024-10-26T09:21:42.237Z"
   },
   {
    "duration": 36,
    "start_time": "2024-10-26T09:21:42.439Z"
   },
   {
    "duration": 68,
    "start_time": "2024-10-26T09:21:42.476Z"
   },
   {
    "duration": 3279,
    "start_time": "2024-10-26T09:21:42.546Z"
   },
   {
    "duration": 38,
    "start_time": "2024-10-26T09:21:45.827Z"
   },
   {
    "duration": 17,
    "start_time": "2024-10-26T09:21:45.872Z"
   },
   {
    "duration": 7,
    "start_time": "2024-10-26T09:21:45.891Z"
   },
   {
    "duration": 19,
    "start_time": "2024-10-26T09:21:45.899Z"
   },
   {
    "duration": 17,
    "start_time": "2024-10-26T09:21:45.920Z"
   },
   {
    "duration": 17,
    "start_time": "2024-10-26T09:21:45.939Z"
   },
   {
    "duration": 23,
    "start_time": "2024-10-26T09:21:45.958Z"
   },
   {
    "duration": 8282,
    "start_time": "2024-10-26T09:35:55.212Z"
   },
   {
    "duration": 109,
    "start_time": "2024-10-26T09:36:03.497Z"
   },
   {
    "duration": 13,
    "start_time": "2024-10-26T09:36:03.608Z"
   },
   {
    "duration": 76,
    "start_time": "2024-10-26T09:36:03.623Z"
   },
   {
    "duration": 25,
    "start_time": "2024-10-26T09:36:03.701Z"
   },
   {
    "duration": 33,
    "start_time": "2024-10-26T09:36:03.728Z"
   },
   {
    "duration": 12,
    "start_time": "2024-10-26T09:36:03.762Z"
   },
   {
    "duration": 309,
    "start_time": "2024-10-26T09:36:03.776Z"
   },
   {
    "duration": 8,
    "start_time": "2024-10-26T09:36:04.086Z"
   },
   {
    "duration": 29,
    "start_time": "2024-10-26T09:36:04.095Z"
   },
   {
    "duration": 11,
    "start_time": "2024-10-26T09:36:04.126Z"
   },
   {
    "duration": 36,
    "start_time": "2024-10-26T09:36:04.139Z"
   },
   {
    "duration": 12,
    "start_time": "2024-10-26T09:36:04.177Z"
   },
   {
    "duration": 27,
    "start_time": "2024-10-26T09:36:04.192Z"
   },
   {
    "duration": 11,
    "start_time": "2024-10-26T09:36:04.220Z"
   },
   {
    "duration": 27,
    "start_time": "2024-10-26T09:36:04.233Z"
   },
   {
    "duration": 23,
    "start_time": "2024-10-26T09:36:04.262Z"
   },
   {
    "duration": 4,
    "start_time": "2024-10-26T09:36:04.286Z"
   },
   {
    "duration": 18,
    "start_time": "2024-10-26T09:36:04.292Z"
   },
   {
    "duration": 13,
    "start_time": "2024-10-26T09:36:04.312Z"
   },
   {
    "duration": 15,
    "start_time": "2024-10-26T09:36:04.326Z"
   },
   {
    "duration": 25,
    "start_time": "2024-10-26T09:36:04.343Z"
   },
   {
    "duration": 4,
    "start_time": "2024-10-26T09:36:04.370Z"
   },
   {
    "duration": 7,
    "start_time": "2024-10-26T09:36:04.376Z"
   },
   {
    "duration": 19,
    "start_time": "2024-10-26T09:36:04.385Z"
   },
   {
    "duration": 15,
    "start_time": "2024-10-26T09:36:04.406Z"
   },
   {
    "duration": 19,
    "start_time": "2024-10-26T09:36:04.423Z"
   },
   {
    "duration": 129,
    "start_time": "2024-10-26T09:36:04.443Z"
   },
   {
    "duration": 11,
    "start_time": "2024-10-26T09:36:04.573Z"
   },
   {
    "duration": 20,
    "start_time": "2024-10-26T09:36:04.586Z"
   },
   {
    "duration": 19,
    "start_time": "2024-10-26T09:36:04.608Z"
   },
   {
    "duration": 148,
    "start_time": "2024-10-26T09:36:04.629Z"
   },
   {
    "duration": 40,
    "start_time": "2024-10-26T09:36:04.780Z"
   },
   {
    "duration": 17,
    "start_time": "2024-10-26T09:36:04.823Z"
   },
   {
    "duration": 24,
    "start_time": "2024-10-26T09:36:04.842Z"
   },
   {
    "duration": 10,
    "start_time": "2024-10-26T09:36:04.868Z"
   },
   {
    "duration": 28,
    "start_time": "2024-10-26T09:36:04.880Z"
   },
   {
    "duration": 11,
    "start_time": "2024-10-26T09:36:04.911Z"
   },
   {
    "duration": 25,
    "start_time": "2024-10-26T09:36:04.924Z"
   },
   {
    "duration": 354,
    "start_time": "2024-10-26T09:36:04.950Z"
   },
   {
    "duration": 208,
    "start_time": "2024-10-26T09:36:05.310Z"
   },
   {
    "duration": 14,
    "start_time": "2024-10-26T09:36:05.520Z"
   },
   {
    "duration": 224,
    "start_time": "2024-10-26T09:36:05.536Z"
   },
   {
    "duration": 240,
    "start_time": "2024-10-26T09:36:05.763Z"
   },
   {
    "duration": 18,
    "start_time": "2024-10-26T09:36:06.005Z"
   },
   {
    "duration": 31,
    "start_time": "2024-10-26T09:36:06.025Z"
   },
   {
    "duration": 11,
    "start_time": "2024-10-26T09:36:06.058Z"
   },
   {
    "duration": 27,
    "start_time": "2024-10-26T09:36:06.071Z"
   },
   {
    "duration": 28,
    "start_time": "2024-10-26T09:36:06.100Z"
   },
   {
    "duration": 15,
    "start_time": "2024-10-26T09:36:06.130Z"
   },
   {
    "duration": 17,
    "start_time": "2024-10-26T09:36:06.147Z"
   },
   {
    "duration": 9,
    "start_time": "2024-10-26T09:36:06.166Z"
   },
   {
    "duration": 12,
    "start_time": "2024-10-26T09:36:06.177Z"
   },
   {
    "duration": 205,
    "start_time": "2024-10-26T09:36:06.190Z"
   },
   {
    "duration": 192,
    "start_time": "2024-10-26T09:36:06.397Z"
   },
   {
    "duration": 198,
    "start_time": "2024-10-26T09:36:06.591Z"
   },
   {
    "duration": 5,
    "start_time": "2024-10-26T09:36:06.792Z"
   },
   {
    "duration": 15,
    "start_time": "2024-10-26T09:36:06.799Z"
   },
   {
    "duration": 15,
    "start_time": "2024-10-26T09:36:06.816Z"
   },
   {
    "duration": 19,
    "start_time": "2024-10-26T09:36:06.833Z"
   },
   {
    "duration": 17,
    "start_time": "2024-10-26T09:36:06.854Z"
   },
   {
    "duration": 46,
    "start_time": "2024-10-26T09:36:06.872Z"
   },
   {
    "duration": 24,
    "start_time": "2024-10-26T09:36:06.920Z"
   },
   {
    "duration": 74,
    "start_time": "2024-10-26T09:36:06.946Z"
   },
   {
    "duration": 18,
    "start_time": "2024-10-26T09:36:07.021Z"
   },
   {
    "duration": 43,
    "start_time": "2024-10-26T09:36:07.040Z"
   },
   {
    "duration": 9,
    "start_time": "2024-10-26T09:36:07.085Z"
   },
   {
    "duration": 47,
    "start_time": "2024-10-26T09:36:07.096Z"
   },
   {
    "duration": 176,
    "start_time": "2024-10-26T09:36:07.144Z"
   },
   {
    "duration": 190,
    "start_time": "2024-10-26T09:36:07.322Z"
   },
   {
    "duration": 187,
    "start_time": "2024-10-26T09:36:07.514Z"
   },
   {
    "duration": 192,
    "start_time": "2024-10-26T09:36:07.702Z"
   },
   {
    "duration": 206,
    "start_time": "2024-10-26T09:36:07.896Z"
   },
   {
    "duration": 180,
    "start_time": "2024-10-26T09:36:08.103Z"
   },
   {
    "duration": 183,
    "start_time": "2024-10-26T09:36:08.285Z"
   },
   {
    "duration": 4,
    "start_time": "2024-10-26T09:36:08.470Z"
   },
   {
    "duration": 265,
    "start_time": "2024-10-26T09:36:08.476Z"
   },
   {
    "duration": 37,
    "start_time": "2024-10-26T09:36:08.743Z"
   },
   {
    "duration": 18,
    "start_time": "2024-10-26T09:36:08.782Z"
   },
   {
    "duration": 3342,
    "start_time": "2024-10-26T09:36:08.801Z"
   },
   {
    "duration": 28,
    "start_time": "2024-10-26T09:36:12.145Z"
   },
   {
    "duration": 9,
    "start_time": "2024-10-26T09:36:12.175Z"
   },
   {
    "duration": 6,
    "start_time": "2024-10-26T09:36:12.185Z"
   },
   {
    "duration": 5,
    "start_time": "2024-10-26T09:36:12.192Z"
   },
   {
    "duration": 4,
    "start_time": "2024-10-26T09:36:12.199Z"
   },
   {
    "duration": 7,
    "start_time": "2024-10-26T09:36:12.205Z"
   },
   {
    "duration": 55,
    "start_time": "2024-10-26T09:36:12.213Z"
   },
   {
    "duration": 7924,
    "start_time": "2024-10-26T09:39:19.556Z"
   },
   {
    "duration": 104,
    "start_time": "2024-10-26T09:39:27.483Z"
   },
   {
    "duration": 16,
    "start_time": "2024-10-26T09:39:27.589Z"
   },
   {
    "duration": 84,
    "start_time": "2024-10-26T09:39:27.608Z"
   },
   {
    "duration": 20,
    "start_time": "2024-10-26T09:39:27.693Z"
   },
   {
    "duration": 34,
    "start_time": "2024-10-26T09:39:27.715Z"
   },
   {
    "duration": 12,
    "start_time": "2024-10-26T09:39:27.751Z"
   },
   {
    "duration": 12,
    "start_time": "2024-10-26T09:39:27.765Z"
   },
   {
    "duration": 6,
    "start_time": "2024-10-26T09:39:27.779Z"
   },
   {
    "duration": 9,
    "start_time": "2024-10-26T09:39:27.788Z"
   },
   {
    "duration": 5,
    "start_time": "2024-10-26T09:39:27.799Z"
   },
   {
    "duration": 52,
    "start_time": "2024-10-26T09:39:27.805Z"
   },
   {
    "duration": 3,
    "start_time": "2024-10-26T09:39:27.859Z"
   },
   {
    "duration": 19,
    "start_time": "2024-10-26T09:39:27.864Z"
   },
   {
    "duration": 6,
    "start_time": "2024-10-26T09:39:27.884Z"
   },
   {
    "duration": 11,
    "start_time": "2024-10-26T09:39:27.892Z"
   },
   {
    "duration": 26,
    "start_time": "2024-10-26T09:39:27.905Z"
   },
   {
    "duration": 23,
    "start_time": "2024-10-26T09:39:27.932Z"
   },
   {
    "duration": 14,
    "start_time": "2024-10-26T09:39:27.957Z"
   },
   {
    "duration": 9,
    "start_time": "2024-10-26T09:39:27.973Z"
   },
   {
    "duration": 5,
    "start_time": "2024-10-26T09:39:27.984Z"
   },
   {
    "duration": 11,
    "start_time": "2024-10-26T09:39:27.990Z"
   },
   {
    "duration": 3,
    "start_time": "2024-10-26T09:39:28.003Z"
   },
   {
    "duration": 7,
    "start_time": "2024-10-26T09:39:28.008Z"
   },
   {
    "duration": 22,
    "start_time": "2024-10-26T09:39:28.017Z"
   },
   {
    "duration": 10,
    "start_time": "2024-10-26T09:39:28.051Z"
   },
   {
    "duration": 16,
    "start_time": "2024-10-26T09:39:28.062Z"
   },
   {
    "duration": 21,
    "start_time": "2024-10-26T09:39:28.082Z"
   },
   {
    "duration": 19,
    "start_time": "2024-10-26T09:39:28.104Z"
   },
   {
    "duration": 8,
    "start_time": "2024-10-26T09:39:28.125Z"
   },
   {
    "duration": 7,
    "start_time": "2024-10-26T09:39:28.135Z"
   },
   {
    "duration": 10,
    "start_time": "2024-10-26T09:39:28.143Z"
   },
   {
    "duration": 12,
    "start_time": "2024-10-26T09:39:28.154Z"
   },
   {
    "duration": 9,
    "start_time": "2024-10-26T09:39:28.167Z"
   },
   {
    "duration": 10,
    "start_time": "2024-10-26T09:39:28.178Z"
   },
   {
    "duration": 9,
    "start_time": "2024-10-26T09:39:28.190Z"
   },
   {
    "duration": 9,
    "start_time": "2024-10-26T09:39:28.200Z"
   },
   {
    "duration": 4,
    "start_time": "2024-10-26T09:39:28.211Z"
   },
   {
    "duration": 11,
    "start_time": "2024-10-26T09:39:28.216Z"
   },
   {
    "duration": 223,
    "start_time": "2024-10-26T09:39:28.229Z"
   },
   {
    "duration": 190,
    "start_time": "2024-10-26T09:39:28.454Z"
   },
   {
    "duration": 13,
    "start_time": "2024-10-26T09:39:28.646Z"
   },
   {
    "duration": 221,
    "start_time": "2024-10-26T09:39:28.660Z"
   },
   {
    "duration": 221,
    "start_time": "2024-10-26T09:39:28.883Z"
   },
   {
    "duration": 16,
    "start_time": "2024-10-26T09:39:29.106Z"
   },
   {
    "duration": 12,
    "start_time": "2024-10-26T09:39:29.123Z"
   },
   {
    "duration": 5,
    "start_time": "2024-10-26T09:39:29.151Z"
   },
   {
    "duration": 8,
    "start_time": "2024-10-26T09:39:29.157Z"
   },
   {
    "duration": 20,
    "start_time": "2024-10-26T09:39:29.167Z"
   },
   {
    "duration": 26,
    "start_time": "2024-10-26T09:39:29.189Z"
   },
   {
    "duration": 13,
    "start_time": "2024-10-26T09:39:29.217Z"
   },
   {
    "duration": 15,
    "start_time": "2024-10-26T09:39:29.232Z"
   },
   {
    "duration": 11,
    "start_time": "2024-10-26T09:39:29.249Z"
   },
   {
    "duration": 233,
    "start_time": "2024-10-26T09:39:29.262Z"
   },
   {
    "duration": 326,
    "start_time": "2024-10-26T09:39:29.497Z"
   },
   {
    "duration": 175,
    "start_time": "2024-10-26T09:39:29.825Z"
   },
   {
    "duration": 5,
    "start_time": "2024-10-26T09:39:30.002Z"
   },
   {
    "duration": 25,
    "start_time": "2024-10-26T09:39:30.009Z"
   },
   {
    "duration": 31,
    "start_time": "2024-10-26T09:39:30.036Z"
   },
   {
    "duration": 19,
    "start_time": "2024-10-26T09:39:30.069Z"
   },
   {
    "duration": 65,
    "start_time": "2024-10-26T09:39:30.089Z"
   },
   {
    "duration": 26,
    "start_time": "2024-10-26T09:39:30.156Z"
   },
   {
    "duration": 32,
    "start_time": "2024-10-26T09:39:30.184Z"
   },
   {
    "duration": 27,
    "start_time": "2024-10-26T09:39:30.217Z"
   },
   {
    "duration": 20,
    "start_time": "2024-10-26T09:39:30.246Z"
   },
   {
    "duration": 17,
    "start_time": "2024-10-26T09:39:30.268Z"
   },
   {
    "duration": 61,
    "start_time": "2024-10-26T09:39:30.286Z"
   },
   {
    "duration": 66,
    "start_time": "2024-10-26T09:39:30.349Z"
   },
   {
    "duration": 162,
    "start_time": "2024-10-26T09:39:30.417Z"
   },
   {
    "duration": 183,
    "start_time": "2024-10-26T09:39:30.580Z"
   },
   {
    "duration": 199,
    "start_time": "2024-10-26T09:39:30.764Z"
   },
   {
    "duration": 179,
    "start_time": "2024-10-26T09:39:30.965Z"
   },
   {
    "duration": 184,
    "start_time": "2024-10-26T09:39:31.145Z"
   },
   {
    "duration": 163,
    "start_time": "2024-10-26T09:39:31.330Z"
   },
   {
    "duration": 164,
    "start_time": "2024-10-26T09:39:31.494Z"
   },
   {
    "duration": 4,
    "start_time": "2024-10-26T09:39:31.660Z"
   },
   {
    "duration": 215,
    "start_time": "2024-10-26T09:39:31.665Z"
   },
   {
    "duration": 26,
    "start_time": "2024-10-26T09:39:31.881Z"
   },
   {
    "duration": 28,
    "start_time": "2024-10-26T09:39:31.909Z"
   },
   {
    "duration": 3254,
    "start_time": "2024-10-26T09:39:31.938Z"
   },
   {
    "duration": 23,
    "start_time": "2024-10-26T09:39:35.194Z"
   },
   {
    "duration": 22,
    "start_time": "2024-10-26T09:39:35.222Z"
   },
   {
    "duration": 12,
    "start_time": "2024-10-26T09:39:35.245Z"
   },
   {
    "duration": 7,
    "start_time": "2024-10-26T09:39:35.259Z"
   },
   {
    "duration": 14,
    "start_time": "2024-10-26T09:39:35.268Z"
   },
   {
    "duration": 0,
    "start_time": "2024-10-26T09:39:35.284Z"
   },
   {
    "duration": 8000,
    "start_time": "2024-10-26T09:39:59.922Z"
   },
   {
    "duration": 108,
    "start_time": "2024-10-26T09:40:07.925Z"
   },
   {
    "duration": 14,
    "start_time": "2024-10-26T09:40:08.035Z"
   },
   {
    "duration": 43,
    "start_time": "2024-10-26T09:40:08.051Z"
   },
   {
    "duration": 11,
    "start_time": "2024-10-26T09:40:08.096Z"
   },
   {
    "duration": 34,
    "start_time": "2024-10-26T09:40:08.109Z"
   },
   {
    "duration": 12,
    "start_time": "2024-10-26T09:40:08.145Z"
   },
   {
    "duration": 24,
    "start_time": "2024-10-26T09:40:08.158Z"
   },
   {
    "duration": 9,
    "start_time": "2024-10-26T09:40:08.184Z"
   },
   {
    "duration": 22,
    "start_time": "2024-10-26T09:40:08.196Z"
   },
   {
    "duration": 4,
    "start_time": "2024-10-26T09:40:08.220Z"
   },
   {
    "duration": 18,
    "start_time": "2024-10-26T09:40:08.225Z"
   },
   {
    "duration": 8,
    "start_time": "2024-10-26T09:40:08.244Z"
   },
   {
    "duration": 9,
    "start_time": "2024-10-26T09:40:08.253Z"
   },
   {
    "duration": 27,
    "start_time": "2024-10-26T09:40:08.263Z"
   },
   {
    "duration": 26,
    "start_time": "2024-10-26T09:40:08.291Z"
   },
   {
    "duration": 17,
    "start_time": "2024-10-26T09:40:08.319Z"
   },
   {
    "duration": 5,
    "start_time": "2024-10-26T09:40:08.339Z"
   },
   {
    "duration": 10,
    "start_time": "2024-10-26T09:40:08.346Z"
   },
   {
    "duration": 15,
    "start_time": "2024-10-26T09:40:08.358Z"
   },
   {
    "duration": 6,
    "start_time": "2024-10-26T09:40:08.375Z"
   },
   {
    "duration": 13,
    "start_time": "2024-10-26T09:40:08.383Z"
   },
   {
    "duration": 5,
    "start_time": "2024-10-26T09:40:08.398Z"
   },
   {
    "duration": 17,
    "start_time": "2024-10-26T09:40:08.405Z"
   },
   {
    "duration": 10,
    "start_time": "2024-10-26T09:40:08.451Z"
   },
   {
    "duration": 105,
    "start_time": "2024-10-26T09:40:08.463Z"
   },
   {
    "duration": 19,
    "start_time": "2024-10-26T09:40:08.570Z"
   },
   {
    "duration": 12,
    "start_time": "2024-10-26T09:40:08.594Z"
   },
   {
    "duration": 18,
    "start_time": "2024-10-26T09:40:08.608Z"
   },
   {
    "duration": 6,
    "start_time": "2024-10-26T09:40:08.628Z"
   },
   {
    "duration": 129,
    "start_time": "2024-10-26T09:40:08.636Z"
   },
   {
    "duration": 15,
    "start_time": "2024-10-26T09:40:08.767Z"
   },
   {
    "duration": 41,
    "start_time": "2024-10-26T09:40:08.784Z"
   },
   {
    "duration": 19,
    "start_time": "2024-10-26T09:40:08.827Z"
   },
   {
    "duration": 5,
    "start_time": "2024-10-26T09:40:08.848Z"
   },
   {
    "duration": 7,
    "start_time": "2024-10-26T09:40:08.855Z"
   },
   {
    "duration": 5,
    "start_time": "2024-10-26T09:40:08.864Z"
   },
   {
    "duration": 14,
    "start_time": "2024-10-26T09:40:08.871Z"
   },
   {
    "duration": 16,
    "start_time": "2024-10-26T09:40:08.887Z"
   },
   {
    "duration": 229,
    "start_time": "2024-10-26T09:40:08.905Z"
   },
   {
    "duration": 198,
    "start_time": "2024-10-26T09:40:09.136Z"
   },
   {
    "duration": 21,
    "start_time": "2024-10-26T09:40:09.336Z"
   },
   {
    "duration": 208,
    "start_time": "2024-10-26T09:40:09.359Z"
   },
   {
    "duration": 233,
    "start_time": "2024-10-26T09:40:09.569Z"
   },
   {
    "duration": 17,
    "start_time": "2024-10-26T09:40:09.804Z"
   },
   {
    "duration": 9,
    "start_time": "2024-10-26T09:40:09.822Z"
   },
   {
    "duration": 23,
    "start_time": "2024-10-26T09:40:09.832Z"
   },
   {
    "duration": 6,
    "start_time": "2024-10-26T09:40:09.856Z"
   },
   {
    "duration": 9,
    "start_time": "2024-10-26T09:40:09.864Z"
   },
   {
    "duration": 10,
    "start_time": "2024-10-26T09:40:09.874Z"
   },
   {
    "duration": 16,
    "start_time": "2024-10-26T09:40:09.886Z"
   },
   {
    "duration": 9,
    "start_time": "2024-10-26T09:40:09.904Z"
   },
   {
    "duration": 10,
    "start_time": "2024-10-26T09:40:09.914Z"
   },
   {
    "duration": 203,
    "start_time": "2024-10-26T09:40:09.926Z"
   },
   {
    "duration": 190,
    "start_time": "2024-10-26T09:40:10.131Z"
   },
   {
    "duration": 183,
    "start_time": "2024-10-26T09:40:10.323Z"
   },
   {
    "duration": 5,
    "start_time": "2024-10-26T09:40:10.507Z"
   },
   {
    "duration": 89,
    "start_time": "2024-10-26T09:40:10.514Z"
   },
   {
    "duration": 11,
    "start_time": "2024-10-26T09:40:10.605Z"
   },
   {
    "duration": 6,
    "start_time": "2024-10-26T09:40:10.618Z"
   },
   {
    "duration": 11,
    "start_time": "2024-10-26T09:40:10.625Z"
   },
   {
    "duration": 65,
    "start_time": "2024-10-26T09:40:10.638Z"
   },
   {
    "duration": 80,
    "start_time": "2024-10-26T09:40:10.705Z"
   },
   {
    "duration": 5,
    "start_time": "2024-10-26T09:40:10.787Z"
   },
   {
    "duration": 5,
    "start_time": "2024-10-26T09:40:10.794Z"
   },
   {
    "duration": 12,
    "start_time": "2024-10-26T09:40:10.801Z"
   },
   {
    "duration": 9,
    "start_time": "2024-10-26T09:40:10.814Z"
   },
   {
    "duration": 33,
    "start_time": "2024-10-26T09:40:10.824Z"
   },
   {
    "duration": 176,
    "start_time": "2024-10-26T09:40:10.859Z"
   },
   {
    "duration": 195,
    "start_time": "2024-10-26T09:40:11.036Z"
   },
   {
    "duration": 170,
    "start_time": "2024-10-26T09:40:11.233Z"
   },
   {
    "duration": 182,
    "start_time": "2024-10-26T09:40:11.405Z"
   },
   {
    "duration": 182,
    "start_time": "2024-10-26T09:40:11.588Z"
   },
   {
    "duration": 170,
    "start_time": "2024-10-26T09:40:11.771Z"
   },
   {
    "duration": 172,
    "start_time": "2024-10-26T09:40:11.943Z"
   },
   {
    "duration": 5,
    "start_time": "2024-10-26T09:40:12.116Z"
   },
   {
    "duration": 363,
    "start_time": "2024-10-26T09:40:12.123Z"
   },
   {
    "duration": 24,
    "start_time": "2024-10-26T09:40:12.488Z"
   },
   {
    "duration": 73,
    "start_time": "2024-10-26T09:40:12.514Z"
   },
   {
    "duration": 3075,
    "start_time": "2024-10-26T09:40:12.589Z"
   },
   {
    "duration": 26,
    "start_time": "2024-10-26T09:40:15.666Z"
   },
   {
    "duration": 13,
    "start_time": "2024-10-26T09:40:15.698Z"
   },
   {
    "duration": 22,
    "start_time": "2024-10-26T09:40:15.713Z"
   },
   {
    "duration": 15,
    "start_time": "2024-10-26T09:40:15.737Z"
   },
   {
    "duration": 7,
    "start_time": "2024-10-26T09:40:15.754Z"
   },
   {
    "duration": 30,
    "start_time": "2024-10-26T09:40:15.762Z"
   },
   {
    "duration": 8281,
    "start_time": "2024-10-26T09:45:34.975Z"
   },
   {
    "duration": 102,
    "start_time": "2024-10-26T09:45:43.259Z"
   },
   {
    "duration": 12,
    "start_time": "2024-10-26T09:45:43.363Z"
   },
   {
    "duration": 15,
    "start_time": "2024-10-26T09:45:43.378Z"
   },
   {
    "duration": 10,
    "start_time": "2024-10-26T09:45:43.395Z"
   },
   {
    "duration": 22,
    "start_time": "2024-10-26T09:45:43.407Z"
   },
   {
    "duration": 23,
    "start_time": "2024-10-26T09:45:43.430Z"
   },
   {
    "duration": 14,
    "start_time": "2024-10-26T09:45:43.454Z"
   },
   {
    "duration": 10,
    "start_time": "2024-10-26T09:45:43.470Z"
   },
   {
    "duration": 11,
    "start_time": "2024-10-26T09:45:43.482Z"
   },
   {
    "duration": 3,
    "start_time": "2024-10-26T09:45:43.495Z"
   },
   {
    "duration": 18,
    "start_time": "2024-10-26T09:45:43.500Z"
   },
   {
    "duration": 35,
    "start_time": "2024-10-26T09:45:43.520Z"
   },
   {
    "duration": 14,
    "start_time": "2024-10-26T09:45:43.556Z"
   },
   {
    "duration": 14,
    "start_time": "2024-10-26T09:45:43.571Z"
   },
   {
    "duration": 17,
    "start_time": "2024-10-26T09:45:43.586Z"
   },
   {
    "duration": 13,
    "start_time": "2024-10-26T09:45:43.604Z"
   },
   {
    "duration": 5,
    "start_time": "2024-10-26T09:45:43.619Z"
   },
   {
    "duration": 27,
    "start_time": "2024-10-26T09:45:43.625Z"
   },
   {
    "duration": 9,
    "start_time": "2024-10-26T09:45:43.654Z"
   },
   {
    "duration": 60,
    "start_time": "2024-10-26T09:45:43.665Z"
   },
   {
    "duration": 11,
    "start_time": "2024-10-26T09:45:43.727Z"
   },
   {
    "duration": 4,
    "start_time": "2024-10-26T09:45:43.740Z"
   },
   {
    "duration": 9,
    "start_time": "2024-10-26T09:45:43.746Z"
   },
   {
    "duration": 11,
    "start_time": "2024-10-26T09:45:43.756Z"
   },
   {
    "duration": 9,
    "start_time": "2024-10-26T09:45:43.768Z"
   },
   {
    "duration": 8,
    "start_time": "2024-10-26T09:45:43.778Z"
   },
   {
    "duration": 10,
    "start_time": "2024-10-26T09:45:43.791Z"
   },
   {
    "duration": 6,
    "start_time": "2024-10-26T09:45:43.803Z"
   },
   {
    "duration": 12,
    "start_time": "2024-10-26T09:45:43.811Z"
   },
   {
    "duration": 32,
    "start_time": "2024-10-26T09:45:43.825Z"
   },
   {
    "duration": 5,
    "start_time": "2024-10-26T09:45:43.860Z"
   },
   {
    "duration": 9,
    "start_time": "2024-10-26T09:45:43.867Z"
   },
   {
    "duration": 6,
    "start_time": "2024-10-26T09:45:43.878Z"
   },
   {
    "duration": 6,
    "start_time": "2024-10-26T09:45:43.887Z"
   },
   {
    "duration": 11,
    "start_time": "2024-10-26T09:45:43.895Z"
   },
   {
    "duration": 49,
    "start_time": "2024-10-26T09:45:43.908Z"
   },
   {
    "duration": 9,
    "start_time": "2024-10-26T09:45:43.960Z"
   },
   {
    "duration": 14,
    "start_time": "2024-10-26T09:45:43.971Z"
   },
   {
    "duration": 246,
    "start_time": "2024-10-26T09:45:43.988Z"
   },
   {
    "duration": 192,
    "start_time": "2024-10-26T09:45:44.236Z"
   },
   {
    "duration": 25,
    "start_time": "2024-10-26T09:45:44.431Z"
   },
   {
    "duration": 204,
    "start_time": "2024-10-26T09:45:44.458Z"
   },
   {
    "duration": 224,
    "start_time": "2024-10-26T09:45:44.664Z"
   },
   {
    "duration": 18,
    "start_time": "2024-10-26T09:45:44.890Z"
   },
   {
    "duration": 10,
    "start_time": "2024-10-26T09:45:44.910Z"
   },
   {
    "duration": 8,
    "start_time": "2024-10-26T09:45:44.921Z"
   },
   {
    "duration": 26,
    "start_time": "2024-10-26T09:45:44.931Z"
   },
   {
    "duration": 5,
    "start_time": "2024-10-26T09:45:44.959Z"
   },
   {
    "duration": 10,
    "start_time": "2024-10-26T09:45:44.966Z"
   },
   {
    "duration": 51,
    "start_time": "2024-10-26T09:45:44.978Z"
   },
   {
    "duration": 64,
    "start_time": "2024-10-26T09:45:45.031Z"
   },
   {
    "duration": 18,
    "start_time": "2024-10-26T09:45:45.096Z"
   },
   {
    "duration": 354,
    "start_time": "2024-10-26T09:45:45.116Z"
   },
   {
    "duration": 182,
    "start_time": "2024-10-26T09:45:45.472Z"
   },
   {
    "duration": 175,
    "start_time": "2024-10-26T09:45:45.656Z"
   },
   {
    "duration": 5,
    "start_time": "2024-10-26T09:45:45.833Z"
   },
   {
    "duration": 17,
    "start_time": "2024-10-26T09:45:45.839Z"
   },
   {
    "duration": 23,
    "start_time": "2024-10-26T09:45:45.857Z"
   },
   {
    "duration": 5,
    "start_time": "2024-10-26T09:45:45.882Z"
   },
   {
    "duration": 7,
    "start_time": "2024-10-26T09:45:45.889Z"
   },
   {
    "duration": 9,
    "start_time": "2024-10-26T09:45:45.897Z"
   },
   {
    "duration": 9,
    "start_time": "2024-10-26T09:45:45.907Z"
   },
   {
    "duration": 18,
    "start_time": "2024-10-26T09:45:45.917Z"
   },
   {
    "duration": 17,
    "start_time": "2024-10-26T09:45:45.937Z"
   },
   {
    "duration": 31,
    "start_time": "2024-10-26T09:45:45.955Z"
   },
   {
    "duration": 8,
    "start_time": "2024-10-26T09:45:45.988Z"
   },
   {
    "duration": 30,
    "start_time": "2024-10-26T09:45:45.997Z"
   },
   {
    "duration": 165,
    "start_time": "2024-10-26T09:45:46.028Z"
   },
   {
    "duration": 178,
    "start_time": "2024-10-26T09:45:46.194Z"
   },
   {
    "duration": 173,
    "start_time": "2024-10-26T09:45:46.373Z"
   },
   {
    "duration": 176,
    "start_time": "2024-10-26T09:45:46.548Z"
   },
   {
    "duration": 181,
    "start_time": "2024-10-26T09:45:46.725Z"
   },
   {
    "duration": 168,
    "start_time": "2024-10-26T09:45:46.908Z"
   },
   {
    "duration": 170,
    "start_time": "2024-10-26T09:45:47.078Z"
   },
   {
    "duration": 5,
    "start_time": "2024-10-26T09:45:47.250Z"
   },
   {
    "duration": 184,
    "start_time": "2024-10-26T09:45:47.257Z"
   },
   {
    "duration": 32,
    "start_time": "2024-10-26T09:45:47.443Z"
   },
   {
    "duration": 18,
    "start_time": "2024-10-26T09:45:47.476Z"
   },
   {
    "duration": 3171,
    "start_time": "2024-10-26T09:45:47.496Z"
   },
   {
    "duration": 5,
    "start_time": "2024-10-26T09:45:50.669Z"
   },
   {
    "duration": 111,
    "start_time": "2024-10-26T09:45:50.679Z"
   },
   {
    "duration": 20,
    "start_time": "2024-10-26T09:45:50.792Z"
   },
   {
    "duration": 22,
    "start_time": "2024-10-26T09:45:50.814Z"
   },
   {
    "duration": 15,
    "start_time": "2024-10-26T09:45:50.837Z"
   },
   {
    "duration": 0,
    "start_time": "2024-10-26T09:45:50.854Z"
   },
   {
    "duration": 7771,
    "start_time": "2024-10-26T09:46:26.819Z"
   },
   {
    "duration": 103,
    "start_time": "2024-10-26T09:46:34.593Z"
   },
   {
    "duration": 13,
    "start_time": "2024-10-26T09:46:34.698Z"
   },
   {
    "duration": 116,
    "start_time": "2024-10-26T09:46:34.714Z"
   },
   {
    "duration": 98,
    "start_time": "2024-10-26T09:46:34.832Z"
   },
   {
    "duration": 30,
    "start_time": "2024-10-26T09:46:34.932Z"
   },
   {
    "duration": 14,
    "start_time": "2024-10-26T09:46:34.963Z"
   },
   {
    "duration": 72,
    "start_time": "2024-10-26T09:46:34.978Z"
   },
   {
    "duration": 54,
    "start_time": "2024-10-26T09:46:35.052Z"
   },
   {
    "duration": 25,
    "start_time": "2024-10-26T09:46:35.108Z"
   },
   {
    "duration": 33,
    "start_time": "2024-10-26T09:46:35.134Z"
   },
   {
    "duration": 18,
    "start_time": "2024-10-26T09:46:35.169Z"
   },
   {
    "duration": 53,
    "start_time": "2024-10-26T09:46:35.189Z"
   },
   {
    "duration": 21,
    "start_time": "2024-10-26T09:46:35.245Z"
   },
   {
    "duration": 20,
    "start_time": "2024-10-26T09:46:35.268Z"
   },
   {
    "duration": 94,
    "start_time": "2024-10-26T09:46:35.290Z"
   },
   {
    "duration": 18,
    "start_time": "2024-10-26T09:46:35.386Z"
   },
   {
    "duration": 41,
    "start_time": "2024-10-26T09:46:35.406Z"
   },
   {
    "duration": 8,
    "start_time": "2024-10-26T09:46:35.449Z"
   },
   {
    "duration": 10,
    "start_time": "2024-10-26T09:46:35.459Z"
   },
   {
    "duration": 6,
    "start_time": "2024-10-26T09:46:35.471Z"
   },
   {
    "duration": 13,
    "start_time": "2024-10-26T09:46:35.478Z"
   },
   {
    "duration": 42,
    "start_time": "2024-10-26T09:46:35.493Z"
   },
   {
    "duration": 15,
    "start_time": "2024-10-26T09:46:35.537Z"
   },
   {
    "duration": 27,
    "start_time": "2024-10-26T09:46:35.554Z"
   },
   {
    "duration": 10,
    "start_time": "2024-10-26T09:46:35.582Z"
   },
   {
    "duration": 27,
    "start_time": "2024-10-26T09:46:35.593Z"
   },
   {
    "duration": 92,
    "start_time": "2024-10-26T09:46:35.625Z"
   },
   {
    "duration": 33,
    "start_time": "2024-10-26T09:46:35.720Z"
   },
   {
    "duration": 18,
    "start_time": "2024-10-26T09:46:35.755Z"
   },
   {
    "duration": 44,
    "start_time": "2024-10-26T09:46:35.775Z"
   },
   {
    "duration": 95,
    "start_time": "2024-10-26T09:46:35.821Z"
   },
   {
    "duration": 57,
    "start_time": "2024-10-26T09:46:35.918Z"
   },
   {
    "duration": 40,
    "start_time": "2024-10-26T09:46:35.977Z"
   },
   {
    "duration": 44,
    "start_time": "2024-10-26T09:46:36.018Z"
   },
   {
    "duration": 36,
    "start_time": "2024-10-26T09:46:36.064Z"
   },
   {
    "duration": 39,
    "start_time": "2024-10-26T09:46:36.102Z"
   },
   {
    "duration": 23,
    "start_time": "2024-10-26T09:46:36.142Z"
   },
   {
    "duration": 28,
    "start_time": "2024-10-26T09:46:36.166Z"
   },
   {
    "duration": 246,
    "start_time": "2024-10-26T09:46:36.196Z"
   },
   {
    "duration": 194,
    "start_time": "2024-10-26T09:46:36.443Z"
   },
   {
    "duration": 22,
    "start_time": "2024-10-26T09:46:36.640Z"
   },
   {
    "duration": 252,
    "start_time": "2024-10-26T09:46:36.664Z"
   },
   {
    "duration": 228,
    "start_time": "2024-10-26T09:46:36.918Z"
   },
   {
    "duration": 16,
    "start_time": "2024-10-26T09:46:37.151Z"
   },
   {
    "duration": 9,
    "start_time": "2024-10-26T09:46:37.168Z"
   },
   {
    "duration": 6,
    "start_time": "2024-10-26T09:46:37.179Z"
   },
   {
    "duration": 8,
    "start_time": "2024-10-26T09:46:37.186Z"
   },
   {
    "duration": 24,
    "start_time": "2024-10-26T09:46:37.195Z"
   },
   {
    "duration": 5,
    "start_time": "2024-10-26T09:46:37.221Z"
   },
   {
    "duration": 25,
    "start_time": "2024-10-26T09:46:37.228Z"
   },
   {
    "duration": 8,
    "start_time": "2024-10-26T09:46:37.254Z"
   },
   {
    "duration": 9,
    "start_time": "2024-10-26T09:46:37.264Z"
   },
   {
    "duration": 185,
    "start_time": "2024-10-26T09:46:37.274Z"
   },
   {
    "duration": 176,
    "start_time": "2024-10-26T09:46:37.461Z"
   },
   {
    "duration": 176,
    "start_time": "2024-10-26T09:46:37.639Z"
   },
   {
    "duration": 5,
    "start_time": "2024-10-26T09:46:37.817Z"
   },
   {
    "duration": 6,
    "start_time": "2024-10-26T09:46:37.824Z"
   },
   {
    "duration": 23,
    "start_time": "2024-10-26T09:46:37.832Z"
   },
   {
    "duration": 11,
    "start_time": "2024-10-26T09:46:37.857Z"
   },
   {
    "duration": 5,
    "start_time": "2024-10-26T09:46:37.870Z"
   },
   {
    "duration": 12,
    "start_time": "2024-10-26T09:46:37.877Z"
   },
   {
    "duration": 16,
    "start_time": "2024-10-26T09:46:37.891Z"
   },
   {
    "duration": 13,
    "start_time": "2024-10-26T09:46:37.909Z"
   },
   {
    "duration": 12,
    "start_time": "2024-10-26T09:46:37.924Z"
   },
   {
    "duration": 24,
    "start_time": "2024-10-26T09:46:37.938Z"
   },
   {
    "duration": 10,
    "start_time": "2024-10-26T09:46:37.964Z"
   },
   {
    "duration": 40,
    "start_time": "2024-10-26T09:46:37.976Z"
   },
   {
    "duration": 198,
    "start_time": "2024-10-26T09:46:38.018Z"
   },
   {
    "duration": 187,
    "start_time": "2024-10-26T09:46:38.218Z"
   },
   {
    "duration": 175,
    "start_time": "2024-10-26T09:46:38.407Z"
   },
   {
    "duration": 183,
    "start_time": "2024-10-26T09:46:38.584Z"
   },
   {
    "duration": 186,
    "start_time": "2024-10-26T09:46:38.768Z"
   },
   {
    "duration": 168,
    "start_time": "2024-10-26T09:46:38.955Z"
   },
   {
    "duration": 177,
    "start_time": "2024-10-26T09:46:39.125Z"
   },
   {
    "duration": 4,
    "start_time": "2024-10-26T09:46:39.303Z"
   },
   {
    "duration": 240,
    "start_time": "2024-10-26T09:46:39.309Z"
   },
   {
    "duration": 25,
    "start_time": "2024-10-26T09:46:39.551Z"
   },
   {
    "duration": 18,
    "start_time": "2024-10-26T09:46:39.578Z"
   },
   {
    "duration": 3347,
    "start_time": "2024-10-26T09:46:39.597Z"
   },
   {
    "duration": 7,
    "start_time": "2024-10-26T09:46:42.946Z"
   },
   {
    "duration": 4,
    "start_time": "2024-10-26T09:46:42.958Z"
   },
   {
    "duration": 13,
    "start_time": "2024-10-26T09:46:42.964Z"
   },
   {
    "duration": 78,
    "start_time": "2024-10-26T09:46:42.979Z"
   },
   {
    "duration": 14,
    "start_time": "2024-10-26T09:46:43.059Z"
   },
   {
    "duration": 0,
    "start_time": "2024-10-26T09:46:43.075Z"
   },
   {
    "duration": 8031,
    "start_time": "2024-10-26T09:46:53.462Z"
   },
   {
    "duration": 104,
    "start_time": "2024-10-26T09:47:01.496Z"
   },
   {
    "duration": 14,
    "start_time": "2024-10-26T09:47:01.602Z"
   },
   {
    "duration": 25,
    "start_time": "2024-10-26T09:47:01.618Z"
   },
   {
    "duration": 98,
    "start_time": "2024-10-26T09:47:01.645Z"
   },
   {
    "duration": 29,
    "start_time": "2024-10-26T09:47:01.746Z"
   },
   {
    "duration": 17,
    "start_time": "2024-10-26T09:47:01.777Z"
   },
   {
    "duration": 73,
    "start_time": "2024-10-26T09:47:01.796Z"
   },
   {
    "duration": 14,
    "start_time": "2024-10-26T09:47:01.871Z"
   },
   {
    "duration": 29,
    "start_time": "2024-10-26T09:47:01.887Z"
   },
   {
    "duration": 24,
    "start_time": "2024-10-26T09:47:01.918Z"
   },
   {
    "duration": 31,
    "start_time": "2024-10-26T09:47:01.944Z"
   },
   {
    "duration": 9,
    "start_time": "2024-10-26T09:47:01.977Z"
   },
   {
    "duration": 36,
    "start_time": "2024-10-26T09:47:01.988Z"
   },
   {
    "duration": 20,
    "start_time": "2024-10-26T09:47:02.026Z"
   },
   {
    "duration": 22,
    "start_time": "2024-10-26T09:47:02.048Z"
   },
   {
    "duration": 15,
    "start_time": "2024-10-26T09:47:02.072Z"
   },
   {
    "duration": 4,
    "start_time": "2024-10-26T09:47:02.088Z"
   },
   {
    "duration": 51,
    "start_time": "2024-10-26T09:47:02.094Z"
   },
   {
    "duration": 30,
    "start_time": "2024-10-26T09:47:02.147Z"
   },
   {
    "duration": 4,
    "start_time": "2024-10-26T09:47:02.179Z"
   },
   {
    "duration": 28,
    "start_time": "2024-10-26T09:47:02.185Z"
   },
   {
    "duration": 30,
    "start_time": "2024-10-26T09:47:02.215Z"
   },
   {
    "duration": 20,
    "start_time": "2024-10-26T09:47:02.247Z"
   },
   {
    "duration": 11,
    "start_time": "2024-10-26T09:47:02.269Z"
   },
   {
    "duration": 9,
    "start_time": "2024-10-26T09:47:02.281Z"
   },
   {
    "duration": 54,
    "start_time": "2024-10-26T09:47:02.291Z"
   },
   {
    "duration": 17,
    "start_time": "2024-10-26T09:47:02.351Z"
   },
   {
    "duration": 13,
    "start_time": "2024-10-26T09:47:02.370Z"
   },
   {
    "duration": 48,
    "start_time": "2024-10-26T09:47:02.385Z"
   },
   {
    "duration": 18,
    "start_time": "2024-10-26T09:47:02.435Z"
   },
   {
    "duration": 24,
    "start_time": "2024-10-26T09:47:02.454Z"
   },
   {
    "duration": 140,
    "start_time": "2024-10-26T09:47:02.480Z"
   },
   {
    "duration": 20,
    "start_time": "2024-10-26T09:47:02.622Z"
   },
   {
    "duration": 23,
    "start_time": "2024-10-26T09:47:02.644Z"
   },
   {
    "duration": 112,
    "start_time": "2024-10-26T09:47:02.669Z"
   },
   {
    "duration": 42,
    "start_time": "2024-10-26T09:47:02.782Z"
   },
   {
    "duration": 22,
    "start_time": "2024-10-26T09:47:02.826Z"
   },
   {
    "duration": 15,
    "start_time": "2024-10-26T09:47:02.850Z"
   },
   {
    "duration": 207,
    "start_time": "2024-10-26T09:47:02.867Z"
   },
   {
    "duration": 190,
    "start_time": "2024-10-26T09:47:03.076Z"
   },
   {
    "duration": 13,
    "start_time": "2024-10-26T09:47:03.268Z"
   },
   {
    "duration": 209,
    "start_time": "2024-10-26T09:47:03.282Z"
   },
   {
    "duration": 222,
    "start_time": "2024-10-26T09:47:03.493Z"
   },
   {
    "duration": 15,
    "start_time": "2024-10-26T09:47:03.717Z"
   },
   {
    "duration": 25,
    "start_time": "2024-10-26T09:47:03.734Z"
   },
   {
    "duration": 10,
    "start_time": "2024-10-26T09:47:03.761Z"
   },
   {
    "duration": 9,
    "start_time": "2024-10-26T09:47:03.773Z"
   },
   {
    "duration": 6,
    "start_time": "2024-10-26T09:47:03.783Z"
   },
   {
    "duration": 22,
    "start_time": "2024-10-26T09:47:03.791Z"
   },
   {
    "duration": 7,
    "start_time": "2024-10-26T09:47:03.814Z"
   },
   {
    "duration": 18,
    "start_time": "2024-10-26T09:47:03.823Z"
   },
   {
    "duration": 35,
    "start_time": "2024-10-26T09:47:03.842Z"
   },
   {
    "duration": 229,
    "start_time": "2024-10-26T09:47:03.878Z"
   },
   {
    "duration": 177,
    "start_time": "2024-10-26T09:47:04.109Z"
   },
   {
    "duration": 179,
    "start_time": "2024-10-26T09:47:04.288Z"
   },
   {
    "duration": 4,
    "start_time": "2024-10-26T09:47:04.469Z"
   },
   {
    "duration": 131,
    "start_time": "2024-10-26T09:47:04.475Z"
   },
   {
    "duration": 16,
    "start_time": "2024-10-26T09:47:04.607Z"
   },
   {
    "duration": 17,
    "start_time": "2024-10-26T09:47:04.624Z"
   },
   {
    "duration": 19,
    "start_time": "2024-10-26T09:47:04.642Z"
   },
   {
    "duration": 133,
    "start_time": "2024-10-26T09:47:04.662Z"
   },
   {
    "duration": 30,
    "start_time": "2024-10-26T09:47:04.796Z"
   },
   {
    "duration": 28,
    "start_time": "2024-10-26T09:47:04.828Z"
   },
   {
    "duration": 6,
    "start_time": "2024-10-26T09:47:04.858Z"
   },
   {
    "duration": 9,
    "start_time": "2024-10-26T09:47:04.866Z"
   },
   {
    "duration": 10,
    "start_time": "2024-10-26T09:47:04.877Z"
   },
   {
    "duration": 230,
    "start_time": "2024-10-26T09:47:04.889Z"
   },
   {
    "duration": 184,
    "start_time": "2024-10-26T09:47:05.121Z"
   },
   {
    "duration": 191,
    "start_time": "2024-10-26T09:47:05.307Z"
   },
   {
    "duration": 194,
    "start_time": "2024-10-26T09:47:05.501Z"
   },
   {
    "duration": 192,
    "start_time": "2024-10-26T09:47:05.700Z"
   },
   {
    "duration": 191,
    "start_time": "2024-10-26T09:47:05.893Z"
   },
   {
    "duration": 169,
    "start_time": "2024-10-26T09:47:06.086Z"
   },
   {
    "duration": 172,
    "start_time": "2024-10-26T09:47:06.257Z"
   },
   {
    "duration": 5,
    "start_time": "2024-10-26T09:47:06.431Z"
   },
   {
    "duration": 202,
    "start_time": "2024-10-26T09:47:06.437Z"
   },
   {
    "duration": 28,
    "start_time": "2024-10-26T09:47:06.641Z"
   },
   {
    "duration": 70,
    "start_time": "2024-10-26T09:47:06.671Z"
   },
   {
    "duration": 3169,
    "start_time": "2024-10-26T09:47:06.743Z"
   },
   {
    "duration": 5,
    "start_time": "2024-10-26T09:47:09.913Z"
   },
   {
    "duration": 7,
    "start_time": "2024-10-26T09:47:09.925Z"
   },
   {
    "duration": 24,
    "start_time": "2024-10-26T09:47:09.934Z"
   },
   {
    "duration": 11,
    "start_time": "2024-10-26T09:47:09.960Z"
   },
   {
    "duration": 426,
    "start_time": "2024-10-26T09:47:09.973Z"
   },
   {
    "duration": 0,
    "start_time": "2024-10-26T09:47:10.401Z"
   },
   {
    "duration": 7898,
    "start_time": "2024-10-26T09:53:19.965Z"
   },
   {
    "duration": 105,
    "start_time": "2024-10-26T09:53:27.866Z"
   },
   {
    "duration": 12,
    "start_time": "2024-10-26T09:53:27.973Z"
   },
   {
    "duration": 17,
    "start_time": "2024-10-26T09:53:27.987Z"
   },
   {
    "duration": 8,
    "start_time": "2024-10-26T09:53:28.005Z"
   },
   {
    "duration": 14,
    "start_time": "2024-10-26T09:53:28.014Z"
   },
   {
    "duration": 11,
    "start_time": "2024-10-26T09:53:28.029Z"
   },
   {
    "duration": 12,
    "start_time": "2024-10-26T09:53:28.052Z"
   },
   {
    "duration": 17,
    "start_time": "2024-10-26T09:53:28.066Z"
   },
   {
    "duration": 11,
    "start_time": "2024-10-26T09:53:28.085Z"
   },
   {
    "duration": 9,
    "start_time": "2024-10-26T09:53:28.097Z"
   },
   {
    "duration": 15,
    "start_time": "2024-10-26T09:53:28.108Z"
   },
   {
    "duration": 12,
    "start_time": "2024-10-26T09:53:28.125Z"
   },
   {
    "duration": 18,
    "start_time": "2024-10-26T09:53:28.139Z"
   },
   {
    "duration": 8,
    "start_time": "2024-10-26T09:53:28.159Z"
   },
   {
    "duration": 15,
    "start_time": "2024-10-26T09:53:28.169Z"
   },
   {
    "duration": 15,
    "start_time": "2024-10-26T09:53:28.186Z"
   },
   {
    "duration": 4,
    "start_time": "2024-10-26T09:53:28.203Z"
   },
   {
    "duration": 8,
    "start_time": "2024-10-26T09:53:28.208Z"
   },
   {
    "duration": 46,
    "start_time": "2024-10-26T09:53:28.217Z"
   },
   {
    "duration": 9,
    "start_time": "2024-10-26T09:53:28.264Z"
   },
   {
    "duration": 17,
    "start_time": "2024-10-26T09:53:28.275Z"
   },
   {
    "duration": 3,
    "start_time": "2024-10-26T09:53:28.294Z"
   },
   {
    "duration": 17,
    "start_time": "2024-10-26T09:53:28.299Z"
   },
   {
    "duration": 39,
    "start_time": "2024-10-26T09:53:28.317Z"
   },
   {
    "duration": 10,
    "start_time": "2024-10-26T09:53:28.358Z"
   },
   {
    "duration": 11,
    "start_time": "2024-10-26T09:53:28.369Z"
   },
   {
    "duration": 27,
    "start_time": "2024-10-26T09:53:28.384Z"
   },
   {
    "duration": 7,
    "start_time": "2024-10-26T09:53:28.413Z"
   },
   {
    "duration": 13,
    "start_time": "2024-10-26T09:53:28.421Z"
   },
   {
    "duration": 13,
    "start_time": "2024-10-26T09:53:28.435Z"
   },
   {
    "duration": 7,
    "start_time": "2024-10-26T09:53:28.449Z"
   },
   {
    "duration": 5,
    "start_time": "2024-10-26T09:53:28.457Z"
   },
   {
    "duration": 5,
    "start_time": "2024-10-26T09:53:28.463Z"
   },
   {
    "duration": 8,
    "start_time": "2024-10-26T09:53:28.470Z"
   },
   {
    "duration": 10,
    "start_time": "2024-10-26T09:53:28.480Z"
   },
   {
    "duration": 10,
    "start_time": "2024-10-26T09:53:28.492Z"
   },
   {
    "duration": 127,
    "start_time": "2024-10-26T09:53:28.504Z"
   },
   {
    "duration": 45,
    "start_time": "2024-10-26T09:53:28.633Z"
   },
   {
    "duration": 222,
    "start_time": "2024-10-26T09:53:28.681Z"
   },
   {
    "duration": 189,
    "start_time": "2024-10-26T09:53:28.905Z"
   },
   {
    "duration": 14,
    "start_time": "2024-10-26T09:53:29.096Z"
   },
   {
    "duration": 203,
    "start_time": "2024-10-26T09:53:29.112Z"
   },
   {
    "duration": 222,
    "start_time": "2024-10-26T09:53:29.317Z"
   },
   {
    "duration": 23,
    "start_time": "2024-10-26T09:53:29.541Z"
   },
   {
    "duration": 17,
    "start_time": "2024-10-26T09:53:29.566Z"
   },
   {
    "duration": 14,
    "start_time": "2024-10-26T09:53:29.584Z"
   },
   {
    "duration": 5,
    "start_time": "2024-10-26T09:53:29.600Z"
   },
   {
    "duration": 14,
    "start_time": "2024-10-26T09:53:29.607Z"
   },
   {
    "duration": 4,
    "start_time": "2024-10-26T09:53:29.623Z"
   },
   {
    "duration": 5,
    "start_time": "2024-10-26T09:53:29.628Z"
   },
   {
    "duration": 23,
    "start_time": "2024-10-26T09:53:29.635Z"
   },
   {
    "duration": 7,
    "start_time": "2024-10-26T09:53:29.660Z"
   },
   {
    "duration": 237,
    "start_time": "2024-10-26T09:53:29.668Z"
   },
   {
    "duration": 172,
    "start_time": "2024-10-26T09:53:29.907Z"
   },
   {
    "duration": 175,
    "start_time": "2024-10-26T09:53:30.081Z"
   },
   {
    "duration": 5,
    "start_time": "2024-10-26T09:53:30.257Z"
   },
   {
    "duration": 40,
    "start_time": "2024-10-26T09:53:30.263Z"
   },
   {
    "duration": 24,
    "start_time": "2024-10-26T09:53:30.304Z"
   },
   {
    "duration": 28,
    "start_time": "2024-10-26T09:53:30.330Z"
   },
   {
    "duration": 45,
    "start_time": "2024-10-26T09:53:30.360Z"
   },
   {
    "duration": 18,
    "start_time": "2024-10-26T09:53:30.407Z"
   },
   {
    "duration": 25,
    "start_time": "2024-10-26T09:53:30.427Z"
   },
   {
    "duration": 25,
    "start_time": "2024-10-26T09:53:30.454Z"
   },
   {
    "duration": 6,
    "start_time": "2024-10-26T09:53:30.481Z"
   },
   {
    "duration": 152,
    "start_time": "2024-10-26T09:53:30.489Z"
   },
   {
    "duration": 22,
    "start_time": "2024-10-26T09:53:30.643Z"
   },
   {
    "duration": 35,
    "start_time": "2024-10-26T09:53:30.667Z"
   },
   {
    "duration": 163,
    "start_time": "2024-10-26T09:53:30.704Z"
   },
   {
    "duration": 183,
    "start_time": "2024-10-26T09:53:30.869Z"
   },
   {
    "duration": 168,
    "start_time": "2024-10-26T09:53:31.054Z"
   },
   {
    "duration": 176,
    "start_time": "2024-10-26T09:53:31.224Z"
   },
   {
    "duration": 180,
    "start_time": "2024-10-26T09:53:31.402Z"
   },
   {
    "duration": 176,
    "start_time": "2024-10-26T09:53:31.584Z"
   },
   {
    "duration": 168,
    "start_time": "2024-10-26T09:53:31.762Z"
   },
   {
    "duration": 5,
    "start_time": "2024-10-26T09:53:31.932Z"
   },
   {
    "duration": 192,
    "start_time": "2024-10-26T09:53:31.938Z"
   },
   {
    "duration": 35,
    "start_time": "2024-10-26T09:53:32.132Z"
   },
   {
    "duration": 17,
    "start_time": "2024-10-26T09:53:32.169Z"
   },
   {
    "duration": 3368,
    "start_time": "2024-10-26T09:53:32.188Z"
   },
   {
    "duration": 5,
    "start_time": "2024-10-26T09:53:35.558Z"
   },
   {
    "duration": 885,
    "start_time": "2024-10-26T09:53:35.570Z"
   },
   {
    "duration": 0,
    "start_time": "2024-10-26T09:53:36.457Z"
   },
   {
    "duration": 0,
    "start_time": "2024-10-26T09:53:36.458Z"
   },
   {
    "duration": 0,
    "start_time": "2024-10-26T09:53:36.460Z"
   },
   {
    "duration": 0,
    "start_time": "2024-10-26T09:53:36.461Z"
   },
   {
    "duration": 0,
    "start_time": "2024-10-26T09:53:36.462Z"
   },
   {
    "duration": 8047,
    "start_time": "2024-10-26T09:54:19.150Z"
   },
   {
    "duration": 107,
    "start_time": "2024-10-26T09:54:27.199Z"
   },
   {
    "duration": 13,
    "start_time": "2024-10-26T09:54:27.307Z"
   },
   {
    "duration": 15,
    "start_time": "2024-10-26T09:54:27.322Z"
   },
   {
    "duration": 81,
    "start_time": "2024-10-26T09:54:27.338Z"
   },
   {
    "duration": 11,
    "start_time": "2024-10-26T09:54:27.421Z"
   },
   {
    "duration": 11,
    "start_time": "2024-10-26T09:54:27.434Z"
   },
   {
    "duration": 15,
    "start_time": "2024-10-26T09:54:27.446Z"
   },
   {
    "duration": 11,
    "start_time": "2024-10-26T09:54:27.462Z"
   },
   {
    "duration": 12,
    "start_time": "2024-10-26T09:54:27.476Z"
   },
   {
    "duration": 4,
    "start_time": "2024-10-26T09:54:27.490Z"
   },
   {
    "duration": 21,
    "start_time": "2024-10-26T09:54:27.496Z"
   },
   {
    "duration": 20,
    "start_time": "2024-10-26T09:54:27.519Z"
   },
   {
    "duration": 9,
    "start_time": "2024-10-26T09:54:27.552Z"
   },
   {
    "duration": 19,
    "start_time": "2024-10-26T09:54:27.562Z"
   },
   {
    "duration": 17,
    "start_time": "2024-10-26T09:54:27.583Z"
   },
   {
    "duration": 24,
    "start_time": "2024-10-26T09:54:27.602Z"
   },
   {
    "duration": 3,
    "start_time": "2024-10-26T09:54:27.628Z"
   },
   {
    "duration": 4,
    "start_time": "2024-10-26T09:54:27.633Z"
   },
   {
    "duration": 17,
    "start_time": "2024-10-26T09:54:27.639Z"
   },
   {
    "duration": 4,
    "start_time": "2024-10-26T09:54:27.658Z"
   },
   {
    "duration": 17,
    "start_time": "2024-10-26T09:54:27.664Z"
   },
   {
    "duration": 72,
    "start_time": "2024-10-26T09:54:27.682Z"
   },
   {
    "duration": 11,
    "start_time": "2024-10-26T09:54:27.756Z"
   },
   {
    "duration": 8,
    "start_time": "2024-10-26T09:54:27.769Z"
   },
   {
    "duration": 24,
    "start_time": "2024-10-26T09:54:27.778Z"
   },
   {
    "duration": 13,
    "start_time": "2024-10-26T09:54:27.804Z"
   },
   {
    "duration": 9,
    "start_time": "2024-10-26T09:54:27.822Z"
   },
   {
    "duration": 10,
    "start_time": "2024-10-26T09:54:27.833Z"
   },
   {
    "duration": 8,
    "start_time": "2024-10-26T09:54:27.851Z"
   },
   {
    "duration": 7,
    "start_time": "2024-10-26T09:54:27.861Z"
   },
   {
    "duration": 6,
    "start_time": "2024-10-26T09:54:27.870Z"
   },
   {
    "duration": 6,
    "start_time": "2024-10-26T09:54:27.878Z"
   },
   {
    "duration": 10,
    "start_time": "2024-10-26T09:54:27.886Z"
   },
   {
    "duration": 6,
    "start_time": "2024-10-26T09:54:27.897Z"
   },
   {
    "duration": 5,
    "start_time": "2024-10-26T09:54:27.904Z"
   },
   {
    "duration": 32,
    "start_time": "2024-10-26T09:54:27.910Z"
   },
   {
    "duration": 5,
    "start_time": "2024-10-26T09:54:27.952Z"
   },
   {
    "duration": 12,
    "start_time": "2024-10-26T09:54:27.959Z"
   },
   {
    "duration": 232,
    "start_time": "2024-10-26T09:54:27.973Z"
   },
   {
    "duration": 191,
    "start_time": "2024-10-26T09:54:28.207Z"
   },
   {
    "duration": 12,
    "start_time": "2024-10-26T09:54:28.400Z"
   },
   {
    "duration": 202,
    "start_time": "2024-10-26T09:54:28.414Z"
   },
   {
    "duration": 217,
    "start_time": "2024-10-26T09:54:28.618Z"
   },
   {
    "duration": 28,
    "start_time": "2024-10-26T09:54:28.837Z"
   },
   {
    "duration": 9,
    "start_time": "2024-10-26T09:54:28.866Z"
   },
   {
    "duration": 8,
    "start_time": "2024-10-26T09:54:28.877Z"
   },
   {
    "duration": 5,
    "start_time": "2024-10-26T09:54:28.886Z"
   },
   {
    "duration": 5,
    "start_time": "2024-10-26T09:54:28.893Z"
   },
   {
    "duration": 5,
    "start_time": "2024-10-26T09:54:28.900Z"
   },
   {
    "duration": 45,
    "start_time": "2024-10-26T09:54:28.907Z"
   },
   {
    "duration": 29,
    "start_time": "2024-10-26T09:54:28.954Z"
   },
   {
    "duration": 7,
    "start_time": "2024-10-26T09:54:28.985Z"
   },
   {
    "duration": 237,
    "start_time": "2024-10-26T09:54:28.994Z"
   },
   {
    "duration": 169,
    "start_time": "2024-10-26T09:54:29.233Z"
   },
   {
    "duration": 172,
    "start_time": "2024-10-26T09:54:29.404Z"
   },
   {
    "duration": 4,
    "start_time": "2024-10-26T09:54:29.578Z"
   },
   {
    "duration": 24,
    "start_time": "2024-10-26T09:54:29.583Z"
   },
   {
    "duration": 5,
    "start_time": "2024-10-26T09:54:29.609Z"
   },
   {
    "duration": 23,
    "start_time": "2024-10-26T09:54:29.616Z"
   },
   {
    "duration": 34,
    "start_time": "2024-10-26T09:54:29.641Z"
   },
   {
    "duration": 73,
    "start_time": "2024-10-26T09:54:29.677Z"
   },
   {
    "duration": 15,
    "start_time": "2024-10-26T09:54:29.751Z"
   },
   {
    "duration": 13,
    "start_time": "2024-10-26T09:54:29.768Z"
   },
   {
    "duration": 21,
    "start_time": "2024-10-26T09:54:29.782Z"
   },
   {
    "duration": 26,
    "start_time": "2024-10-26T09:54:29.805Z"
   },
   {
    "duration": 22,
    "start_time": "2024-10-26T09:54:29.833Z"
   },
   {
    "duration": 48,
    "start_time": "2024-10-26T09:54:29.857Z"
   },
   {
    "duration": 162,
    "start_time": "2024-10-26T09:54:29.906Z"
   },
   {
    "duration": 184,
    "start_time": "2024-10-26T09:54:30.069Z"
   },
   {
    "duration": 170,
    "start_time": "2024-10-26T09:54:30.255Z"
   },
   {
    "duration": 180,
    "start_time": "2024-10-26T09:54:30.427Z"
   },
   {
    "duration": 179,
    "start_time": "2024-10-26T09:54:30.609Z"
   },
   {
    "duration": 172,
    "start_time": "2024-10-26T09:54:30.789Z"
   },
   {
    "duration": 171,
    "start_time": "2024-10-26T09:54:30.964Z"
   },
   {
    "duration": 5,
    "start_time": "2024-10-26T09:54:31.136Z"
   },
   {
    "duration": 197,
    "start_time": "2024-10-26T09:54:31.151Z"
   },
   {
    "duration": 25,
    "start_time": "2024-10-26T09:54:31.351Z"
   },
   {
    "duration": 92,
    "start_time": "2024-10-26T09:54:31.378Z"
   },
   {
    "duration": 3346,
    "start_time": "2024-10-26T09:54:31.471Z"
   },
   {
    "duration": 6,
    "start_time": "2024-10-26T09:54:34.819Z"
   },
   {
    "duration": 22,
    "start_time": "2024-10-26T09:54:34.830Z"
   },
   {
    "duration": 16,
    "start_time": "2024-10-26T09:54:34.854Z"
   },
   {
    "duration": 7,
    "start_time": "2024-10-26T09:54:34.872Z"
   },
   {
    "duration": 4,
    "start_time": "2024-10-26T09:54:34.881Z"
   },
   {
    "duration": 925,
    "start_time": "2024-10-26T09:54:34.887Z"
   },
   {
    "duration": 5,
    "start_time": "2024-10-26T09:54:47.617Z"
   },
   {
    "duration": 6,
    "start_time": "2024-10-26T09:55:05.785Z"
   },
   {
    "duration": 5,
    "start_time": "2024-10-26T09:56:53.141Z"
   },
   {
    "duration": 7987,
    "start_time": "2024-10-26T09:59:14.760Z"
   },
   {
    "duration": 105,
    "start_time": "2024-10-26T09:59:22.749Z"
   },
   {
    "duration": 13,
    "start_time": "2024-10-26T09:59:22.856Z"
   },
   {
    "duration": 18,
    "start_time": "2024-10-26T09:59:22.871Z"
   },
   {
    "duration": 9,
    "start_time": "2024-10-26T09:59:22.891Z"
   },
   {
    "duration": 13,
    "start_time": "2024-10-26T09:59:22.902Z"
   },
   {
    "duration": 41,
    "start_time": "2024-10-26T09:59:22.917Z"
   },
   {
    "duration": 59,
    "start_time": "2024-10-26T09:59:22.959Z"
   },
   {
    "duration": 10,
    "start_time": "2024-10-26T09:59:23.019Z"
   },
   {
    "duration": 16,
    "start_time": "2024-10-26T09:59:23.033Z"
   },
   {
    "duration": 72,
    "start_time": "2024-10-26T09:59:23.051Z"
   },
   {
    "duration": 17,
    "start_time": "2024-10-26T09:59:23.125Z"
   },
   {
    "duration": 28,
    "start_time": "2024-10-26T09:59:23.144Z"
   },
   {
    "duration": 9,
    "start_time": "2024-10-26T09:59:23.174Z"
   },
   {
    "duration": 6,
    "start_time": "2024-10-26T09:59:23.185Z"
   },
   {
    "duration": 13,
    "start_time": "2024-10-26T09:59:23.193Z"
   },
   {
    "duration": 28,
    "start_time": "2024-10-26T09:59:23.208Z"
   },
   {
    "duration": 4,
    "start_time": "2024-10-26T09:59:23.238Z"
   },
   {
    "duration": 25,
    "start_time": "2024-10-26T09:59:23.244Z"
   },
   {
    "duration": 44,
    "start_time": "2024-10-26T09:59:23.271Z"
   },
   {
    "duration": 5,
    "start_time": "2024-10-26T09:59:23.316Z"
   },
   {
    "duration": 25,
    "start_time": "2024-10-26T09:59:23.323Z"
   },
   {
    "duration": 55,
    "start_time": "2024-10-26T09:59:23.349Z"
   },
   {
    "duration": 10,
    "start_time": "2024-10-26T09:59:23.406Z"
   },
   {
    "duration": 8,
    "start_time": "2024-10-26T09:59:23.418Z"
   },
   {
    "duration": 10,
    "start_time": "2024-10-26T09:59:23.428Z"
   },
   {
    "duration": 8,
    "start_time": "2024-10-26T09:59:23.439Z"
   },
   {
    "duration": 12,
    "start_time": "2024-10-26T09:59:23.452Z"
   },
   {
    "duration": 8,
    "start_time": "2024-10-26T09:59:23.466Z"
   },
   {
    "duration": 7,
    "start_time": "2024-10-26T09:59:23.476Z"
   },
   {
    "duration": 6,
    "start_time": "2024-10-26T09:59:23.485Z"
   },
   {
    "duration": 5,
    "start_time": "2024-10-26T09:59:23.493Z"
   },
   {
    "duration": 5,
    "start_time": "2024-10-26T09:59:23.499Z"
   },
   {
    "duration": 7,
    "start_time": "2024-10-26T09:59:23.506Z"
   },
   {
    "duration": 5,
    "start_time": "2024-10-26T09:59:23.552Z"
   },
   {
    "duration": 6,
    "start_time": "2024-10-26T09:59:23.559Z"
   },
   {
    "duration": 5,
    "start_time": "2024-10-26T09:59:23.567Z"
   },
   {
    "duration": 7,
    "start_time": "2024-10-26T09:59:23.574Z"
   },
   {
    "duration": 9,
    "start_time": "2024-10-26T09:59:23.583Z"
   },
   {
    "duration": 245,
    "start_time": "2024-10-26T09:59:23.594Z"
   },
   {
    "duration": 248,
    "start_time": "2024-10-26T09:59:23.841Z"
   },
   {
    "duration": 14,
    "start_time": "2024-10-26T09:59:24.091Z"
   },
   {
    "duration": 198,
    "start_time": "2024-10-26T09:59:24.107Z"
   },
   {
    "duration": 224,
    "start_time": "2024-10-26T09:59:24.307Z"
   },
   {
    "duration": 24,
    "start_time": "2024-10-26T09:59:24.533Z"
   },
   {
    "duration": 71,
    "start_time": "2024-10-26T09:59:24.559Z"
   },
   {
    "duration": 51,
    "start_time": "2024-10-26T09:59:24.632Z"
   },
   {
    "duration": 6,
    "start_time": "2024-10-26T09:59:24.685Z"
   },
   {
    "duration": 13,
    "start_time": "2024-10-26T09:59:24.693Z"
   },
   {
    "duration": 129,
    "start_time": "2024-10-26T09:59:24.708Z"
   },
   {
    "duration": 5,
    "start_time": "2024-10-26T09:59:24.839Z"
   },
   {
    "duration": 10,
    "start_time": "2024-10-26T09:59:24.846Z"
   },
   {
    "duration": 9,
    "start_time": "2024-10-26T09:59:24.859Z"
   },
   {
    "duration": 186,
    "start_time": "2024-10-26T09:59:24.870Z"
   },
   {
    "duration": 185,
    "start_time": "2024-10-26T09:59:25.057Z"
   },
   {
    "duration": 174,
    "start_time": "2024-10-26T09:59:25.252Z"
   },
   {
    "duration": 4,
    "start_time": "2024-10-26T09:59:25.429Z"
   },
   {
    "duration": 20,
    "start_time": "2024-10-26T09:59:25.435Z"
   },
   {
    "duration": 5,
    "start_time": "2024-10-26T09:59:25.457Z"
   },
   {
    "duration": 5,
    "start_time": "2024-10-26T09:59:25.463Z"
   },
   {
    "duration": 5,
    "start_time": "2024-10-26T09:59:25.470Z"
   },
   {
    "duration": 6,
    "start_time": "2024-10-26T09:59:25.476Z"
   },
   {
    "duration": 5,
    "start_time": "2024-10-26T09:59:25.483Z"
   },
   {
    "duration": 5,
    "start_time": "2024-10-26T09:59:25.489Z"
   },
   {
    "duration": 24,
    "start_time": "2024-10-26T09:59:25.495Z"
   },
   {
    "duration": 34,
    "start_time": "2024-10-26T09:59:25.521Z"
   },
   {
    "duration": 8,
    "start_time": "2024-10-26T09:59:25.557Z"
   },
   {
    "duration": 34,
    "start_time": "2024-10-26T09:59:25.567Z"
   },
   {
    "duration": 186,
    "start_time": "2024-10-26T09:59:25.602Z"
   },
   {
    "duration": 185,
    "start_time": "2024-10-26T09:59:25.789Z"
   },
   {
    "duration": 376,
    "start_time": "2024-10-26T09:59:25.976Z"
   },
   {
    "duration": 178,
    "start_time": "2024-10-26T09:59:26.353Z"
   },
   {
    "duration": 184,
    "start_time": "2024-10-26T09:59:26.532Z"
   },
   {
    "duration": 184,
    "start_time": "2024-10-26T09:59:26.717Z"
   },
   {
    "duration": 172,
    "start_time": "2024-10-26T09:59:26.903Z"
   },
   {
    "duration": 5,
    "start_time": "2024-10-26T09:59:27.077Z"
   },
   {
    "duration": 222,
    "start_time": "2024-10-26T09:59:27.083Z"
   },
   {
    "duration": 25,
    "start_time": "2024-10-26T09:59:27.307Z"
   },
   {
    "duration": 30,
    "start_time": "2024-10-26T09:59:27.334Z"
   },
   {
    "duration": 3162,
    "start_time": "2024-10-26T09:59:27.366Z"
   },
   {
    "duration": 211,
    "start_time": "2024-10-26T09:59:30.530Z"
   },
   {
    "duration": 0,
    "start_time": "2024-10-26T09:59:30.742Z"
   },
   {
    "duration": 0,
    "start_time": "2024-10-26T09:59:30.744Z"
   },
   {
    "duration": 0,
    "start_time": "2024-10-26T09:59:30.745Z"
   },
   {
    "duration": 0,
    "start_time": "2024-10-26T09:59:30.746Z"
   },
   {
    "duration": 0,
    "start_time": "2024-10-26T09:59:30.747Z"
   },
   {
    "duration": 0,
    "start_time": "2024-10-26T09:59:30.749Z"
   },
   {
    "duration": 0,
    "start_time": "2024-10-26T09:59:30.750Z"
   },
   {
    "duration": 8064,
    "start_time": "2024-10-26T10:00:10.852Z"
   },
   {
    "duration": 104,
    "start_time": "2024-10-26T10:00:18.919Z"
   },
   {
    "duration": 13,
    "start_time": "2024-10-26T10:00:19.024Z"
   },
   {
    "duration": 14,
    "start_time": "2024-10-26T10:00:19.039Z"
   },
   {
    "duration": 9,
    "start_time": "2024-10-26T10:00:19.054Z"
   },
   {
    "duration": 69,
    "start_time": "2024-10-26T10:00:19.065Z"
   },
   {
    "duration": 11,
    "start_time": "2024-10-26T10:00:19.136Z"
   },
   {
    "duration": 12,
    "start_time": "2024-10-26T10:00:19.149Z"
   },
   {
    "duration": 9,
    "start_time": "2024-10-26T10:00:19.163Z"
   },
   {
    "duration": 14,
    "start_time": "2024-10-26T10:00:19.176Z"
   },
   {
    "duration": 7,
    "start_time": "2024-10-26T10:00:19.192Z"
   },
   {
    "duration": 21,
    "start_time": "2024-10-26T10:00:19.200Z"
   },
   {
    "duration": 5,
    "start_time": "2024-10-26T10:00:19.223Z"
   },
   {
    "duration": 26,
    "start_time": "2024-10-26T10:00:19.230Z"
   },
   {
    "duration": 9,
    "start_time": "2024-10-26T10:00:19.258Z"
   },
   {
    "duration": 28,
    "start_time": "2024-10-26T10:00:19.268Z"
   },
   {
    "duration": 17,
    "start_time": "2024-10-26T10:00:19.298Z"
   },
   {
    "duration": 5,
    "start_time": "2024-10-26T10:00:19.317Z"
   },
   {
    "duration": 7,
    "start_time": "2024-10-26T10:00:19.324Z"
   },
   {
    "duration": 26,
    "start_time": "2024-10-26T10:00:19.333Z"
   },
   {
    "duration": 61,
    "start_time": "2024-10-26T10:00:19.360Z"
   },
   {
    "duration": 12,
    "start_time": "2024-10-26T10:00:19.423Z"
   },
   {
    "duration": 5,
    "start_time": "2024-10-26T10:00:19.436Z"
   },
   {
    "duration": 8,
    "start_time": "2024-10-26T10:00:19.442Z"
   },
   {
    "duration": 14,
    "start_time": "2024-10-26T10:00:19.451Z"
   },
   {
    "duration": 25,
    "start_time": "2024-10-26T10:00:19.467Z"
   },
   {
    "duration": 8,
    "start_time": "2024-10-26T10:00:19.493Z"
   },
   {
    "duration": 16,
    "start_time": "2024-10-26T10:00:19.505Z"
   },
   {
    "duration": 8,
    "start_time": "2024-10-26T10:00:19.522Z"
   },
   {
    "duration": 5,
    "start_time": "2024-10-26T10:00:19.532Z"
   },
   {
    "duration": 15,
    "start_time": "2024-10-26T10:00:19.538Z"
   },
   {
    "duration": 9,
    "start_time": "2024-10-26T10:00:19.554Z"
   },
   {
    "duration": 47,
    "start_time": "2024-10-26T10:00:19.564Z"
   },
   {
    "duration": 9,
    "start_time": "2024-10-26T10:00:19.613Z"
   },
   {
    "duration": 12,
    "start_time": "2024-10-26T10:00:19.624Z"
   },
   {
    "duration": 25,
    "start_time": "2024-10-26T10:00:19.637Z"
   },
   {
    "duration": 9,
    "start_time": "2024-10-26T10:00:19.663Z"
   },
   {
    "duration": 5,
    "start_time": "2024-10-26T10:00:19.674Z"
   },
   {
    "duration": 18,
    "start_time": "2024-10-26T10:00:19.680Z"
   },
   {
    "duration": 274,
    "start_time": "2024-10-26T10:00:19.700Z"
   },
   {
    "duration": 198,
    "start_time": "2024-10-26T10:00:19.976Z"
   },
   {
    "duration": 14,
    "start_time": "2024-10-26T10:00:20.176Z"
   },
   {
    "duration": 205,
    "start_time": "2024-10-26T10:00:20.192Z"
   },
   {
    "duration": 444,
    "start_time": "2024-10-26T10:00:20.399Z"
   },
   {
    "duration": 20,
    "start_time": "2024-10-26T10:00:20.845Z"
   },
   {
    "duration": 26,
    "start_time": "2024-10-26T10:00:20.866Z"
   },
   {
    "duration": 35,
    "start_time": "2024-10-26T10:00:20.894Z"
   },
   {
    "duration": 26,
    "start_time": "2024-10-26T10:00:20.930Z"
   },
   {
    "duration": 14,
    "start_time": "2024-10-26T10:00:20.957Z"
   },
   {
    "duration": 31,
    "start_time": "2024-10-26T10:00:20.973Z"
   },
   {
    "duration": 27,
    "start_time": "2024-10-26T10:00:21.006Z"
   },
   {
    "duration": 11,
    "start_time": "2024-10-26T10:00:21.035Z"
   },
   {
    "duration": 94,
    "start_time": "2024-10-26T10:00:21.048Z"
   },
   {
    "duration": 203,
    "start_time": "2024-10-26T10:00:21.144Z"
   },
   {
    "duration": 171,
    "start_time": "2024-10-26T10:00:21.349Z"
   },
   {
    "duration": 179,
    "start_time": "2024-10-26T10:00:21.522Z"
   },
   {
    "duration": 5,
    "start_time": "2024-10-26T10:00:21.703Z"
   },
   {
    "duration": 80,
    "start_time": "2024-10-26T10:00:21.709Z"
   },
   {
    "duration": 6,
    "start_time": "2024-10-26T10:00:21.791Z"
   },
   {
    "duration": 17,
    "start_time": "2024-10-26T10:00:21.798Z"
   },
   {
    "duration": 5,
    "start_time": "2024-10-26T10:00:21.817Z"
   },
   {
    "duration": 6,
    "start_time": "2024-10-26T10:00:21.824Z"
   },
   {
    "duration": 16,
    "start_time": "2024-10-26T10:00:21.831Z"
   },
   {
    "duration": 7,
    "start_time": "2024-10-26T10:00:21.849Z"
   },
   {
    "duration": 6,
    "start_time": "2024-10-26T10:00:21.858Z"
   },
   {
    "duration": 9,
    "start_time": "2024-10-26T10:00:21.866Z"
   },
   {
    "duration": 8,
    "start_time": "2024-10-26T10:00:21.876Z"
   },
   {
    "duration": 39,
    "start_time": "2024-10-26T10:00:21.886Z"
   },
   {
    "duration": 192,
    "start_time": "2024-10-26T10:00:21.926Z"
   },
   {
    "duration": 187,
    "start_time": "2024-10-26T10:00:22.120Z"
   },
   {
    "duration": 171,
    "start_time": "2024-10-26T10:00:22.309Z"
   },
   {
    "duration": 180,
    "start_time": "2024-10-26T10:00:22.482Z"
   },
   {
    "duration": 179,
    "start_time": "2024-10-26T10:00:22.664Z"
   },
   {
    "duration": 172,
    "start_time": "2024-10-26T10:00:22.852Z"
   },
   {
    "duration": 172,
    "start_time": "2024-10-26T10:00:23.026Z"
   },
   {
    "duration": 4,
    "start_time": "2024-10-26T10:00:23.200Z"
   },
   {
    "duration": 189,
    "start_time": "2024-10-26T10:00:23.206Z"
   },
   {
    "duration": 27,
    "start_time": "2024-10-26T10:00:23.397Z"
   },
   {
    "duration": 34,
    "start_time": "2024-10-26T10:00:23.426Z"
   },
   {
    "duration": 3373,
    "start_time": "2024-10-26T10:00:23.462Z"
   },
   {
    "duration": 4,
    "start_time": "2024-10-26T10:00:26.837Z"
   },
   {
    "duration": 4,
    "start_time": "2024-10-26T10:00:26.856Z"
   },
   {
    "duration": 30,
    "start_time": "2024-10-26T10:00:26.862Z"
   },
   {
    "duration": 28,
    "start_time": "2024-10-26T10:00:26.894Z"
   },
   {
    "duration": 21,
    "start_time": "2024-10-26T10:00:26.924Z"
   },
   {
    "duration": 4,
    "start_time": "2024-10-26T10:00:26.947Z"
   },
   {
    "duration": 5,
    "start_time": "2024-10-26T10:00:26.953Z"
   },
   {
    "duration": 5,
    "start_time": "2024-10-26T10:00:26.960Z"
   },
   {
    "duration": 8023,
    "start_time": "2024-10-26T10:04:10.664Z"
   },
   {
    "duration": 102,
    "start_time": "2024-10-26T10:04:18.690Z"
   },
   {
    "duration": 62,
    "start_time": "2024-10-26T10:04:18.793Z"
   },
   {
    "duration": 28,
    "start_time": "2024-10-26T10:04:18.857Z"
   },
   {
    "duration": 13,
    "start_time": "2024-10-26T10:04:18.886Z"
   },
   {
    "duration": 19,
    "start_time": "2024-10-26T10:04:18.901Z"
   },
   {
    "duration": 15,
    "start_time": "2024-10-26T10:04:18.922Z"
   },
   {
    "duration": 24,
    "start_time": "2024-10-26T10:04:18.939Z"
   },
   {
    "duration": 17,
    "start_time": "2024-10-26T10:04:18.964Z"
   },
   {
    "duration": 17,
    "start_time": "2024-10-26T10:04:18.984Z"
   },
   {
    "duration": 27,
    "start_time": "2024-10-26T10:04:19.003Z"
   },
   {
    "duration": 46,
    "start_time": "2024-10-26T10:04:19.032Z"
   },
   {
    "duration": 71,
    "start_time": "2024-10-26T10:04:19.080Z"
   },
   {
    "duration": 13,
    "start_time": "2024-10-26T10:04:19.153Z"
   },
   {
    "duration": 21,
    "start_time": "2024-10-26T10:04:19.168Z"
   },
   {
    "duration": 20,
    "start_time": "2024-10-26T10:04:19.191Z"
   },
   {
    "duration": 22,
    "start_time": "2024-10-26T10:04:19.212Z"
   },
   {
    "duration": 4,
    "start_time": "2024-10-26T10:04:19.236Z"
   },
   {
    "duration": 16,
    "start_time": "2024-10-26T10:04:19.241Z"
   },
   {
    "duration": 15,
    "start_time": "2024-10-26T10:04:19.259Z"
   },
   {
    "duration": 13,
    "start_time": "2024-10-26T10:04:19.276Z"
   },
   {
    "duration": 18,
    "start_time": "2024-10-26T10:04:19.291Z"
   },
   {
    "duration": 17,
    "start_time": "2024-10-26T10:04:19.310Z"
   },
   {
    "duration": 13,
    "start_time": "2024-10-26T10:04:19.329Z"
   },
   {
    "duration": 11,
    "start_time": "2024-10-26T10:04:19.343Z"
   },
   {
    "duration": 8,
    "start_time": "2024-10-26T10:04:19.356Z"
   },
   {
    "duration": 68,
    "start_time": "2024-10-26T10:04:19.366Z"
   },
   {
    "duration": 8,
    "start_time": "2024-10-26T10:04:19.439Z"
   },
   {
    "duration": 7,
    "start_time": "2024-10-26T10:04:19.448Z"
   },
   {
    "duration": 6,
    "start_time": "2024-10-26T10:04:19.457Z"
   },
   {
    "duration": 7,
    "start_time": "2024-10-26T10:04:19.465Z"
   },
   {
    "duration": 5,
    "start_time": "2024-10-26T10:04:19.474Z"
   },
   {
    "duration": 18,
    "start_time": "2024-10-26T10:04:19.481Z"
   },
   {
    "duration": 15,
    "start_time": "2024-10-26T10:04:19.501Z"
   },
   {
    "duration": 6,
    "start_time": "2024-10-26T10:04:19.517Z"
   },
   {
    "duration": 7,
    "start_time": "2024-10-26T10:04:19.524Z"
   },
   {
    "duration": 22,
    "start_time": "2024-10-26T10:04:19.533Z"
   },
   {
    "duration": 14,
    "start_time": "2024-10-26T10:04:19.556Z"
   },
   {
    "duration": 19,
    "start_time": "2024-10-26T10:04:19.572Z"
   },
   {
    "duration": 236,
    "start_time": "2024-10-26T10:04:19.593Z"
   },
   {
    "duration": 191,
    "start_time": "2024-10-26T10:04:19.831Z"
   },
   {
    "duration": 14,
    "start_time": "2024-10-26T10:04:20.023Z"
   },
   {
    "duration": 240,
    "start_time": "2024-10-26T10:04:20.039Z"
   },
   {
    "duration": 232,
    "start_time": "2024-10-26T10:04:20.281Z"
   },
   {
    "duration": 16,
    "start_time": "2024-10-26T10:04:20.514Z"
   },
   {
    "duration": 24,
    "start_time": "2024-10-26T10:04:20.532Z"
   },
   {
    "duration": 68,
    "start_time": "2024-10-26T10:04:20.558Z"
   },
   {
    "duration": 92,
    "start_time": "2024-10-26T10:04:20.627Z"
   },
   {
    "duration": 128,
    "start_time": "2024-10-26T10:04:20.721Z"
   },
   {
    "duration": 30,
    "start_time": "2024-10-26T10:04:20.851Z"
   },
   {
    "duration": 14,
    "start_time": "2024-10-26T10:04:20.883Z"
   },
   {
    "duration": 26,
    "start_time": "2024-10-26T10:04:20.899Z"
   },
   {
    "duration": 11,
    "start_time": "2024-10-26T10:04:20.926Z"
   },
   {
    "duration": 180,
    "start_time": "2024-10-26T10:04:20.939Z"
   },
   {
    "duration": 179,
    "start_time": "2024-10-26T10:04:21.121Z"
   },
   {
    "duration": 179,
    "start_time": "2024-10-26T10:04:21.301Z"
   },
   {
    "duration": 4,
    "start_time": "2024-10-26T10:04:21.482Z"
   },
   {
    "duration": 11,
    "start_time": "2024-10-26T10:04:21.488Z"
   },
   {
    "duration": 11,
    "start_time": "2024-10-26T10:04:21.500Z"
   },
   {
    "duration": 14,
    "start_time": "2024-10-26T10:04:21.515Z"
   },
   {
    "duration": 22,
    "start_time": "2024-10-26T10:04:21.531Z"
   },
   {
    "duration": 6,
    "start_time": "2024-10-26T10:04:21.555Z"
   },
   {
    "duration": 7,
    "start_time": "2024-10-26T10:04:21.563Z"
   },
   {
    "duration": 10,
    "start_time": "2024-10-26T10:04:21.571Z"
   },
   {
    "duration": 14,
    "start_time": "2024-10-26T10:04:21.582Z"
   },
   {
    "duration": 36,
    "start_time": "2024-10-26T10:04:21.597Z"
   },
   {
    "duration": 8,
    "start_time": "2024-10-26T10:04:21.635Z"
   },
   {
    "duration": 35,
    "start_time": "2024-10-26T10:04:21.645Z"
   },
   {
    "duration": 181,
    "start_time": "2024-10-26T10:04:21.682Z"
   },
   {
    "duration": 189,
    "start_time": "2024-10-26T10:04:21.865Z"
   },
   {
    "duration": 171,
    "start_time": "2024-10-26T10:04:22.056Z"
   },
   {
    "duration": 179,
    "start_time": "2024-10-26T10:04:22.229Z"
   },
   {
    "duration": 188,
    "start_time": "2024-10-26T10:04:22.410Z"
   },
   {
    "duration": 168,
    "start_time": "2024-10-26T10:04:22.600Z"
   },
   {
    "duration": 173,
    "start_time": "2024-10-26T10:04:22.770Z"
   },
   {
    "duration": 8,
    "start_time": "2024-10-26T10:04:22.945Z"
   },
   {
    "duration": 203,
    "start_time": "2024-10-26T10:04:22.955Z"
   },
   {
    "duration": 26,
    "start_time": "2024-10-26T10:04:23.159Z"
   },
   {
    "duration": 18,
    "start_time": "2024-10-26T10:04:23.187Z"
   },
   {
    "duration": 3389,
    "start_time": "2024-10-26T10:04:23.207Z"
   },
   {
    "duration": 5,
    "start_time": "2024-10-26T10:04:26.597Z"
   },
   {
    "duration": 95,
    "start_time": "2024-10-26T10:04:26.607Z"
   },
   {
    "duration": 24,
    "start_time": "2024-10-26T10:04:26.704Z"
   },
   {
    "duration": 71,
    "start_time": "2024-10-26T10:04:26.730Z"
   },
   {
    "duration": 55,
    "start_time": "2024-10-26T10:04:26.803Z"
   },
   {
    "duration": 7,
    "start_time": "2024-10-26T10:04:26.860Z"
   },
   {
    "duration": 6,
    "start_time": "2024-10-26T10:04:26.868Z"
   },
   {
    "duration": 25,
    "start_time": "2024-10-26T10:04:26.875Z"
   },
   {
    "duration": 19,
    "start_time": "2024-10-26T10:04:26.902Z"
   },
   {
    "duration": 0,
    "start_time": "2024-10-26T10:04:26.922Z"
   },
   {
    "duration": 7894,
    "start_time": "2024-10-26T10:06:24.901Z"
   },
   {
    "duration": 103,
    "start_time": "2024-10-26T10:06:32.798Z"
   },
   {
    "duration": 12,
    "start_time": "2024-10-26T10:06:32.903Z"
   },
   {
    "duration": 38,
    "start_time": "2024-10-26T10:06:32.917Z"
   },
   {
    "duration": 9,
    "start_time": "2024-10-26T10:06:32.957Z"
   },
   {
    "duration": 19,
    "start_time": "2024-10-26T10:06:32.967Z"
   },
   {
    "duration": 23,
    "start_time": "2024-10-26T10:06:32.987Z"
   },
   {
    "duration": 37,
    "start_time": "2024-10-26T10:06:33.012Z"
   },
   {
    "duration": 16,
    "start_time": "2024-10-26T10:06:33.051Z"
   },
   {
    "duration": 119,
    "start_time": "2024-10-26T10:06:33.070Z"
   },
   {
    "duration": 27,
    "start_time": "2024-10-26T10:06:33.191Z"
   },
   {
    "duration": 29,
    "start_time": "2024-10-26T10:06:33.219Z"
   },
   {
    "duration": 14,
    "start_time": "2024-10-26T10:06:33.250Z"
   },
   {
    "duration": 22,
    "start_time": "2024-10-26T10:06:33.266Z"
   },
   {
    "duration": 39,
    "start_time": "2024-10-26T10:06:33.290Z"
   },
   {
    "duration": 22,
    "start_time": "2024-10-26T10:06:33.330Z"
   },
   {
    "duration": 72,
    "start_time": "2024-10-26T10:06:33.354Z"
   },
   {
    "duration": 34,
    "start_time": "2024-10-26T10:06:33.428Z"
   },
   {
    "duration": 4,
    "start_time": "2024-10-26T10:06:33.464Z"
   },
   {
    "duration": 12,
    "start_time": "2024-10-26T10:06:33.470Z"
   },
   {
    "duration": 17,
    "start_time": "2024-10-26T10:06:33.484Z"
   },
   {
    "duration": 33,
    "start_time": "2024-10-26T10:06:33.502Z"
   },
   {
    "duration": 14,
    "start_time": "2024-10-26T10:06:33.536Z"
   },
   {
    "duration": 16,
    "start_time": "2024-10-26T10:06:33.551Z"
   },
   {
    "duration": 11,
    "start_time": "2024-10-26T10:06:33.568Z"
   },
   {
    "duration": 14,
    "start_time": "2024-10-26T10:06:33.580Z"
   },
   {
    "duration": 21,
    "start_time": "2024-10-26T10:06:33.595Z"
   },
   {
    "duration": 25,
    "start_time": "2024-10-26T10:06:33.621Z"
   },
   {
    "duration": 19,
    "start_time": "2024-10-26T10:06:33.648Z"
   },
   {
    "duration": 6,
    "start_time": "2024-10-26T10:06:33.668Z"
   },
   {
    "duration": 6,
    "start_time": "2024-10-26T10:06:33.675Z"
   },
   {
    "duration": 4,
    "start_time": "2024-10-26T10:06:33.683Z"
   },
   {
    "duration": 26,
    "start_time": "2024-10-26T10:06:33.689Z"
   },
   {
    "duration": 112,
    "start_time": "2024-10-26T10:06:33.716Z"
   },
   {
    "duration": 19,
    "start_time": "2024-10-26T10:06:33.830Z"
   },
   {
    "duration": 13,
    "start_time": "2024-10-26T10:06:33.850Z"
   },
   {
    "duration": 6,
    "start_time": "2024-10-26T10:06:33.866Z"
   },
   {
    "duration": 16,
    "start_time": "2024-10-26T10:06:33.874Z"
   },
   {
    "duration": 39,
    "start_time": "2024-10-26T10:06:33.892Z"
   },
   {
    "duration": 233,
    "start_time": "2024-10-26T10:06:33.932Z"
   },
   {
    "duration": 199,
    "start_time": "2024-10-26T10:06:34.166Z"
   },
   {
    "duration": 12,
    "start_time": "2024-10-26T10:06:34.367Z"
   },
   {
    "duration": 209,
    "start_time": "2024-10-26T10:06:34.381Z"
   },
   {
    "duration": 226,
    "start_time": "2024-10-26T10:06:34.591Z"
   },
   {
    "duration": 16,
    "start_time": "2024-10-26T10:06:34.819Z"
   },
   {
    "duration": 36,
    "start_time": "2024-10-26T10:06:34.837Z"
   },
   {
    "duration": 6,
    "start_time": "2024-10-26T10:06:34.875Z"
   },
   {
    "duration": 14,
    "start_time": "2024-10-26T10:06:34.882Z"
   },
   {
    "duration": 29,
    "start_time": "2024-10-26T10:06:34.898Z"
   },
   {
    "duration": 18,
    "start_time": "2024-10-26T10:06:34.928Z"
   },
   {
    "duration": 10,
    "start_time": "2024-10-26T10:06:34.948Z"
   },
   {
    "duration": 24,
    "start_time": "2024-10-26T10:06:34.960Z"
   },
   {
    "duration": 9,
    "start_time": "2024-10-26T10:06:34.985Z"
   },
   {
    "duration": 192,
    "start_time": "2024-10-26T10:06:34.995Z"
   },
   {
    "duration": 184,
    "start_time": "2024-10-26T10:06:35.188Z"
   },
   {
    "duration": 183,
    "start_time": "2024-10-26T10:06:35.374Z"
   },
   {
    "duration": 4,
    "start_time": "2024-10-26T10:06:35.559Z"
   },
   {
    "duration": 23,
    "start_time": "2024-10-26T10:06:35.565Z"
   },
   {
    "duration": 28,
    "start_time": "2024-10-26T10:06:35.590Z"
   },
   {
    "duration": 45,
    "start_time": "2024-10-26T10:06:35.620Z"
   },
   {
    "duration": 9,
    "start_time": "2024-10-26T10:06:35.667Z"
   },
   {
    "duration": 24,
    "start_time": "2024-10-26T10:06:35.678Z"
   },
   {
    "duration": 85,
    "start_time": "2024-10-26T10:06:35.704Z"
   },
   {
    "duration": 43,
    "start_time": "2024-10-26T10:06:35.791Z"
   },
   {
    "duration": 17,
    "start_time": "2024-10-26T10:06:35.836Z"
   },
   {
    "duration": 27,
    "start_time": "2024-10-26T10:06:35.855Z"
   },
   {
    "duration": 29,
    "start_time": "2024-10-26T10:06:35.885Z"
   },
   {
    "duration": 50,
    "start_time": "2024-10-26T10:06:35.916Z"
   },
   {
    "duration": 177,
    "start_time": "2024-10-26T10:06:35.968Z"
   },
   {
    "duration": 179,
    "start_time": "2024-10-26T10:06:36.151Z"
   },
   {
    "duration": 181,
    "start_time": "2024-10-26T10:06:36.332Z"
   },
   {
    "duration": 187,
    "start_time": "2024-10-26T10:06:36.515Z"
   },
   {
    "duration": 190,
    "start_time": "2024-10-26T10:06:36.704Z"
   },
   {
    "duration": 173,
    "start_time": "2024-10-26T10:06:36.896Z"
   },
   {
    "duration": 172,
    "start_time": "2024-10-26T10:06:37.071Z"
   },
   {
    "duration": 8,
    "start_time": "2024-10-26T10:06:37.245Z"
   },
   {
    "duration": 187,
    "start_time": "2024-10-26T10:06:37.254Z"
   },
   {
    "duration": 30,
    "start_time": "2024-10-26T10:06:37.444Z"
   },
   {
    "duration": 28,
    "start_time": "2024-10-26T10:06:37.476Z"
   },
   {
    "duration": 3400,
    "start_time": "2024-10-26T10:06:37.506Z"
   },
   {
    "duration": 5,
    "start_time": "2024-10-26T10:06:40.909Z"
   },
   {
    "duration": 6,
    "start_time": "2024-10-26T10:06:40.921Z"
   },
   {
    "duration": 6,
    "start_time": "2024-10-26T10:06:40.951Z"
   },
   {
    "duration": 14,
    "start_time": "2024-10-26T10:06:40.959Z"
   },
   {
    "duration": 8,
    "start_time": "2024-10-26T10:06:40.975Z"
   },
   {
    "duration": 7,
    "start_time": "2024-10-26T10:06:40.985Z"
   },
   {
    "duration": 6,
    "start_time": "2024-10-26T10:06:40.994Z"
   },
   {
    "duration": 20,
    "start_time": "2024-10-26T10:06:41.002Z"
   },
   {
    "duration": 36,
    "start_time": "2024-10-26T10:06:41.024Z"
   },
   {
    "duration": 0,
    "start_time": "2024-10-26T10:06:41.062Z"
   },
   {
    "duration": 8444,
    "start_time": "2024-10-26T10:08:23.248Z"
   },
   {
    "duration": 106,
    "start_time": "2024-10-26T10:08:31.695Z"
   },
   {
    "duration": 13,
    "start_time": "2024-10-26T10:08:31.803Z"
   },
   {
    "duration": 24,
    "start_time": "2024-10-26T10:08:31.818Z"
   },
   {
    "duration": 20,
    "start_time": "2024-10-26T10:08:31.843Z"
   },
   {
    "duration": 24,
    "start_time": "2024-10-26T10:08:31.865Z"
   },
   {
    "duration": 59,
    "start_time": "2024-10-26T10:08:31.891Z"
   },
   {
    "duration": 22,
    "start_time": "2024-10-26T10:08:31.952Z"
   },
   {
    "duration": 17,
    "start_time": "2024-10-26T10:08:31.976Z"
   },
   {
    "duration": 30,
    "start_time": "2024-10-26T10:08:31.997Z"
   },
   {
    "duration": 21,
    "start_time": "2024-10-26T10:08:32.029Z"
   },
   {
    "duration": 32,
    "start_time": "2024-10-26T10:08:32.052Z"
   },
   {
    "duration": 22,
    "start_time": "2024-10-26T10:08:32.086Z"
   },
   {
    "duration": 17,
    "start_time": "2024-10-26T10:08:32.109Z"
   },
   {
    "duration": 27,
    "start_time": "2024-10-26T10:08:32.127Z"
   },
   {
    "duration": 26,
    "start_time": "2024-10-26T10:08:32.155Z"
   },
   {
    "duration": 15,
    "start_time": "2024-10-26T10:08:32.182Z"
   },
   {
    "duration": 17,
    "start_time": "2024-10-26T10:08:32.198Z"
   },
   {
    "duration": 17,
    "start_time": "2024-10-26T10:08:32.217Z"
   },
   {
    "duration": 13,
    "start_time": "2024-10-26T10:08:32.235Z"
   },
   {
    "duration": 19,
    "start_time": "2024-10-26T10:08:32.250Z"
   },
   {
    "duration": 20,
    "start_time": "2024-10-26T10:08:32.270Z"
   },
   {
    "duration": 23,
    "start_time": "2024-10-26T10:08:32.292Z"
   },
   {
    "duration": 24,
    "start_time": "2024-10-26T10:08:32.317Z"
   },
   {
    "duration": 29,
    "start_time": "2024-10-26T10:08:32.342Z"
   },
   {
    "duration": 11,
    "start_time": "2024-10-26T10:08:32.373Z"
   },
   {
    "duration": 7,
    "start_time": "2024-10-26T10:08:32.386Z"
   },
   {
    "duration": 22,
    "start_time": "2024-10-26T10:08:32.397Z"
   },
   {
    "duration": 9,
    "start_time": "2024-10-26T10:08:32.421Z"
   },
   {
    "duration": 5,
    "start_time": "2024-10-26T10:08:32.431Z"
   },
   {
    "duration": 11,
    "start_time": "2024-10-26T10:08:32.437Z"
   },
   {
    "duration": 10,
    "start_time": "2024-10-26T10:08:32.451Z"
   },
   {
    "duration": 8,
    "start_time": "2024-10-26T10:08:32.463Z"
   },
   {
    "duration": 5,
    "start_time": "2024-10-26T10:08:32.473Z"
   },
   {
    "duration": 4,
    "start_time": "2024-10-26T10:08:32.480Z"
   },
   {
    "duration": 5,
    "start_time": "2024-10-26T10:08:32.486Z"
   },
   {
    "duration": 21,
    "start_time": "2024-10-26T10:08:32.492Z"
   },
   {
    "duration": 9,
    "start_time": "2024-10-26T10:08:32.515Z"
   },
   {
    "duration": 36,
    "start_time": "2024-10-26T10:08:32.525Z"
   },
   {
    "duration": 267,
    "start_time": "2024-10-26T10:08:32.563Z"
   },
   {
    "duration": 194,
    "start_time": "2024-10-26T10:08:32.832Z"
   },
   {
    "duration": 12,
    "start_time": "2024-10-26T10:08:33.028Z"
   },
   {
    "duration": 193,
    "start_time": "2024-10-26T10:08:33.051Z"
   },
   {
    "duration": 220,
    "start_time": "2024-10-26T10:08:33.245Z"
   },
   {
    "duration": 16,
    "start_time": "2024-10-26T10:08:33.466Z"
   },
   {
    "duration": 9,
    "start_time": "2024-10-26T10:08:33.484Z"
   },
   {
    "duration": 31,
    "start_time": "2024-10-26T10:08:33.495Z"
   },
   {
    "duration": 35,
    "start_time": "2024-10-26T10:08:33.528Z"
   },
   {
    "duration": 11,
    "start_time": "2024-10-26T10:08:33.565Z"
   },
   {
    "duration": 13,
    "start_time": "2024-10-26T10:08:33.578Z"
   },
   {
    "duration": 21,
    "start_time": "2024-10-26T10:08:33.593Z"
   },
   {
    "duration": 15,
    "start_time": "2024-10-26T10:08:33.616Z"
   },
   {
    "duration": 24,
    "start_time": "2024-10-26T10:08:33.633Z"
   },
   {
    "duration": 172,
    "start_time": "2024-10-26T10:08:33.659Z"
   },
   {
    "duration": 213,
    "start_time": "2024-10-26T10:08:33.832Z"
   },
   {
    "duration": 178,
    "start_time": "2024-10-26T10:08:34.047Z"
   },
   {
    "duration": 5,
    "start_time": "2024-10-26T10:08:34.226Z"
   },
   {
    "duration": 19,
    "start_time": "2024-10-26T10:08:34.233Z"
   },
   {
    "duration": 26,
    "start_time": "2024-10-26T10:08:34.254Z"
   },
   {
    "duration": 6,
    "start_time": "2024-10-26T10:08:34.282Z"
   },
   {
    "duration": 34,
    "start_time": "2024-10-26T10:08:34.289Z"
   },
   {
    "duration": 33,
    "start_time": "2024-10-26T10:08:34.325Z"
   },
   {
    "duration": 23,
    "start_time": "2024-10-26T10:08:34.360Z"
   },
   {
    "duration": 56,
    "start_time": "2024-10-26T10:08:34.385Z"
   },
   {
    "duration": 13,
    "start_time": "2024-10-26T10:08:34.443Z"
   },
   {
    "duration": 11,
    "start_time": "2024-10-26T10:08:34.457Z"
   },
   {
    "duration": 9,
    "start_time": "2024-10-26T10:08:34.469Z"
   },
   {
    "duration": 33,
    "start_time": "2024-10-26T10:08:34.479Z"
   },
   {
    "duration": 192,
    "start_time": "2024-10-26T10:08:34.514Z"
   },
   {
    "duration": 180,
    "start_time": "2024-10-26T10:08:34.707Z"
   },
   {
    "duration": 172,
    "start_time": "2024-10-26T10:08:34.888Z"
   },
   {
    "duration": 176,
    "start_time": "2024-10-26T10:08:35.061Z"
   },
   {
    "duration": 188,
    "start_time": "2024-10-26T10:08:35.240Z"
   },
   {
    "duration": 168,
    "start_time": "2024-10-26T10:08:35.430Z"
   },
   {
    "duration": 182,
    "start_time": "2024-10-26T10:08:35.600Z"
   },
   {
    "duration": 4,
    "start_time": "2024-10-26T10:08:35.784Z"
   },
   {
    "duration": 207,
    "start_time": "2024-10-26T10:08:35.791Z"
   },
   {
    "duration": 29,
    "start_time": "2024-10-26T10:08:36.000Z"
   },
   {
    "duration": 35,
    "start_time": "2024-10-26T10:08:36.031Z"
   },
   {
    "duration": 3369,
    "start_time": "2024-10-26T10:08:36.068Z"
   },
   {
    "duration": 15,
    "start_time": "2024-10-26T10:08:39.438Z"
   },
   {
    "duration": 14,
    "start_time": "2024-10-26T10:08:39.459Z"
   },
   {
    "duration": 13,
    "start_time": "2024-10-26T10:08:39.475Z"
   },
   {
    "duration": 16,
    "start_time": "2024-10-26T10:08:39.490Z"
   },
   {
    "duration": 12,
    "start_time": "2024-10-26T10:08:39.507Z"
   },
   {
    "duration": 5,
    "start_time": "2024-10-26T10:08:39.520Z"
   },
   {
    "duration": 5,
    "start_time": "2024-10-26T10:08:39.526Z"
   },
   {
    "duration": 19,
    "start_time": "2024-10-26T10:08:39.533Z"
   },
   {
    "duration": 16,
    "start_time": "2024-10-26T10:08:39.554Z"
   },
   {
    "duration": 13,
    "start_time": "2024-10-26T10:08:39.572Z"
   },
   {
    "duration": 8019,
    "start_time": "2024-10-26T10:14:02.476Z"
   },
   {
    "duration": 107,
    "start_time": "2024-10-26T10:14:10.498Z"
   },
   {
    "duration": 13,
    "start_time": "2024-10-26T10:14:10.606Z"
   },
   {
    "duration": 33,
    "start_time": "2024-10-26T10:14:10.621Z"
   },
   {
    "duration": 10,
    "start_time": "2024-10-26T10:14:10.656Z"
   },
   {
    "duration": 12,
    "start_time": "2024-10-26T10:14:10.667Z"
   },
   {
    "duration": 30,
    "start_time": "2024-10-26T10:14:10.681Z"
   },
   {
    "duration": 48,
    "start_time": "2024-10-26T10:14:10.712Z"
   },
   {
    "duration": 75,
    "start_time": "2024-10-26T10:14:10.762Z"
   },
   {
    "duration": 56,
    "start_time": "2024-10-26T10:14:10.840Z"
   },
   {
    "duration": 4,
    "start_time": "2024-10-26T10:14:10.898Z"
   },
   {
    "duration": 20,
    "start_time": "2024-10-26T10:14:10.903Z"
   },
   {
    "duration": 4,
    "start_time": "2024-10-26T10:14:10.925Z"
   },
   {
    "duration": 12,
    "start_time": "2024-10-26T10:14:10.931Z"
   },
   {
    "duration": 7,
    "start_time": "2024-10-26T10:14:10.945Z"
   },
   {
    "duration": 12,
    "start_time": "2024-10-26T10:14:10.954Z"
   },
   {
    "duration": 17,
    "start_time": "2024-10-26T10:14:10.968Z"
   },
   {
    "duration": 10,
    "start_time": "2024-10-26T10:14:10.986Z"
   },
   {
    "duration": 4,
    "start_time": "2024-10-26T10:14:10.998Z"
   },
   {
    "duration": 12,
    "start_time": "2024-10-26T10:14:11.004Z"
   },
   {
    "duration": 5,
    "start_time": "2024-10-26T10:14:11.017Z"
   },
   {
    "duration": 35,
    "start_time": "2024-10-26T10:14:11.023Z"
   },
   {
    "duration": 7,
    "start_time": "2024-10-26T10:14:11.060Z"
   },
   {
    "duration": 8,
    "start_time": "2024-10-26T10:14:11.069Z"
   },
   {
    "duration": 18,
    "start_time": "2024-10-26T10:14:11.079Z"
   },
   {
    "duration": 16,
    "start_time": "2024-10-26T10:14:11.099Z"
   },
   {
    "duration": 84,
    "start_time": "2024-10-26T10:14:11.117Z"
   },
   {
    "duration": 8,
    "start_time": "2024-10-26T10:14:11.207Z"
   },
   {
    "duration": 10,
    "start_time": "2024-10-26T10:14:11.217Z"
   },
   {
    "duration": 12,
    "start_time": "2024-10-26T10:14:11.229Z"
   },
   {
    "duration": 8,
    "start_time": "2024-10-26T10:14:11.243Z"
   },
   {
    "duration": 6,
    "start_time": "2024-10-26T10:14:11.253Z"
   },
   {
    "duration": 5,
    "start_time": "2024-10-26T10:14:11.261Z"
   },
   {
    "duration": 13,
    "start_time": "2024-10-26T10:14:11.268Z"
   },
   {
    "duration": 18,
    "start_time": "2024-10-26T10:14:11.282Z"
   },
   {
    "duration": 10,
    "start_time": "2024-10-26T10:14:11.302Z"
   },
   {
    "duration": 6,
    "start_time": "2024-10-26T10:14:11.313Z"
   },
   {
    "duration": 10,
    "start_time": "2024-10-26T10:14:11.320Z"
   },
   {
    "duration": 22,
    "start_time": "2024-10-26T10:14:11.332Z"
   },
   {
    "duration": 213,
    "start_time": "2024-10-26T10:14:11.356Z"
   },
   {
    "duration": 192,
    "start_time": "2024-10-26T10:14:11.571Z"
   },
   {
    "duration": 12,
    "start_time": "2024-10-26T10:14:11.765Z"
   },
   {
    "duration": 235,
    "start_time": "2024-10-26T10:14:11.778Z"
   },
   {
    "duration": 224,
    "start_time": "2024-10-26T10:14:12.015Z"
   },
   {
    "duration": 24,
    "start_time": "2024-10-26T10:14:12.240Z"
   },
   {
    "duration": 8,
    "start_time": "2024-10-26T10:14:12.265Z"
   },
   {
    "duration": 7,
    "start_time": "2024-10-26T10:14:12.274Z"
   },
   {
    "duration": 6,
    "start_time": "2024-10-26T10:14:12.282Z"
   },
   {
    "duration": 18,
    "start_time": "2024-10-26T10:14:12.289Z"
   },
   {
    "duration": 20,
    "start_time": "2024-10-26T10:14:12.309Z"
   },
   {
    "duration": 5,
    "start_time": "2024-10-26T10:14:12.330Z"
   },
   {
    "duration": 18,
    "start_time": "2024-10-26T10:14:12.337Z"
   },
   {
    "duration": 7,
    "start_time": "2024-10-26T10:14:12.356Z"
   },
   {
    "duration": 178,
    "start_time": "2024-10-26T10:14:12.365Z"
   },
   {
    "duration": 168,
    "start_time": "2024-10-26T10:14:12.544Z"
   },
   {
    "duration": 175,
    "start_time": "2024-10-26T10:14:12.714Z"
   },
   {
    "duration": 4,
    "start_time": "2024-10-26T10:14:12.890Z"
   },
   {
    "duration": 9,
    "start_time": "2024-10-26T10:14:12.896Z"
   },
   {
    "duration": 15,
    "start_time": "2024-10-26T10:14:12.906Z"
   },
   {
    "duration": 4,
    "start_time": "2024-10-26T10:14:12.922Z"
   },
   {
    "duration": 6,
    "start_time": "2024-10-26T10:14:12.928Z"
   },
   {
    "duration": 22,
    "start_time": "2024-10-26T10:14:12.935Z"
   },
   {
    "duration": 5,
    "start_time": "2024-10-26T10:14:12.959Z"
   },
   {
    "duration": 20,
    "start_time": "2024-10-26T10:14:12.966Z"
   },
   {
    "duration": 6,
    "start_time": "2024-10-26T10:14:12.988Z"
   },
   {
    "duration": 16,
    "start_time": "2024-10-26T10:14:12.996Z"
   },
   {
    "duration": 17,
    "start_time": "2024-10-26T10:14:13.014Z"
   },
   {
    "duration": 43,
    "start_time": "2024-10-26T10:14:13.033Z"
   },
   {
    "duration": 176,
    "start_time": "2024-10-26T10:14:13.078Z"
   },
   {
    "duration": 175,
    "start_time": "2024-10-26T10:14:13.256Z"
   },
   {
    "duration": 190,
    "start_time": "2024-10-26T10:14:13.432Z"
   },
   {
    "duration": 174,
    "start_time": "2024-10-26T10:14:13.623Z"
   },
   {
    "duration": 212,
    "start_time": "2024-10-26T10:14:13.798Z"
   },
   {
    "duration": 165,
    "start_time": "2024-10-26T10:14:14.012Z"
   },
   {
    "duration": 167,
    "start_time": "2024-10-26T10:14:14.178Z"
   },
   {
    "duration": 4,
    "start_time": "2024-10-26T10:14:14.351Z"
   },
   {
    "duration": 176,
    "start_time": "2024-10-26T10:14:14.357Z"
   },
   {
    "duration": 34,
    "start_time": "2024-10-26T10:14:14.534Z"
   },
   {
    "duration": 18,
    "start_time": "2024-10-26T10:14:14.569Z"
   },
   {
    "duration": 3297,
    "start_time": "2024-10-26T10:14:14.589Z"
   },
   {
    "duration": 4,
    "start_time": "2024-10-26T10:14:17.888Z"
   },
   {
    "duration": 7,
    "start_time": "2024-10-26T10:14:17.898Z"
   },
   {
    "duration": 18,
    "start_time": "2024-10-26T10:14:17.906Z"
   },
   {
    "duration": 31,
    "start_time": "2024-10-26T10:14:17.926Z"
   },
   {
    "duration": 12,
    "start_time": "2024-10-26T10:14:17.958Z"
   },
   {
    "duration": 5,
    "start_time": "2024-10-26T10:14:17.972Z"
   },
   {
    "duration": 5,
    "start_time": "2024-10-26T10:14:17.979Z"
   },
   {
    "duration": 37,
    "start_time": "2024-10-26T10:14:17.986Z"
   },
   {
    "duration": 0,
    "start_time": "2024-10-26T10:14:18.024Z"
   },
   {
    "duration": 0,
    "start_time": "2024-10-26T10:14:18.025Z"
   },
   {
    "duration": 0,
    "start_time": "2024-10-26T10:14:18.026Z"
   },
   {
    "duration": 57,
    "start_time": "2024-10-26T10:14:57.111Z"
   },
   {
    "duration": 4,
    "start_time": "2024-10-26T10:15:03.349Z"
   },
   {
    "duration": 30,
    "start_time": "2024-10-26T10:18:03.297Z"
   }
  ],
  "kernelspec": {
   "display_name": "Python 3 (ipykernel)",
   "language": "python",
   "name": "python3"
  },
  "language_info": {
   "codemirror_mode": {
    "name": "ipython",
    "version": 3
   },
   "file_extension": ".py",
   "mimetype": "text/x-python",
   "name": "python",
   "nbconvert_exporter": "python",
   "pygments_lexer": "ipython3",
   "version": "3.9.5"
  },
  "toc": {
   "base_numbering": 1,
   "nav_menu": {},
   "number_sections": true,
   "sideBar": true,
   "skip_h1_title": true,
   "title_cell": "Table of Contents",
   "title_sidebar": "Contents",
   "toc_cell": false,
   "toc_position": {},
   "toc_section_display": true,
   "toc_window_display": false
  }
 },
 "nbformat": 4,
 "nbformat_minor": 5
}
